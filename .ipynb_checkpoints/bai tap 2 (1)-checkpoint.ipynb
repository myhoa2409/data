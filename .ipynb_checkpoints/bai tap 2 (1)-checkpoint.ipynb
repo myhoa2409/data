{
 "cells": [
  {
   "cell_type": "markdown",
   "id": "dcf155d6-0a61-40f9-8e0b-3e5f722980b5",
   "metadata": {
    "tags": []
   },
   "source": [
    "# Bài tập số 2 (Pandas)"
   ]
  },
  {
   "cell_type": "markdown",
   "id": "e7bdbc2c-0c46-4490-a359-db96e3118218",
   "metadata": {
    "tags": []
   },
   "source": [
    "### Trước khi bắt đầu và sau khi code xong, chọn 'Kernel'->'Restart Kernel and Run All Cells' để có thể chấm điểm chính xác.\n",
    "### Các bạn viết code vào các cell trả lời.  \n",
    "### Cell nào cho ra đúng kết quả sẽ có thêm đoạn ===== Done =====  "
   ]
  },
  {
   "cell_type": "code",
   "execution_count": 1,
   "id": "cc9bc6f5-d860-4d39-89de-356e7274e153",
   "metadata": {
    "jupyter": {
     "source_hidden": true
    },
    "tags": []
   },
   "outputs": [],
   "source": [
    "# Không được động vào cell này\n",
    "from ipywidgets import widgets\n",
    "from IPython.display import HTML,Javascript, display\n",
    "from IPython.core.magic import register_cell_magic\n",
    "from IPython.utils.capture import capture_output\n",
    "from IPython import get_ipython\n",
    "from IPython.core import magic_arguments\n",
    "\n",
    "response = ''\n",
    "score = [0]*11\n",
    "\n",
    "def popup(text):\n",
    "    display(HTML(\"<script>alert('{}');</script>\".format(text)))\n",
    "\n",
    "def final_score(score):\n",
    "    final = 'Diem so la: ' +  str(sum(score)) + '/10'\n",
    "    print(final)\n",
    "    popup(final)\n",
    "\n",
    "@magic_arguments.magic_arguments()\n",
    "@magic_arguments.argument('output', type=str, default='', nargs='?',\n",
    "    help=\"\"\"The name of the variable in which to store output.\n",
    "    This is a utils.io.CapturedIO object with stdout/err attributes\n",
    "    for the text of the captured output.\n",
    "    CapturedOutput also has a show() method for displaying the output,\n",
    "    and __call__ as well, so you can use that to quickly display the\n",
    "    output.\n",
    "    If unspecified, captured output is discarded.\n",
    "    \"\"\"\n",
    ")\n",
    "@magic_arguments.argument('--no-stderr', action=\"store_true\",\n",
    "    help=\"\"\"Don't capture stderr.\"\"\"\n",
    ")\n",
    "@magic_arguments.argument('--no-stdout', action=\"store_true\",\n",
    "    help=\"\"\"Don't capture stdout.\"\"\"\n",
    ")\n",
    "@magic_arguments.argument('--no-display', action=\"store_true\",\n",
    "    help=\"\"\"Don't capture IPython's rich display.\"\"\"\n",
    ")    \n",
    "\n",
    "\n",
    "@register_cell_magic\n",
    "def tee(line, cell):\n",
    "    args = magic_arguments.parse_argstring(tee, line)\n",
    "    out = not args.no_stdout\n",
    "    err = not args.no_stderr\n",
    "    disp = not args.no_display\n",
    "    with capture_output(out, err, disp) as io:\n",
    "        get_ipython().run_cell(cell)\n",
    "    if args.output:\n",
    "        get_ipython().user_ns[args.output] = io\n",
    "    \n",
    "    io()\n",
    "\n",
    "@register_cell_magic('cauhoi')\n",
    "def cauhoi(line, cell):\n",
    "        get_ipython().run_cell(cell)\n",
    "        check[int(line)]()\n",
    "        \n",
    "def cau1():\n",
    "    find = str(response).find('Đã khai báo thư viện thành công')\n",
    "    if find >=0 :\n",
    "        score[1] = 1\n",
    "        print('===== Done =====')\n",
    "    else:\n",
    "        score[1] = 0\n",
    "def cau2():\n",
    "    find = str(response).find('Đã nhập dữ liệu thành công')\n",
    "    if find >=0 :\n",
    "        score[2] = 1\n",
    "        print('===== Done =====')\n",
    "    else:\n",
    "        score[2] = 0\n",
    "def cau3():\n",
    "    find = str(response).find('RangeIndex: 325 entries, 0 to 324')\n",
    "    if find >=0 :\n",
    "        score[3] = 1\n",
    "        print('===== Done =====')\n",
    "    else:\n",
    "        score[3] = 0\n",
    "def cau4():\n",
    "    find1 = str(response).find('325')\n",
    "    find2 = str(response).find('74')\n",
    "    if ((find1 >=0) & (find2 >= 0)) :\n",
    "        score[4] = 1\n",
    "        print('===== Done =====')\n",
    "    else:\n",
    "        score[4] = 0\n",
    "def cau5():\n",
    "    find = str(response).find('Nơi sinh       TỔNG\\nTổng         910232')\n",
    "    if find >=0 :\n",
    "        score[5] = 1\n",
    "        print('===== Done =====')\n",
    "    else:\n",
    "        score[5] = 0\n",
    "def cau6():\n",
    "    find1 = str(response).find('      2015   2016   2017   2018\\n0      NaN    NaN    NaN    NaN')\n",
    "    find2 = str(response).find('323  453.0  444.0  333.0  234.0')\n",
    "    find3 = str(response).find('324  27585.0  31956.0  36450.0  35737.0')\n",
    "    # print(find1, ' ', find2, ' ', find3)\n",
    "    if (find1 >=0) & (find2 >=0) & (find3 <0):\n",
    "        score[6] = 1\n",
    "        print('===== Done =====')\n",
    "    else:\n",
    "        score[6] = 0\n",
    "def cau7():\n",
    "    find1 = str(response).find('\\n Nơi sinh\\nEngland          177913\\nIndia             67243\\nSouth Africa      61152\\nChina             58987\\nFiji              51811\\nWestern Samoa     45347\\nPhilippines       38717\\nSamoa             34787\\nScotland          25632\\nKorea             20993\\n')\n",
    "    find2 = str(response).find('India             4665.0\\nEngland           3974.0\\nPhilippines       3565.0\\nFiji              3242.0\\nSouth Africa      2894.0\\nSamoa             2871.0\\nChina             1210.0\\nUnited Kingdom    1191.0\\nTonga              684.0\\nAustralia          679.0\\n')\n",
    "    find3 = str(response).find('21')\n",
    "    find4 = str(response).find('20')\n",
    "    if (find1 >=0) & (find2 >=0) & (find3 >0) & (find3 >0):\n",
    "        score[7] = 1\n",
    "        print('===== Done =====')\n",
    "    else:\n",
    "        score[7] = 0\n",
    "def cau8():\n",
    "    find = str(response).find('\\nName: 2020, Length: 325, dtype: int32\\n')\n",
    "    if find >=0 :\n",
    "        score[8] = 1\n",
    "        print('===== Done =====')\n",
    "    else:\n",
    "        score[8] = 0\n",
    "def cau9():\n",
    "    # find = str(response).find('Đã nhập dữ liệu thành công')\n",
    "    try:\n",
    "        if (data['Nơi sinh'][324] == 'Zodiac') & (data.loc[324,'1949':].notnull().values.any()) :\n",
    "            score[9] = 1\n",
    "            print('===== Done =====')\n",
    "        else:\n",
    "            score[9] = 0\n",
    "    except:\n",
    "        score[9] = 0\n",
    "def cau10():\n",
    "    # find = str(response).find('Đã nhập dữ liệu thành công')\n",
    "    try:\n",
    "        if (data['Nơi sinh'][323] == 'Zimbabwe') & (data['Tổng'][323] != 8284.0) & (data['%'][323] != '0.91%') :\n",
    "            score[10] = 1\n",
    "            print('===== Done =====')\n",
    "        else:\n",
    "            score[10] = 0\n",
    "    except:\n",
    "        score[10] = 0\n",
    "    \n",
    "check = {1: cau1, 2:cau2, 3: cau3, 4: cau4, 5: cau5, 6: cau6, 7: cau7, 8: cau8, 9: cau9, 10: cau10}"
   ]
  },
  {
   "cell_type": "markdown",
   "id": "51ba9894-b5f3-4511-b264-bbf9409a5cfe",
   "metadata": {},
   "source": [
    "## Câu 1. Khai báo thư viện pandas, numpy. Sau đó xuất ra thông báo: 'Đã khai báo thư viện thành công'"
   ]
  },
  {
   "cell_type": "code",
   "execution_count": 2,
   "id": "76d926e7-9a08-4582-87d6-cd35479aaccc",
   "metadata": {},
   "outputs": [],
   "source": [
    "%%cauhoi 1\n",
    "%%tee response\n",
    "# Code dưới dòng này\n",
    "\n"
   ]
  },
  {
   "cell_type": "markdown",
   "id": "c5124c01-10cc-47ab-bf04-e116f81b029b",
   "metadata": {},
   "source": [
    "## Câu 2. Nhập dữ liệu dân số nhập cư 'granted-citizenship-1949-2019.csv', biến tên data. Hiển thị dữ liệu. Sau đó xuất ra thông báo: 'Đã nhập dữ liệu thành công'"
   ]
  },
  {
   "cell_type": "code",
   "execution_count": 3,
   "id": "74ac4bbb-c415-4e0c-85d2-02aaf127eb61",
   "metadata": {},
   "outputs": [],
   "source": [
    "%%cauhoi 2\n",
    "%%tee response\n",
    "# Code dưới dòng này\n",
    "\n"
   ]
  },
  {
   "cell_type": "markdown",
   "id": "9f56c798-5731-40cf-8866-b42730d951bb",
   "metadata": {},
   "source": [
    "## Câu 3. Tìm hiểu các thống kê cơ bản về dữ liệu. Xuất ra đánh giá của bạn về dữ liệu này."
   ]
  },
  {
   "cell_type": "code",
   "execution_count": 4,
   "id": "9315abd6-3809-4763-941d-56d738946de9",
   "metadata": {},
   "outputs": [],
   "source": [
    "%%cauhoi 3\n",
    "%%tee response\n",
    "# Code dưới dòng này\n",
    "\n"
   ]
  },
  {
   "cell_type": "markdown",
   "id": "7e350778-a32a-441e-b79f-4953dd23120e",
   "metadata": {},
   "source": [
    "## Câu 4. Xuất ra số dòng và số cột của dữ liệu."
   ]
  },
  {
   "cell_type": "markdown",
   "id": "c1a73764-c7b5-4770-b7d5-5812c9e25f98",
   "metadata": {},
   "source": [
    "**Gợi ý:**"
   ]
  },
  {
   "cell_type": "code",
   "execution_count": 5,
   "id": "8dc62d5f-eeb1-4ae7-b82e-8e2d9d796028",
   "metadata": {
    "jupyter": {
     "source_hidden": true
    },
    "tags": []
   },
   "outputs": [],
   "source": [
    "# nhớ dùng print(...) để chương trình có thể chấm điểm"
   ]
  },
  {
   "cell_type": "code",
   "execution_count": 6,
   "id": "bb2a333d-27d8-4cc9-927c-528c1e3a2d8d",
   "metadata": {},
   "outputs": [],
   "source": [
    "%%cauhoi 4\n",
    "%%tee response\n",
    "# Code dưới dòng này\n",
    "\n"
   ]
  },
  {
   "cell_type": "markdown",
   "id": "c74f94e9-0873-417c-9e89-142571a6450c",
   "metadata": {},
   "source": [
    "## Câu 5. Việt hóa một số từ \"Country of Birth\" -> \"Nơi sinh\", \"Total\" -> \"Tổng\", \"TOTAL\" -> \"TỔNG\". Hiển thị bảng. \n",
    "## Truy xuất dòng 'TỔNG' dùng .loc[...]."
   ]
  },
  {
   "cell_type": "markdown",
   "id": "ade2abda-c212-4178-871e-0e46d271ecc4",
   "metadata": {},
   "source": [
    "**Gợi ý:**"
   ]
  },
  {
   "cell_type": "code",
   "execution_count": 7,
   "id": "3358686a-02ac-4244-a882-3ec247be226f",
   "metadata": {
    "jupyter": {
     "source_hidden": true
    },
    "tags": []
   },
   "outputs": [],
   "source": [
    "# Nhớ dùng hàm print() để chương trình tính được điểm"
   ]
  },
  {
   "cell_type": "code",
   "execution_count": 8,
   "id": "4a8b54e6-d552-47ae-aa5c-c26652df46d4",
   "metadata": {},
   "outputs": [],
   "source": [
    "%%cauhoi 5\n",
    "%%tee response\n",
    "# Code dưới dòng này\n",
    "\n"
   ]
  },
  {
   "cell_type": "markdown",
   "id": "fe53a561-c013-4775-8d2a-b1b00f316cb1",
   "metadata": {
    "tags": []
   },
   "source": [
    "## Câu 6. Hiển thị (print) số lượng nhập cư các nước từ năm 2015 đến 2018 dùng hàm .loc[...]"
   ]
  },
  {
   "cell_type": "markdown",
   "id": "65051a4d-059e-426d-8a8b-bec5fa5b93f2",
   "metadata": {},
   "source": [
    "**Gợi ý:**"
   ]
  },
  {
   "cell_type": "code",
   "execution_count": 9,
   "id": "32d92d17-9d47-41af-ac33-10b3e001bbc8",
   "metadata": {
    "jupyter": {
     "source_hidden": true
    },
    "tags": []
   },
   "outputs": [],
   "source": [
    "#Không chứa hàng cuối"
   ]
  },
  {
   "cell_type": "code",
   "execution_count": 10,
   "id": "fca2222c-38b5-45b0-a86a-4fedf0037bf9",
   "metadata": {},
   "outputs": [],
   "source": [
    "%%cauhoi 6\n",
    "%%tee response\n",
    "# Code dưới dòng này\n",
    "\n"
   ]
  },
  {
   "cell_type": "markdown",
   "id": "5241559e-e517-4938-89a1-3ec9d9708ab4",
   "metadata": {},
   "source": [
    "## Câu 7. a) Xuất ra 10 nước có lượng người nhập cư vào New Zealand cao nhất chỉ tính riêng năm 2017 và b) trong toàn bộ lịch sử theo dõi. c) Nếu chỉ xét năm 2017, Việt Nam có bao nhiêu người nhập cư thành công và xếp thứ mấy trên bảng xếp hạng? d) Câu hỏi tương tự nếu xét toàn bộ lịch sử theo dõi."
   ]
  },
  {
   "cell_type": "markdown",
   "id": "202e1df1-9be5-4a90-b74f-271e0135ce29",
   "metadata": {},
   "source": [
    "**Gợi ý:**"
   ]
  },
  {
   "cell_type": "code",
   "execution_count": 11,
   "id": "98f1131e-8746-4eec-b80a-a1586dadfe22",
   "metadata": {
    "jupyter": {
     "source_hidden": true
    },
    "tags": []
   },
   "outputs": [],
   "source": [
    "# a) Dùng lệnh df.groupby('Cột 1')['Cột 2'].sum().sort_values(ascending=False) để tạo ra 1 DataFrame (hoặc Series) mới có cột index là nội dung của 'Tên cột 1', nội dung là 'nội dung' của 'Cột 2'\n",
    "# b) 'Cột 2' là '2017'\n",
    "# Chú ý: \"TỔNG\" không phải là nước"
   ]
  },
  {
   "cell_type": "code",
   "execution_count": 12,
   "id": "562ae539-bd16-4d68-ba21-4db98a987cd6",
   "metadata": {},
   "outputs": [],
   "source": [
    "%%cauhoi 7\n",
    "%%tee response\n",
    "# Code dưới dòng này\n",
    "\n",
    "\n"
   ]
  },
  {
   "cell_type": "markdown",
   "id": "4d908fbc-0bcb-4ef3-848e-991c29ba816b",
   "metadata": {},
   "source": [
    "## Câu 8. Thêm dữ liệu năm 2020 vào cuối bảng. Giá trị điền vào là số nguyên ngẫu nhiên từ 0 cho đến 300. Hiển thị bảng. Truy xuất cột năm 2020 dùng hàm .loc[...]. Bạn có thấy vấn đề của bảng mới này ở đâu không?"
   ]
  },
  {
   "cell_type": "markdown",
   "id": "888cd19e-2140-4fa5-a9e8-87a17b310906",
   "metadata": {},
   "source": [
    "**Gợi ý:**"
   ]
  },
  {
   "cell_type": "code",
   "execution_count": 13,
   "id": "b2a1494d-a7ba-4f1d-98f5-a3dc7acb8a37",
   "metadata": {
    "jupyter": {
     "source_hidden": true
    },
    "tags": []
   },
   "outputs": [],
   "source": [
    "# dùng hàm np.random.randint(low, high, size, dtype=int) trong đó low là số thấp nhất, high là số cao nhất, size là số lượng\n",
    "# nhớ dùng print(...) để chương trình có thể chấm điểm"
   ]
  },
  {
   "cell_type": "code",
   "execution_count": 14,
   "id": "e67da470-9675-4dc6-90d6-722253a09a3c",
   "metadata": {},
   "outputs": [],
   "source": [
    "%%cauhoi 8\n",
    "%%tee response\n",
    "# Code dưới dòng này\n",
    "\n"
   ]
  },
  {
   "cell_type": "markdown",
   "id": "81110404-25a2-4d47-a455-42ec642781c3",
   "metadata": {},
   "source": [
    "## Câu 9. Thêm nước Zodiac vào sau nước Zimbabwe. Giá trị điền vào là số ngẫu nhiên từ 0 cho đến 600. Hiển thị bảng. Bạn có thấy vấn đề của bảng mới này ở đâu không?"
   ]
  },
  {
   "cell_type": "code",
   "execution_count": 15,
   "id": "94d29d5e-43c0-4fdf-90f5-1151dddccd9b",
   "metadata": {},
   "outputs": [],
   "source": [
    "%%cauhoi 9\n",
    "%%tee response\n",
    "# Code dưới dòng này\n",
    "\n"
   ]
  },
  {
   "cell_type": "markdown",
   "id": "b129bbf0-044c-40d7-99b9-24270bc14b10",
   "metadata": {
    "tags": []
   },
   "source": [
    "## Câu 10. Hãy tính toán lại các cột 'Tổng', '%', và hàng 'TỔNG' sao cho đúng. Hiển thị bảng.\n",
    "## Thực hiện các phép tính tương tự như câu 7, hãy đánh giá xem các số liệu được thêm vào ảnh hưởng thế nào tới kết quả."
   ]
  },
  {
   "cell_type": "markdown",
   "id": "30c3dedc-9591-4c32-a3aa-9548ed13d7a4",
   "metadata": {},
   "source": [
    "**Gợi ý:**"
   ]
  },
  {
   "cell_type": "code",
   "execution_count": 16,
   "id": "0dfc16cf-972a-4523-86bf-ddcfc2c10b7a",
   "metadata": {
    "jupyter": {
     "source_hidden": true
    },
    "tags": []
   },
   "outputs": [],
   "source": [
    "# dùng dữ-liệu.sum(axis=0 hoặc 1) để tính tổng, trong đó 0 hoặc 1 là hướng tính tổng theo chiều dọc hoặc chiều ngang\n",
    "# Chuyển đổi float sang số% và ngược lại, tham khảo https://levelup.gitconnected.com/convert-percentage-string-to-numeric-and-vice-versa-in-pandas-18a3d66e2853"
   ]
  },
  {
   "cell_type": "code",
   "execution_count": 17,
   "id": "b8db5d25-443f-4663-9946-d57456cb411c",
   "metadata": {},
   "outputs": [],
   "source": [
    "%%cauhoi 10\n",
    "%%tee response\n",
    "# Code dưới dòng này\n",
    "\n"
   ]
  },
  {
   "cell_type": "markdown",
   "id": "7167f990-3136-4ff1-9fc2-9592efe885a9",
   "metadata": {},
   "source": [
    "# Tính điểm"
   ]
  },
  {
   "cell_type": "code",
   "execution_count": 18,
   "id": "5721bd76-e556-40d1-8bff-0020eddc14e3",
   "metadata": {},
   "outputs": [
    {
     "name": "stdout",
     "output_type": "stream",
     "text": [
      "Diem so la: 0/10\n"
     ]
    },
    {
     "data": {
      "text/html": [
       "<script>alert('Diem so la: 0/10');</script>"
      ],
      "text/plain": [
       "<IPython.core.display.HTML object>"
      ]
     },
     "metadata": {},
     "output_type": "display_data"
    }
   ],
   "source": [
    "final_score(score)"
   ]
  }
 ],
 "metadata": {
  "kernelspec": {
   "display_name": "Python 3 (ipykernel)",
   "language": "python",
   "name": "python3"
  },
  "language_info": {
   "codemirror_mode": {
    "name": "ipython",
    "version": 3
   },
   "file_extension": ".py",
   "mimetype": "text/x-python",
   "name": "python",
   "nbconvert_exporter": "python",
   "pygments_lexer": "ipython3",
   "version": "3.9.12"
  }
 },
 "nbformat": 4,
 "nbformat_minor": 5
}
