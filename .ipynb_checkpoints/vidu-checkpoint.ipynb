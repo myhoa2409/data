{
 "cells": [
  {
   "cell_type": "code",
   "execution_count": 3,
   "id": "6be210ad-a68e-43b3-84c8-4690f7b6e605",
   "metadata": {},
   "outputs": [
    {
     "name": "stdout",
     "output_type": "stream",
     "text": [
      "Khai báo thư viện thành công\n"
     ]
    }
   ],
   "source": [
    "# Nhập thư viện\n",
    "import pandas as pd\n",
    "import numpy as np\n",
    "print('Khai báo thư viện thành công')"
   ]
  },
  {
   "cell_type": "markdown",
   "id": "c9799ba2-b559-4c7e-812a-4ef95ffb41ea",
   "metadata": {},
   "source": [
    "# DataFrame"
   ]
  },
  {
   "cell_type": "code",
   "execution_count": 4,
   "id": "a0ebc5a2-1bc1-46af-aa99-23e05eb69074",
   "metadata": {},
   "outputs": [
    {
     "data": {
      "text/html": [
       "<div>\n",
       "<style scoped>\n",
       "    .dataframe tbody tr th:only-of-type {\n",
       "        vertical-align: middle;\n",
       "    }\n",
       "\n",
       "    .dataframe tbody tr th {\n",
       "        vertical-align: top;\n",
       "    }\n",
       "\n",
       "    .dataframe thead th {\n",
       "        text-align: right;\n",
       "    }\n",
       "</style>\n",
       "<table border=\"1\" class=\"dataframe\">\n",
       "  <thead>\n",
       "    <tr style=\"text-align: right;\">\n",
       "      <th></th>\n",
       "    </tr>\n",
       "  </thead>\n",
       "  <tbody>\n",
       "  </tbody>\n",
       "</table>\n",
       "</div>"
      ],
      "text/plain": [
       "Empty DataFrame\n",
       "Columns: []\n",
       "Index: []"
      ]
     },
     "execution_count": 4,
     "metadata": {},
     "output_type": "execute_result"
    }
   ],
   "source": [
    "# Tạo DataFrame rỗng\n",
    "df = pd.DataFrame()\n",
    "df"
   ]
  },
  {
   "cell_type": "code",
   "execution_count": 5,
   "id": "846ec2e6-bfca-478c-bc52-24faff1dd1d7",
   "metadata": {},
   "outputs": [
    {
     "data": {
      "text/html": [
       "<div>\n",
       "<style scoped>\n",
       "    .dataframe tbody tr th:only-of-type {\n",
       "        vertical-align: middle;\n",
       "    }\n",
       "\n",
       "    .dataframe tbody tr th {\n",
       "        vertical-align: top;\n",
       "    }\n",
       "\n",
       "    .dataframe thead th {\n",
       "        text-align: right;\n",
       "    }\n",
       "</style>\n",
       "<table border=\"1\" class=\"dataframe\">\n",
       "  <thead>\n",
       "    <tr style=\"text-align: right;\">\n",
       "      <th></th>\n",
       "      <th>0</th>\n",
       "    </tr>\n",
       "  </thead>\n",
       "  <tbody>\n",
       "    <tr>\n",
       "      <th>0</th>\n",
       "      <td>Kế toán</td>\n",
       "    </tr>\n",
       "    <tr>\n",
       "      <th>1</th>\n",
       "      <td>Kinh doanh</td>\n",
       "    </tr>\n",
       "    <tr>\n",
       "      <th>2</th>\n",
       "      <td>Tiếp thị</td>\n",
       "    </tr>\n",
       "  </tbody>\n",
       "</table>\n",
       "</div>"
      ],
      "text/plain": [
       "            0\n",
       "0     Kế toán\n",
       "1  Kinh doanh\n",
       "2    Tiếp thị"
      ]
     },
     "execution_count": 5,
     "metadata": {},
     "output_type": "execute_result"
    }
   ],
   "source": [
    "# Tạo DataFrame từ List:\n",
    "# Khai báo List:\n",
    "lst = ['Kế toán','Kinh doanh','Tiếp thị']\n",
    "# Gán giá trị của List vào DataFrame\n",
    "df = pd.DataFrame(lst)\n",
    "df"
   ]
  },
  {
   "cell_type": "code",
   "execution_count": 6,
   "id": "c454aab6-9028-45ee-a6ac-bbdc12a08b91",
   "metadata": {},
   "outputs": [
    {
     "data": {
      "text/html": [
       "<div>\n",
       "<style scoped>\n",
       "    .dataframe tbody tr th:only-of-type {\n",
       "        vertical-align: middle;\n",
       "    }\n",
       "\n",
       "    .dataframe tbody tr th {\n",
       "        vertical-align: top;\n",
       "    }\n",
       "\n",
       "    .dataframe thead th {\n",
       "        text-align: right;\n",
       "    }\n",
       "</style>\n",
       "<table border=\"1\" class=\"dataframe\">\n",
       "  <thead>\n",
       "    <tr style=\"text-align: right;\">\n",
       "      <th></th>\n",
       "      <th>Nghề</th>\n",
       "      <th>Lương</th>\n",
       "    </tr>\n",
       "  </thead>\n",
       "  <tbody>\n",
       "    <tr>\n",
       "      <th>0</th>\n",
       "      <td>Kế toán</td>\n",
       "      <td>2000</td>\n",
       "    </tr>\n",
       "    <tr>\n",
       "      <th>1</th>\n",
       "      <td>Kinh doanh</td>\n",
       "      <td>2100</td>\n",
       "    </tr>\n",
       "    <tr>\n",
       "      <th>2</th>\n",
       "      <td>Tiếp thị</td>\n",
       "      <td>1900</td>\n",
       "    </tr>\n",
       "  </tbody>\n",
       "</table>\n",
       "</div>"
      ],
      "text/plain": [
       "         Nghề  Lương\n",
       "0     Kế toán   2000\n",
       "1  Kinh doanh   2100\n",
       "2    Tiếp thị   1900"
      ]
     },
     "execution_count": 6,
     "metadata": {},
     "output_type": "execute_result"
    }
   ],
   "source": [
    "# Tạo DataFrame từ Tuple:\n",
    "# Khai báo Tuple:\n",
    "tuples = [('Kế toán', 2000),( 'Kinh doanh', 2100), ('Tiếp thị', 1900)]\n",
    "# Gán giá trị của Tuple vào DataFrame\n",
    "df = pd.DataFrame(tuples, columns=['Nghề','Lương'])\n",
    "df"
   ]
  },
  {
   "cell_type": "code",
   "execution_count": 7,
   "id": "1ec4c434-f083-4a3d-8c88-a1ea56e1b375",
   "metadata": {},
   "outputs": [
    {
     "data": {
      "text/html": [
       "<div>\n",
       "<style scoped>\n",
       "    .dataframe tbody tr th:only-of-type {\n",
       "        vertical-align: middle;\n",
       "    }\n",
       "\n",
       "    .dataframe tbody tr th {\n",
       "        vertical-align: top;\n",
       "    }\n",
       "\n",
       "    .dataframe thead th {\n",
       "        text-align: right;\n",
       "    }\n",
       "</style>\n",
       "<table border=\"1\" class=\"dataframe\">\n",
       "  <thead>\n",
       "    <tr style=\"text-align: right;\">\n",
       "      <th></th>\n",
       "      <th>Công việc</th>\n",
       "      <th>Thu nhập</th>\n",
       "    </tr>\n",
       "  </thead>\n",
       "  <tbody>\n",
       "    <tr>\n",
       "      <th>0</th>\n",
       "      <td>Kỹ sư</td>\n",
       "      <td>3000</td>\n",
       "    </tr>\n",
       "    <tr>\n",
       "      <th>1</th>\n",
       "      <td>Bác sĩ</td>\n",
       "      <td>3100</td>\n",
       "    </tr>\n",
       "    <tr>\n",
       "      <th>2</th>\n",
       "      <td>Giáo viên</td>\n",
       "      <td>2900</td>\n",
       "    </tr>\n",
       "  </tbody>\n",
       "</table>\n",
       "</div>"
      ],
      "text/plain": [
       "   Công việc  Thu nhập\n",
       "0      Kỹ sư      3000\n",
       "1     Bác sĩ      3100\n",
       "2  Giáo viên      2900"
      ]
     },
     "execution_count": 7,
     "metadata": {},
     "output_type": "execute_result"
    }
   ],
   "source": [
    "# Tạo DataFrame từ Dictionary :\n",
    "# Khai báo Dictionary :\n",
    "dic = {'Công việc':['Kỹ sư','Bác sĩ','Giáo viên'],'Thu nhập':[3000, 3100, 2900]}\n",
    "# Gán giá trị của Dictionary vào DataFrame\n",
    "df = pd.DataFrame(dic)\n",
    "df"
   ]
  },
  {
   "cell_type": "markdown",
   "id": "79159406-227c-447c-a40c-3d55b395ae96",
   "metadata": {},
   "source": [
    "# Series"
   ]
  },
  {
   "cell_type": "code",
   "execution_count": 8,
   "id": "28906aea-29e9-4f4a-bd49-61dd0ac484c7",
   "metadata": {},
   "outputs": [
    {
     "data": {
      "text/plain": [
       "0       Kế toán\n",
       "1    Kinh doanh\n",
       "2      Tiếp thị\n",
       "dtype: object"
      ]
     },
     "execution_count": 8,
     "metadata": {},
     "output_type": "execute_result"
    }
   ],
   "source": [
    "# Tạo Series từ Dictionary\n",
    "# Khai báo Dictionary:\n",
    "dict = {0 : 'Kế toán', 1 : 'Kinh doanh', 2 : 'Tiếp thị'}\n",
    "# Gán giá trị của Dictionary vào Series\n",
    "seri = pd.Series(dict)\n",
    "seri"
   ]
  },
  {
   "cell_type": "code",
   "execution_count": 9,
   "id": "828dcdcd-f60e-4685-81af-fdbc3662ffd0",
   "metadata": {},
   "outputs": [
    {
     "data": {
      "text/plain": [
       "0    51\n",
       "1    65\n",
       "2    48\n",
       "3    59\n",
       "4    68\n",
       "dtype: int32"
      ]
     },
     "execution_count": 9,
     "metadata": {},
     "output_type": "execute_result"
    }
   ],
   "source": [
    "# Tạo Series từ Numpy array\n",
    "# Tạo Numpy array\n",
    "arr = np.array([51,65,48,59,68])\n",
    "# Gán giá trị của array vào Series\n",
    "seri = pd.Series(arr)\n",
    "seri"
   ]
  },
  {
   "cell_type": "code",
   "execution_count": 12,
   "id": "7c2c5c2b-0630-4022-961b-6489f944fbaa",
   "metadata": {},
   "outputs": [
    {
     "data": {
      "text/plain": [
       "0     1\n",
       "1     3\n",
       "2     5\n",
       "3     7\n",
       "4     9\n",
       "5    11\n",
       "6    13\n",
       "7    15\n",
       "8    17\n",
       "dtype: int32"
      ]
     },
     "execution_count": 12,
     "metadata": {},
     "output_type": "execute_result"
    }
   ],
   "source": [
    "# Tạo series từ các giá trị vô hướng\n",
    "# Tạo Series\n",
    "# seri = pd.Series(10, index=[0,1,2,3,4,5])\n",
    "seri = pd.Series(np.arange(1,18,2))\n",
    "seri"
   ]
  }
 ],
 "metadata": {
  "kernelspec": {
   "display_name": "Python 3 (ipykernel)",
   "language": "python",
   "name": "python3"
  },
  "language_info": {
   "codemirror_mode": {
    "name": "ipython",
    "version": 3
   },
   "file_extension": ".py",
   "mimetype": "text/x-python",
   "name": "python",
   "nbconvert_exporter": "python",
   "pygments_lexer": "ipython3",
   "version": "3.9.12"
  }
 },
 "nbformat": 4,
 "nbformat_minor": 5
}
