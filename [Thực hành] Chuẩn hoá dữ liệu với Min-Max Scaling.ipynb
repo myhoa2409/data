{
 "cells": [
  {
   "cell_type": "markdown",
   "id": "e1328cf4-1e0b-46f5-878a-fa7549dafaed",
   "metadata": {},
   "source": [
    "## Công thức của nó là:\n",
    "\n",
    "X_std = (X – X.min(axis=0)) / (X.max(axis=0) – X.min(axis=0))\n",
    "X_scaled = X_std * (max – min) + min"
   ]
  },
  {
   "cell_type": "code",
   "execution_count": 1,
   "id": "1e2038bc-8e98-4890-8ff7-686f22af14a3",
   "metadata": {},
   "outputs": [],
   "source": [
    "import pandas as pd\n",
    "import numpy as np\n",
    "import matplotlib.pyplot as plt\n",
    "import seaborn as sns\n",
    "from sklearn.preprocessing import MinMaxScaler"
   ]
  },
  {
   "cell_type": "code",
   "execution_count": 5,
   "id": "ab1993bf-b452-4956-af32-833710982c50",
   "metadata": {},
   "outputs": [
    {
     "data": {
      "text/html": [
       "<div>\n",
       "<style scoped>\n",
       "    .dataframe tbody tr th:only-of-type {\n",
       "        vertical-align: middle;\n",
       "    }\n",
       "\n",
       "    .dataframe tbody tr th {\n",
       "        vertical-align: top;\n",
       "    }\n",
       "\n",
       "    .dataframe thead th {\n",
       "        text-align: right;\n",
       "    }\n",
       "</style>\n",
       "<table border=\"1\" class=\"dataframe\">\n",
       "  <thead>\n",
       "    <tr style=\"text-align: right;\">\n",
       "      <th></th>\n",
       "      <th>beta</th>\n",
       "      <th>exponential</th>\n",
       "      <th>normal_p</th>\n",
       "      <th>normal_l</th>\n",
       "      <th>bimodal</th>\n",
       "    </tr>\n",
       "  </thead>\n",
       "  <tbody>\n",
       "    <tr>\n",
       "      <th>0</th>\n",
       "      <td>29.132032</td>\n",
       "      <td>11.188129</td>\n",
       "      <td>11.900456</td>\n",
       "      <td>5.716139</td>\n",
       "      <td>17.063292</td>\n",
       "    </tr>\n",
       "    <tr>\n",
       "      <th>1</th>\n",
       "      <td>39.061775</td>\n",
       "      <td>7.208613</td>\n",
       "      <td>11.869588</td>\n",
       "      <td>14.568956</td>\n",
       "      <td>18.200422</td>\n",
       "    </tr>\n",
       "    <tr>\n",
       "      <th>2</th>\n",
       "      <td>43.751168</td>\n",
       "      <td>5.133966</td>\n",
       "      <td>9.640919</td>\n",
       "      <td>12.162647</td>\n",
       "      <td>29.370021</td>\n",
       "    </tr>\n",
       "    <tr>\n",
       "      <th>3</th>\n",
       "      <td>57.847166</td>\n",
       "      <td>14.037848</td>\n",
       "      <td>11.076628</td>\n",
       "      <td>12.354695</td>\n",
       "      <td>24.541878</td>\n",
       "    </tr>\n",
       "    <tr>\n",
       "      <th>4</th>\n",
       "      <td>47.253207</td>\n",
       "      <td>0.044333</td>\n",
       "      <td>13.381974</td>\n",
       "      <td>8.572141</td>\n",
       "      <td>19.128196</td>\n",
       "    </tr>\n",
       "  </tbody>\n",
       "</table>\n",
       "</div>"
      ],
      "text/plain": [
       "        beta  exponential   normal_p   normal_l    bimodal\n",
       "0  29.132032    11.188129  11.900456   5.716139  17.063292\n",
       "1  39.061775     7.208613  11.869588  14.568956  18.200422\n",
       "2  43.751168     5.133966   9.640919  12.162647  29.370021\n",
       "3  57.847166    14.037848  11.076628  12.354695  24.541878\n",
       "4  47.253207     0.044333  13.381974   8.572141  19.128196"
      ]
     },
     "execution_count": 5,
     "metadata": {},
     "output_type": "execute_result"
    }
   ],
   "source": [
    "# tạo các cột theo các phần phối khác nhau\n",
    "df = pd.DataFrame({ \n",
    "    'beta': np.random.beta(5, 1, 1000) * 60,        # beta\n",
    "    'exponential': np.random.exponential(10, 1000), # exponential\n",
    "    'normal_p': np.random.normal(10, 2, 1000),      # normal platykurtic\n",
    "    'normal_l': np.random.normal(10, 10, 1000),     # normal leptokurtic\n",
    "})\n",
    "\n",
    "# thêm dữ liệu được tạo theo phân phối nhị thức\n",
    "first_half = np.random.normal(20, 3, 500) \n",
    "second_half = np.random.normal(-20, 3, 500) \n",
    "bimodal = np.concatenate([first_half, second_half])\n",
    "\n",
    "df['bimodal'] = bimodal\n",
    "\n",
    "# hiển thị dữ liệu\n",
    "df.head()"
   ]
  },
  {
   "cell_type": "code",
   "execution_count": 6,
   "id": "7a3e8bd2-ce38-4136-a531-b18e9b89653d",
   "metadata": {},
   "outputs": [
    {
     "data": {
      "text/plain": [
       "<AxesSubplot:ylabel='Density'>"
      ]
     },
     "execution_count": 6,
     "metadata": {},
     "output_type": "execute_result"
    },
    {
     "data": {
      "image/png": "[encoded data removed]",
      "text/plain": [
       "<Figure size 432x288 with 1 Axes>"
      ]
     },
     "metadata": {
      "needs_background": "light"
     },
     "output_type": "display_data"
    }
   ],
   "source": [
    "sns.kdeplot(data=df)"
   ]
  },
  {
   "cell_type": "code",
   "execution_count": 7,
   "id": "cb47f042-ddc2-40d7-ad12-44aee3d2b91e",
   "metadata": {},
   "outputs": [
    {
     "data": {
      "text/html": [
       "<div>\n",
       "<style scoped>\n",
       "    .dataframe tbody tr th:only-of-type {\n",
       "        vertical-align: middle;\n",
       "    }\n",
       "\n",
       "    .dataframe tbody tr th {\n",
       "        vertical-align: top;\n",
       "    }\n",
       "\n",
       "    .dataframe thead th {\n",
       "        text-align: right;\n",
       "    }\n",
       "</style>\n",
       "<table border=\"1\" class=\"dataframe\">\n",
       "  <thead>\n",
       "    <tr style=\"text-align: right;\">\n",
       "      <th></th>\n",
       "      <th>beta</th>\n",
       "      <th>exponential</th>\n",
       "      <th>normal_p</th>\n",
       "      <th>normal_l</th>\n",
       "      <th>bimodal</th>\n",
       "    </tr>\n",
       "  </thead>\n",
       "  <tbody>\n",
       "    <tr>\n",
       "      <th>count</th>\n",
       "      <td>1000.000000</td>\n",
       "      <td>1000.000000</td>\n",
       "      <td>1000.000000</td>\n",
       "      <td>1000.000000</td>\n",
       "      <td>1000.000000</td>\n",
       "    </tr>\n",
       "    <tr>\n",
       "      <th>mean</th>\n",
       "      <td>49.679727</td>\n",
       "      <td>9.983832</td>\n",
       "      <td>9.940447</td>\n",
       "      <td>10.281577</td>\n",
       "      <td>0.015830</td>\n",
       "    </tr>\n",
       "    <tr>\n",
       "      <th>std</th>\n",
       "      <td>8.609144</td>\n",
       "      <td>10.060884</td>\n",
       "      <td>2.065015</td>\n",
       "      <td>10.382253</td>\n",
       "      <td>20.283827</td>\n",
       "    </tr>\n",
       "    <tr>\n",
       "      <th>min</th>\n",
       "      <td>9.613317</td>\n",
       "      <td>0.020062</td>\n",
       "      <td>3.696827</td>\n",
       "      <td>-22.891256</td>\n",
       "      <td>-28.712034</td>\n",
       "    </tr>\n",
       "    <tr>\n",
       "      <th>25%</th>\n",
       "      <td>44.994572</td>\n",
       "      <td>2.695020</td>\n",
       "      <td>8.453300</td>\n",
       "      <td>3.352538</td>\n",
       "      <td>-20.044988</td>\n",
       "    </tr>\n",
       "    <tr>\n",
       "      <th>50%</th>\n",
       "      <td>52.014132</td>\n",
       "      <td>6.690992</td>\n",
       "      <td>9.989080</td>\n",
       "      <td>10.519343</td>\n",
       "      <td>0.041814</td>\n",
       "    </tr>\n",
       "    <tr>\n",
       "      <th>75%</th>\n",
       "      <td>56.182214</td>\n",
       "      <td>14.056939</td>\n",
       "      <td>11.260471</td>\n",
       "      <td>17.499791</td>\n",
       "      <td>20.089814</td>\n",
       "    </tr>\n",
       "    <tr>\n",
       "      <th>max</th>\n",
       "      <td>59.999727</td>\n",
       "      <td>84.096216</td>\n",
       "      <td>15.722149</td>\n",
       "      <td>41.351808</td>\n",
       "      <td>31.943782</td>\n",
       "    </tr>\n",
       "  </tbody>\n",
       "</table>\n",
       "</div>"
      ],
      "text/plain": [
       "              beta  exponential     normal_p     normal_l      bimodal\n",
       "count  1000.000000  1000.000000  1000.000000  1000.000000  1000.000000\n",
       "mean     49.679727     9.983832     9.940447    10.281577     0.015830\n",
       "std       8.609144    10.060884     2.065015    10.382253    20.283827\n",
       "min       9.613317     0.020062     3.696827   -22.891256   -28.712034\n",
       "25%      44.994572     2.695020     8.453300     3.352538   -20.044988\n",
       "50%      52.014132     6.690992     9.989080    10.519343     0.041814\n",
       "75%      56.182214    14.056939    11.260471    17.499791    20.089814\n",
       "max      59.999727    84.096216    15.722149    41.351808    31.943782"
      ]
     },
     "execution_count": 7,
     "metadata": {},
     "output_type": "execute_result"
    }
   ],
   "source": [
    "df.describe()"
   ]
  },
  {
   "cell_type": "code",
   "execution_count": 8,
   "id": "fbe2731f-72a5-438b-9c9f-82b9d9b5b8d1",
   "metadata": {},
   "outputs": [
    {
     "data": {
      "text/plain": [
       "<AxesSubplot:ylabel='Density'>"
      ]
     },
     "execution_count": 8,
     "metadata": {},
     "output_type": "execute_result"
    },
    {
     "data": {
      "image/png": "[encoded data removed]",
      "text/plain": [
       "<Figure size 432x288 with 1 Axes>"
      ]
     },
     "metadata": {
      "needs_background": "light"
     },
     "output_type": "display_data"
    }
   ],
   "source": [
    "normal_big = np.random.normal(1000000, 10000, (1000,1))  # normal distribution of large values\n",
    "df['normal_big'] = normal_big\n",
    "sns.kdeplot(data=df)"
   ]
  },
  {
   "cell_type": "code",
   "execution_count": 9,
   "id": "f228da1c-9ff5-48e1-8345-605d6c814073",
   "metadata": {},
   "outputs": [
    {
     "data": {
      "text/plain": [
       "<AxesSubplot:>"
      ]
     },
     "execution_count": 9,
     "metadata": {},
     "output_type": "execute_result"
    },
    {
     "data": {
      "image/png": "[encoded data removed]",
      "text/plain": [
       "<Figure size 432x288 with 1 Axes>"
      ]
     },
     "metadata": {
      "needs_background": "light"
     },
     "output_type": "display_data"
    }
   ],
   "source": [
    "# trực quan hóa bằng biểu đồ box plot\n",
    "df.boxplot()"
   ]
  },
  {
   "cell_type": "code",
   "execution_count": 11,
   "id": "dd3ed0cd-74c4-433a-9ac2-8596f000c6ed",
   "metadata": {},
   "outputs": [
    {
     "data": {
      "text/html": [
       "<div>\n",
       "<style scoped>\n",
       "    .dataframe tbody tr th:only-of-type {\n",
       "        vertical-align: middle;\n",
       "    }\n",
       "\n",
       "    .dataframe tbody tr th {\n",
       "        vertical-align: top;\n",
       "    }\n",
       "\n",
       "    .dataframe thead th {\n",
       "        text-align: right;\n",
       "    }\n",
       "</style>\n",
       "<table border=\"1\" class=\"dataframe\">\n",
       "  <thead>\n",
       "    <tr style=\"text-align: right;\">\n",
       "      <th></th>\n",
       "      <th>beta</th>\n",
       "      <th>exponential</th>\n",
       "      <th>normal_p</th>\n",
       "      <th>normal_l</th>\n",
       "      <th>bimodal</th>\n",
       "      <th>normal_big</th>\n",
       "    </tr>\n",
       "  </thead>\n",
       "  <tbody>\n",
       "    <tr>\n",
       "      <th>0</th>\n",
       "      <td>0.387381</td>\n",
       "      <td>0.132833</td>\n",
       "      <td>0.682196</td>\n",
       "      <td>0.445299</td>\n",
       "      <td>0.754673</td>\n",
       "      <td>0.685492</td>\n",
       "    </tr>\n",
       "    <tr>\n",
       "      <th>1</th>\n",
       "      <td>0.584452</td>\n",
       "      <td>0.085500</td>\n",
       "      <td>0.679629</td>\n",
       "      <td>0.583101</td>\n",
       "      <td>0.773421</td>\n",
       "      <td>0.553582</td>\n",
       "    </tr>\n",
       "    <tr>\n",
       "      <th>2</th>\n",
       "      <td>0.677521</td>\n",
       "      <td>0.060825</td>\n",
       "      <td>0.494298</td>\n",
       "      <td>0.545645</td>\n",
       "      <td>0.957568</td>\n",
       "      <td>0.501339</td>\n",
       "    </tr>\n",
       "    <tr>\n",
       "      <th>3</th>\n",
       "      <td>0.957279</td>\n",
       "      <td>0.166727</td>\n",
       "      <td>0.613688</td>\n",
       "      <td>0.548634</td>\n",
       "      <td>0.877969</td>\n",
       "      <td>0.640733</td>\n",
       "    </tr>\n",
       "    <tr>\n",
       "      <th>4</th>\n",
       "      <td>0.747025</td>\n",
       "      <td>0.000289</td>\n",
       "      <td>0.805396</td>\n",
       "      <td>0.489756</td>\n",
       "      <td>0.788716</td>\n",
       "      <td>0.479189</td>\n",
       "    </tr>\n",
       "  </tbody>\n",
       "</table>\n",
       "</div>"
      ],
      "text/plain": [
       "       beta  exponential  normal_p  normal_l   bimodal  normal_big\n",
       "0  0.387381     0.132833  0.682196  0.445299  0.754673    0.685492\n",
       "1  0.584452     0.085500  0.679629  0.583101  0.773421    0.553582\n",
       "2  0.677521     0.060825  0.494298  0.545645  0.957568    0.501339\n",
       "3  0.957279     0.166727  0.613688  0.548634  0.877969    0.640733\n",
       "4  0.747025     0.000289  0.805396  0.489756  0.788716    0.479189"
      ]
     },
     "execution_count": 11,
     "metadata": {},
     "output_type": "execute_result"
    }
   ],
   "source": [
    "# Khai báo đối tượng MinMaxScaler\n",
    "scaler = MinMaxScaler()\n",
    "\n",
    "# Chuẩn hóa dữ liệu trong df với StandardScaler\n",
    "df_s = scaler.fit_transform(df)\n",
    "\n",
    "# lấy danh sáchc cột\n",
    "col_names = list(df.columns)\n",
    "\n",
    "# chuyển về DataFrame, gán các cột của df cho dữ liệu đã được chuẩn hóa\n",
    "df_s = pd.DataFrame(df_s, columns=col_names)\n",
    "\n",
    "df_s.head()"
   ]
  },
  {
   "cell_type": "code",
   "execution_count": 12,
   "id": "62ce2afe-3dbf-4165-b225-1e7c730f9801",
   "metadata": {},
   "outputs": [
    {
     "data": {
      "text/plain": [
       "<AxesSubplot:ylabel='Density'>"
      ]
     },
     "execution_count": 12,
     "metadata": {},
     "output_type": "execute_result"
    },
    {
     "data": {
      "image/png": "[encoded data removed]",
      "text/plain": [
       "<Figure size 432x288 with 1 Axes>"
      ]
     },
     "metadata": {
      "needs_background": "light"
     },
     "output_type": "display_data"
    }
   ],
   "source": [
    "# biểu diễn dữ liệu đã được chuẩn hóa\n",
    "sns.kdeplot(data=df_s)"
   ]
  },
  {
   "cell_type": "code",
   "execution_count": 13,
   "id": "5e1ed1af-650c-479b-8d80-7ba651580c6b",
   "metadata": {},
   "outputs": [
    {
     "data": {
      "text/plain": [
       "<AxesSubplot:>"
      ]
     },
     "execution_count": 13,
     "metadata": {},
     "output_type": "execute_result"
    },
    {
     "data": {
      "image/png": "[encoded data removed]",
      "text/plain": [
       "<Figure size 432x288 with 1 Axes>"
      ]
     },
     "metadata": {
      "needs_background": "light"
     },
     "output_type": "display_data"
    }
   ],
   "source": [
    "# trực quan hóa bằng biểu đồ box plot\n",
    "df_s.boxplot()"
   ]
  },
  {
   "cell_type": "code",
   "execution_count": 14,
   "id": "81a2e71b-f7d7-44d2-b643-183abc1139d0",
   "metadata": {},
   "outputs": [
    {
     "data": {
      "text/html": [
       "<div>\n",
       "<style scoped>\n",
       "    .dataframe tbody tr th:only-of-type {\n",
       "        vertical-align: middle;\n",
       "    }\n",
       "\n",
       "    .dataframe tbody tr th {\n",
       "        vertical-align: top;\n",
       "    }\n",
       "\n",
       "    .dataframe thead th {\n",
       "        text-align: right;\n",
       "    }\n",
       "</style>\n",
       "<table border=\"1\" class=\"dataframe\">\n",
       "  <thead>\n",
       "    <tr style=\"text-align: right;\">\n",
       "      <th></th>\n",
       "      <th>beta</th>\n",
       "      <th>exponential</th>\n",
       "      <th>normal_p</th>\n",
       "      <th>normal_l</th>\n",
       "      <th>bimodal</th>\n",
       "      <th>normal_big</th>\n",
       "    </tr>\n",
       "  </thead>\n",
       "  <tbody>\n",
       "    <tr>\n",
       "      <th>count</th>\n",
       "      <td>1000.000000</td>\n",
       "      <td>1000.000000</td>\n",
       "      <td>1000.000000</td>\n",
       "      <td>1000.000000</td>\n",
       "      <td>1000.000000</td>\n",
       "      <td>1000.000000</td>\n",
       "    </tr>\n",
       "    <tr>\n",
       "      <th>mean</th>\n",
       "      <td>0.795183</td>\n",
       "      <td>0.118509</td>\n",
       "      <td>0.519206</td>\n",
       "      <td>0.516364</td>\n",
       "      <td>0.473621</td>\n",
       "      <td>0.486032</td>\n",
       "    </tr>\n",
       "    <tr>\n",
       "      <th>std</th>\n",
       "      <td>0.170862</td>\n",
       "      <td>0.119664</td>\n",
       "      <td>0.171722</td>\n",
       "      <td>0.161609</td>\n",
       "      <td>0.334409</td>\n",
       "      <td>0.136637</td>\n",
       "    </tr>\n",
       "    <tr>\n",
       "      <th>min</th>\n",
       "      <td>0.000000</td>\n",
       "      <td>0.000000</td>\n",
       "      <td>0.000000</td>\n",
       "      <td>0.000000</td>\n",
       "      <td>0.000000</td>\n",
       "      <td>0.000000</td>\n",
       "    </tr>\n",
       "    <tr>\n",
       "      <th>25%</th>\n",
       "      <td>0.702198</td>\n",
       "      <td>0.031816</td>\n",
       "      <td>0.395538</td>\n",
       "      <td>0.408508</td>\n",
       "      <td>0.142889</td>\n",
       "      <td>0.403083</td>\n",
       "    </tr>\n",
       "    <tr>\n",
       "      <th>50%</th>\n",
       "      <td>0.841513</td>\n",
       "      <td>0.079344</td>\n",
       "      <td>0.523250</td>\n",
       "      <td>0.520065</td>\n",
       "      <td>0.474049</td>\n",
       "      <td>0.484619</td>\n",
       "    </tr>\n",
       "    <tr>\n",
       "      <th>75%</th>\n",
       "      <td>0.924235</td>\n",
       "      <td>0.166954</td>\n",
       "      <td>0.628976</td>\n",
       "      <td>0.628722</td>\n",
       "      <td>0.804570</td>\n",
       "      <td>0.575410</td>\n",
       "    </tr>\n",
       "    <tr>\n",
       "      <th>max</th>\n",
       "      <td>1.000000</td>\n",
       "      <td>1.000000</td>\n",
       "      <td>1.000000</td>\n",
       "      <td>1.000000</td>\n",
       "      <td>1.000000</td>\n",
       "      <td>1.000000</td>\n",
       "    </tr>\n",
       "  </tbody>\n",
       "</table>\n",
       "</div>"
      ],
      "text/plain": [
       "              beta  exponential     normal_p     normal_l      bimodal  \\\n",
       "count  1000.000000  1000.000000  1000.000000  1000.000000  1000.000000   \n",
       "mean      0.795183     0.118509     0.519206     0.516364     0.473621   \n",
       "std       0.170862     0.119664     0.171722     0.161609     0.334409   \n",
       "min       0.000000     0.000000     0.000000     0.000000     0.000000   \n",
       "25%       0.702198     0.031816     0.395538     0.408508     0.142889   \n",
       "50%       0.841513     0.079344     0.523250     0.520065     0.474049   \n",
       "75%       0.924235     0.166954     0.628976     0.628722     0.804570   \n",
       "max       1.000000     1.000000     1.000000     1.000000     1.000000   \n",
       "\n",
       "        normal_big  \n",
       "count  1000.000000  \n",
       "mean      0.486032  \n",
       "std       0.136637  \n",
       "min       0.000000  \n",
       "25%       0.403083  \n",
       "50%       0.484619  \n",
       "75%       0.575410  \n",
       "max       1.000000  "
      ]
     },
     "execution_count": 14,
     "metadata": {},
     "output_type": "execute_result"
    }
   ],
   "source": [
    "# thống kê về dữ liệu được sinh ra\n",
    "df_s.describe()"
   ]
  },
  {
   "cell_type": "code",
   "execution_count": 15,
   "id": "c30f7327-2317-4df7-9b49-59e7d5210486",
   "metadata": {},
   "outputs": [
    {
     "data": {
      "text/plain": [
       "0.0"
      ]
     },
     "execution_count": 15,
     "metadata": {},
     "output_type": "execute_result"
    }
   ],
   "source": [
    "# lấy giá trị min của cột beta\n",
    "df_s['beta'].min()"
   ]
  },
  {
   "cell_type": "code",
   "execution_count": 16,
   "id": "6c376b5d-8cc4-459c-8f80-fd6c5307e500",
   "metadata": {},
   "outputs": [
    {
     "data": {
      "text/plain": [
       "1.0000000000000002"
      ]
     },
     "execution_count": 16,
     "metadata": {},
     "output_type": "execute_result"
    }
   ],
   "source": [
    "# lấy giá trị max của cột beta\n",
    "df_s['beta'].max()"
   ]
  },
  {
   "cell_type": "code",
   "execution_count": 17,
   "id": "02b3ab9e-b216-49e6-9937-7064a6f7efe0",
   "metadata": {},
   "outputs": [
    {
     "data": {
      "text/plain": [
       "[9.613316670489493,\n",
       " 0.020062264313922495,\n",
       " 3.696827366416195,\n",
       " -22.891256130108474,\n",
       " -28.712034222426478,\n",
       " 965413.539383786]"
      ]
     },
     "execution_count": 17,
     "metadata": {},
     "output_type": "execute_result"
    }
   ],
   "source": [
    "# in các giá trị min của từng cột trong dữ liệu chưa chuẩn hóa\n",
    "mins = [df[col].min() for col in df.columns]\n",
    "mins"
   ]
  },
  {
   "cell_type": "code",
   "execution_count": 18,
   "id": "d9647d21-b7d3-47b2-bbe1-88118e371ece",
   "metadata": {},
   "outputs": [
    {
     "data": {
      "text/plain": [
       "[0.0, 0.0, 0.0, 0.0, 0.0, 0.0]"
      ]
     },
     "execution_count": 18,
     "metadata": {},
     "output_type": "execute_result"
    }
   ],
   "source": [
    "# in các giá trị min của từng cột trong dữ liệu đã chuẩn hóa\n",
    "mins = [df_s[col].min() for col in df_s.columns]\n",
    "mins"
   ]
  },
  {
   "cell_type": "code",
   "execution_count": 19,
   "id": "1a995202-614a-4761-8b9e-fa034e88b7b1",
   "metadata": {},
   "outputs": [
    {
     "data": {
      "text/plain": [
       "[59.99972653163263,\n",
       " 84.09621563697718,\n",
       " 15.722149292039646,\n",
       " 41.351807981471694,\n",
       " 31.943782062754916,\n",
       " 1037172.5279284994]"
      ]
     },
     "execution_count": 19,
     "metadata": {},
     "output_type": "execute_result"
    }
   ],
   "source": [
    "# in các giá trị max của từng cột dữ liệu chưa chuẩn hóa\n",
    "maxs = [df[col].max() for col in df.columns]\n",
    "maxs"
   ]
  },
  {
   "cell_type": "code",
   "execution_count": 20,
   "id": "535e96e0-a116-49a2-89a6-b4032afbc7eb",
   "metadata": {},
   "outputs": [
    {
     "data": {
      "text/plain": [
       "[1.0000000000000002, 0.9999999999999999, 1.0, 1.0, 1.0, 1.0]"
      ]
     },
     "execution_count": 20,
     "metadata": {},
     "output_type": "execute_result"
    }
   ],
   "source": [
    "# in các giá trị max của từng cột dữ liệu đã chuẩn hóa\n",
    "maxs = [df_s[col].max() for col in df_s.columns]\n",
    "maxs"
   ]
  },
  {
   "cell_type": "code",
   "execution_count": null,
   "id": "070dec92-2692-4a7e-b70e-c4b075b5d355",
   "metadata": {},
   "outputs": [],
   "source": []
  }
 ],
 "metadata": {
  "kernelspec": {
   "display_name": "Python 3 (ipykernel)",
   "language": "python",
   "name": "python3"
  },
  "language_info": {
   "codemirror_mode": {
    "name": "ipython",
    "version": 3
   },
   "file_extension": ".py",
   "mimetype": "text/x-python",
   "name": "python",
   "nbconvert_exporter": "python",
   "pygments_lexer": "ipython3",
   "version": "3.9.12"
  }
 },
 "nbformat": 4,
 "nbformat_minor": 5
}
