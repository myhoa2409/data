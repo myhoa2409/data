{
 "cells": [
  {
   "cell_type": "markdown",
   "id": "1a261b25-7817-4ec7-b71a-124d87a2489f",
   "metadata": {},
   "source": [
    "# Bài tập Tiền xử lý dữ liệu - Phần 1"
   ]
  },
  {
   "cell_type": "markdown",
   "id": "6b36cacb-37a7-4d85-b125-b4325ac4c0a6",
   "metadata": {},
   "source": [
    "**Bộ dữ liệu Online Retail mô tả tình hình kinh doanh của một doanh nghiệp bán hàng Online mà bạn đã được làm quen từ buổi 1. Yêu cầu:**"
   ]
  },
  {
   "cell_type": "markdown",
   "id": "72fd4e42-9ffb-457e-a110-a2bec0a2f237",
   "metadata": {
    "tags": []
   },
   "source": [
    "## Câu 1:"
   ]
  },
  {
   "cell_type": "markdown",
   "id": "4b89ced6-9b4b-45d1-971b-0db3c5506e2e",
   "metadata": {},
   "source": [
    "**Phát hiện các dòng, cột chứa dữ liệu khuyết thiếu**  \n",
    "**Có nên xóa hết các dòng chứa dữ liệu khuyết thiếu, giải thích vì sao**  \n",
    "**Thực hiện xử lý giá trị khuyết thiếu: Thay thế giá trị khuyết thiếu của thuộc tính Description bằng giá trị mặc định “Không biết”**  "
   ]
  },
  {
   "cell_type": "code",
   "execution_count": 6,
   "id": "d8b3fd80-644c-4714-8a78-eaf06ffde012",
   "metadata": {
    "tags": []
   },
   "outputs": [
    {
     "data": {
      "text/plain": [
       "InvoiceNo           0\n",
       "StockCode           0\n",
       "Description      1454\n",
       "Quantity            0\n",
       "InvoiceDate         0\n",
       "UnitPrice           0\n",
       "CustomerID     135080\n",
       "Country             0\n",
       "dtype: int64"
      ]
     },
     "execution_count": 6,
     "metadata": {},
     "output_type": "execute_result"
    }
   ],
   "source": [
    "#Nhóm 1:\n",
    "import pandas as pd \n",
    "import numpy as np \n",
    "data = pd.read_csv('OnlineRetail.csv', encoding = 'ISO-8859-1')\n",
    "data.isnull()\n",
    "\n",
    "data.isnull().sum()\n"
   ]
  },
  {
   "cell_type": "code",
   "execution_count": 7,
   "id": "6b695575-0434-4c74-a2fa-2469980808a0",
   "metadata": {
    "tags": []
   },
   "outputs": [
    {
     "name": "stdout",
     "output_type": "stream",
     "text": [
      "<class 'pandas.core.frame.DataFrame'>\n",
      "RangeIndex: 541909 entries, 0 to 541908\n",
      "Data columns (total 8 columns):\n",
      " #   Column       Non-Null Count   Dtype  \n",
      "---  ------       --------------   -----  \n",
      " 0   InvoiceNo    541909 non-null  object \n",
      " 1   StockCode    541909 non-null  object \n",
      " 2   Description  540455 non-null  object \n",
      " 3   Quantity     541909 non-null  int64  \n",
      " 4   InvoiceDate  541909 non-null  object \n",
      " 5   UnitPrice    541909 non-null  float64\n",
      " 6   CustomerID   406829 non-null  float64\n",
      " 7   Country      541909 non-null  object \n",
      "dtypes: float64(2), int64(1), object(5)\n",
      "memory usage: 33.1+ MB\n"
     ]
    }
   ],
   "source": [
    "data.info()"
   ]
  },
  {
   "cell_type": "code",
   "execution_count": null,
   "id": "05b7c4aa-157a-46ad-974f-257965f5e0ee",
   "metadata": {
    "tags": []
   },
   "outputs": [],
   "source": [
    "#Nhóm 5:\n",
    "data.isna() \n",
    "#nên xóa đi, bởi nếu có những dòng dữ liệu bị khuyết thì sẽ rất khó tính toán về sau này. \n",
    "#Mà lượng dữ liệu ở đây rất là lớn, nếu số lượng dữ liệu bị khuyết thiếu chỉ chiếm số ít thì khả năng không ảnh hưởng tới kết quả phân tính\n"
   ]
  },
  {
   "cell_type": "code",
   "execution_count": 8,
   "id": "0987bb4d-f286-402a-b673-248c2987e0a0",
   "metadata": {
    "tags": []
   },
   "outputs": [
    {
     "data": {
      "text/plain": [
       "0          WHITE HANGING HEART T-LIGHT HOLDER\n",
       "1                         WHITE METAL LANTERN\n",
       "2              CREAM CUPID HEARTS COAT HANGER\n",
       "3         KNITTED UNION FLAG HOT WATER BOTTLE\n",
       "4              RED WOOLLY HOTTIE WHITE HEART.\n",
       "                         ...                 \n",
       "541904            PACK OF 20 SPACEBOY NAPKINS\n",
       "541905           CHILDREN'S APRON DOLLY GIRL \n",
       "541906          CHILDRENS CUTLERY DOLLY GIRL \n",
       "541907        CHILDRENS CUTLERY CIRCUS PARADE\n",
       "541908          BAKING SET 9 PIECE RETROSPOT \n",
       "Name: Description, Length: 541909, dtype: object"
      ]
     },
     "execution_count": 8,
     "metadata": {},
     "output_type": "execute_result"
    }
   ],
   "source": [
    "#Nhóm 6:\n",
    "# Kiem tra du lieu thieu\n",
    "data.isna().describe()\n",
    "data['Description'].isna().sum()\n",
    "# Thay the\n",
    "data['Description'] = data['Description'].fillna('Không biết')\n",
    "data['Description']"
   ]
  },
  {
   "cell_type": "code",
   "execution_count": 9,
   "id": "26906117-16da-4441-8a4c-42659a2c95b7",
   "metadata": {
    "tags": []
   },
   "outputs": [
    {
     "data": {
      "text/plain": [
       "622       Không biết\n",
       "1970      Không biết\n",
       "1971      Không biết\n",
       "1972      Không biết\n",
       "1987      Không biết\n",
       "             ...    \n",
       "535322    Không biết\n",
       "535326    Không biết\n",
       "535332    Không biết\n",
       "536981    Không biết\n",
       "538554    Không biết\n",
       "Name: Description, Length: 1454, dtype: object"
      ]
     },
     "execution_count": 9,
     "metadata": {},
     "output_type": "execute_result"
    }
   ],
   "source": [
    "data.loc[data.loc[:,'Description']=='Không biết','Description']"
   ]
  },
  {
   "cell_type": "code",
   "execution_count": 11,
   "id": "ac65a0b4-0b16-4257-a486-f9c0e49eaa92",
   "metadata": {
    "tags": []
   },
   "outputs": [
    {
     "name": "stdout",
     "output_type": "stream",
     "text": [
      "******************** Nhập dữ liệu thành công ********************\n"
     ]
    },
    {
     "data": {
      "text/html": [
       "<div>\n",
       "<style scoped>\n",
       "    .dataframe tbody tr th:only-of-type {\n",
       "        vertical-align: middle;\n",
       "    }\n",
       "\n",
       "    .dataframe tbody tr th {\n",
       "        vertical-align: top;\n",
       "    }\n",
       "\n",
       "    .dataframe thead th {\n",
       "        text-align: right;\n",
       "    }\n",
       "</style>\n",
       "<table border=\"1\" class=\"dataframe\">\n",
       "  <thead>\n",
       "    <tr style=\"text-align: right;\">\n",
       "      <th></th>\n",
       "      <th>InvoiceNo</th>\n",
       "      <th>StockCode</th>\n",
       "      <th>Description</th>\n",
       "      <th>Quantity</th>\n",
       "      <th>InvoiceDate</th>\n",
       "      <th>UnitPrice</th>\n",
       "      <th>CustomerID</th>\n",
       "      <th>Country</th>\n",
       "    </tr>\n",
       "  </thead>\n",
       "  <tbody>\n",
       "    <tr>\n",
       "      <th>0</th>\n",
       "      <td>536365</td>\n",
       "      <td>85123A</td>\n",
       "      <td>WHITE HANGING HEART T-LIGHT HOLDER</td>\n",
       "      <td>6</td>\n",
       "      <td>12/1/2010 8:26</td>\n",
       "      <td>2.55</td>\n",
       "      <td>17850.0</td>\n",
       "      <td>United Kingdom</td>\n",
       "    </tr>\n",
       "    <tr>\n",
       "      <th>1</th>\n",
       "      <td>536365</td>\n",
       "      <td>71053</td>\n",
       "      <td>WHITE METAL LANTERN</td>\n",
       "      <td>6</td>\n",
       "      <td>12/1/2010 8:26</td>\n",
       "      <td>3.39</td>\n",
       "      <td>17850.0</td>\n",
       "      <td>United Kingdom</td>\n",
       "    </tr>\n",
       "    <tr>\n",
       "      <th>2</th>\n",
       "      <td>536365</td>\n",
       "      <td>84406B</td>\n",
       "      <td>CREAM CUPID HEARTS COAT HANGER</td>\n",
       "      <td>8</td>\n",
       "      <td>12/1/2010 8:26</td>\n",
       "      <td>2.75</td>\n",
       "      <td>17850.0</td>\n",
       "      <td>United Kingdom</td>\n",
       "    </tr>\n",
       "    <tr>\n",
       "      <th>3</th>\n",
       "      <td>536365</td>\n",
       "      <td>84029G</td>\n",
       "      <td>KNITTED UNION FLAG HOT WATER BOTTLE</td>\n",
       "      <td>6</td>\n",
       "      <td>12/1/2010 8:26</td>\n",
       "      <td>3.39</td>\n",
       "      <td>17850.0</td>\n",
       "      <td>United Kingdom</td>\n",
       "    </tr>\n",
       "    <tr>\n",
       "      <th>4</th>\n",
       "      <td>536365</td>\n",
       "      <td>84029E</td>\n",
       "      <td>RED WOOLLY HOTTIE WHITE HEART.</td>\n",
       "      <td>6</td>\n",
       "      <td>12/1/2010 8:26</td>\n",
       "      <td>3.39</td>\n",
       "      <td>17850.0</td>\n",
       "      <td>United Kingdom</td>\n",
       "    </tr>\n",
       "    <tr>\n",
       "      <th>...</th>\n",
       "      <td>...</td>\n",
       "      <td>...</td>\n",
       "      <td>...</td>\n",
       "      <td>...</td>\n",
       "      <td>...</td>\n",
       "      <td>...</td>\n",
       "      <td>...</td>\n",
       "      <td>...</td>\n",
       "    </tr>\n",
       "    <tr>\n",
       "      <th>541904</th>\n",
       "      <td>581587</td>\n",
       "      <td>22613</td>\n",
       "      <td>PACK OF 20 SPACEBOY NAPKINS</td>\n",
       "      <td>12</td>\n",
       "      <td>12/9/2011 12:50</td>\n",
       "      <td>0.85</td>\n",
       "      <td>12680.0</td>\n",
       "      <td>France</td>\n",
       "    </tr>\n",
       "    <tr>\n",
       "      <th>541905</th>\n",
       "      <td>581587</td>\n",
       "      <td>22899</td>\n",
       "      <td>CHILDREN'S APRON DOLLY GIRL</td>\n",
       "      <td>6</td>\n",
       "      <td>12/9/2011 12:50</td>\n",
       "      <td>2.10</td>\n",
       "      <td>12680.0</td>\n",
       "      <td>France</td>\n",
       "    </tr>\n",
       "    <tr>\n",
       "      <th>541906</th>\n",
       "      <td>581587</td>\n",
       "      <td>23254</td>\n",
       "      <td>CHILDRENS CUTLERY DOLLY GIRL</td>\n",
       "      <td>4</td>\n",
       "      <td>12/9/2011 12:50</td>\n",
       "      <td>4.15</td>\n",
       "      <td>12680.0</td>\n",
       "      <td>France</td>\n",
       "    </tr>\n",
       "    <tr>\n",
       "      <th>541907</th>\n",
       "      <td>581587</td>\n",
       "      <td>23255</td>\n",
       "      <td>CHILDRENS CUTLERY CIRCUS PARADE</td>\n",
       "      <td>4</td>\n",
       "      <td>12/9/2011 12:50</td>\n",
       "      <td>4.15</td>\n",
       "      <td>12680.0</td>\n",
       "      <td>France</td>\n",
       "    </tr>\n",
       "    <tr>\n",
       "      <th>541908</th>\n",
       "      <td>581587</td>\n",
       "      <td>22138</td>\n",
       "      <td>BAKING SET 9 PIECE RETROSPOT</td>\n",
       "      <td>3</td>\n",
       "      <td>12/9/2011 12:50</td>\n",
       "      <td>4.95</td>\n",
       "      <td>12680.0</td>\n",
       "      <td>France</td>\n",
       "    </tr>\n",
       "  </tbody>\n",
       "</table>\n",
       "<p>541909 rows × 8 columns</p>\n",
       "</div>"
      ],
      "text/plain": [
       "       InvoiceNo StockCode                          Description  Quantity  \\\n",
       "0         536365    85123A   WHITE HANGING HEART T-LIGHT HOLDER         6   \n",
       "1         536365     71053                  WHITE METAL LANTERN         6   \n",
       "2         536365    84406B       CREAM CUPID HEARTS COAT HANGER         8   \n",
       "3         536365    84029G  KNITTED UNION FLAG HOT WATER BOTTLE         6   \n",
       "4         536365    84029E       RED WOOLLY HOTTIE WHITE HEART.         6   \n",
       "...          ...       ...                                  ...       ...   \n",
       "541904    581587     22613          PACK OF 20 SPACEBOY NAPKINS        12   \n",
       "541905    581587     22899         CHILDREN'S APRON DOLLY GIRL          6   \n",
       "541906    581587     23254        CHILDRENS CUTLERY DOLLY GIRL          4   \n",
       "541907    581587     23255      CHILDRENS CUTLERY CIRCUS PARADE         4   \n",
       "541908    581587     22138        BAKING SET 9 PIECE RETROSPOT          3   \n",
       "\n",
       "            InvoiceDate  UnitPrice  CustomerID         Country  \n",
       "0        12/1/2010 8:26       2.55     17850.0  United Kingdom  \n",
       "1        12/1/2010 8:26       3.39     17850.0  United Kingdom  \n",
       "2        12/1/2010 8:26       2.75     17850.0  United Kingdom  \n",
       "3        12/1/2010 8:26       3.39     17850.0  United Kingdom  \n",
       "4        12/1/2010 8:26       3.39     17850.0  United Kingdom  \n",
       "...                 ...        ...         ...             ...  \n",
       "541904  12/9/2011 12:50       0.85     12680.0          France  \n",
       "541905  12/9/2011 12:50       2.10     12680.0          France  \n",
       "541906  12/9/2011 12:50       4.15     12680.0          France  \n",
       "541907  12/9/2011 12:50       4.15     12680.0          France  \n",
       "541908  12/9/2011 12:50       4.95     12680.0          France  \n",
       "\n",
       "[541909 rows x 8 columns]"
      ]
     },
     "metadata": {},
     "output_type": "display_data"
    },
    {
     "name": "stdout",
     "output_type": "stream",
     "text": [
      "<class 'pandas.core.frame.DataFrame'>\n",
      "RangeIndex: 541909 entries, 0 to 541908\n",
      "Data columns (total 8 columns):\n",
      " #   Column       Non-Null Count   Dtype  \n",
      "---  ------       --------------   -----  \n",
      " 0   InvoiceNo    541909 non-null  object \n",
      " 1   StockCode    541909 non-null  object \n",
      " 2   Description  540455 non-null  object \n",
      " 3   Quantity     541909 non-null  int64  \n",
      " 4   InvoiceDate  541909 non-null  object \n",
      " 5   UnitPrice    541909 non-null  float64\n",
      " 6   CustomerID   406829 non-null  float64\n",
      " 7   Country      541909 non-null  object \n",
      "dtypes: float64(2), int64(1), object(5)\n",
      "memory usage: 33.1+ MB\n"
     ]
    }
   ],
   "source": [
    "#Khai báo thư viện\n",
    "import pandas as pd\n",
    "import numpy as np\n",
    "\n",
    "#Nhập dữ liệu\n",
    "data = pd.read_csv('OnlineRetail.csv', header=0, encoding = \"ISO-8859-1\")\n",
    "print('*'*20, \"Nhập dữ liệu thành công\", '*'*20)\n",
    "display(data)\n",
    "data.info()"
   ]
  },
  {
   "cell_type": "code",
   "execution_count": 12,
   "id": "d2b7969f-e19b-4855-bdec-79124497e6c5",
   "metadata": {
    "tags": []
   },
   "outputs": [
    {
     "name": "stdout",
     "output_type": "stream",
     "text": [
      "Các cột chứa dữ liệu khuyết thiếu là:\n",
      "Cột  Description  chứa  1454  giá trị KT\n",
      "Cột  CustomerID  chứa  135080  giá trị KT\n",
      "Tổng số lượng giá trị khuyết thiếu là:  136534\n"
     ]
    }
   ],
   "source": [
    "#Các cột và dòng chứa giá trị khuyết thiếu là\n",
    "a = 0\n",
    "print('Các cột chứa dữ liệu khuyết thiếu là:')\n",
    "for index, column in enumerate(data.columns):\n",
    "    temp = data.loc[:,column].isnull()\n",
    "    if temp.sum() > 0:\n",
    "        print('Cột ', data.columns[index], ' chứa ' , temp.sum() , ' giá trị KT')\n",
    "        a = a + temp.sum()\n",
    "        # print(temp[temp[:]==True].index.tolist()) #In ra danh sách dòng chứa null\n",
    "print('Tổng số lượng giá trị khuyết thiếu là: ', a)"
   ]
  },
  {
   "cell_type": "code",
   "execution_count": 1,
   "id": "180f719f-4c66-40f3-a758-a822175f363b",
   "metadata": {
    "tags": []
   },
   "outputs": [],
   "source": [
    "# Có nên xóa hết các dòng chứa dữ liệu khuyết thiếu, giải thích vì sao\n",
    "# Không nên xóa vì có thể ảnh hưởng tới kế toán, bảo hành\n",
    "# Cột Description là mô tả sản phẩm, nếu thiếu thì có thể đối soát lại với Stockcode\n",
    "# Cột CustomerID thiếu, nếu khách yêu cầu đổi trả thì có thể đối chiếu lại với InvoiceNumber"
   ]
  },
  {
   "cell_type": "code",
   "execution_count": 13,
   "id": "62422fa6-85b1-4e9a-b253-a80f8d2db188",
   "metadata": {
    "tags": []
   },
   "outputs": [
    {
     "data": {
      "text/html": [
       "<div>\n",
       "<style scoped>\n",
       "    .dataframe tbody tr th:only-of-type {\n",
       "        vertical-align: middle;\n",
       "    }\n",
       "\n",
       "    .dataframe tbody tr th {\n",
       "        vertical-align: top;\n",
       "    }\n",
       "\n",
       "    .dataframe thead th {\n",
       "        text-align: right;\n",
       "    }\n",
       "</style>\n",
       "<table border=\"1\" class=\"dataframe\">\n",
       "  <thead>\n",
       "    <tr style=\"text-align: right;\">\n",
       "      <th></th>\n",
       "      <th>InvoiceNo</th>\n",
       "      <th>StockCode</th>\n",
       "      <th>Description</th>\n",
       "      <th>Quantity</th>\n",
       "      <th>InvoiceDate</th>\n",
       "      <th>UnitPrice</th>\n",
       "      <th>CustomerID</th>\n",
       "      <th>Country</th>\n",
       "    </tr>\n",
       "  </thead>\n",
       "  <tbody>\n",
       "    <tr>\n",
       "      <th>622</th>\n",
       "      <td>536414</td>\n",
       "      <td>22139</td>\n",
       "      <td>Không biết</td>\n",
       "      <td>56</td>\n",
       "      <td>12/1/2010 11:52</td>\n",
       "      <td>0.0</td>\n",
       "      <td>NaN</td>\n",
       "      <td>United Kingdom</td>\n",
       "    </tr>\n",
       "    <tr>\n",
       "      <th>1970</th>\n",
       "      <td>536545</td>\n",
       "      <td>21134</td>\n",
       "      <td>Không biết</td>\n",
       "      <td>1</td>\n",
       "      <td>12/1/2010 14:32</td>\n",
       "      <td>0.0</td>\n",
       "      <td>NaN</td>\n",
       "      <td>United Kingdom</td>\n",
       "    </tr>\n",
       "    <tr>\n",
       "      <th>1971</th>\n",
       "      <td>536546</td>\n",
       "      <td>22145</td>\n",
       "      <td>Không biết</td>\n",
       "      <td>1</td>\n",
       "      <td>12/1/2010 14:33</td>\n",
       "      <td>0.0</td>\n",
       "      <td>NaN</td>\n",
       "      <td>United Kingdom</td>\n",
       "    </tr>\n",
       "    <tr>\n",
       "      <th>1972</th>\n",
       "      <td>536547</td>\n",
       "      <td>37509</td>\n",
       "      <td>Không biết</td>\n",
       "      <td>1</td>\n",
       "      <td>12/1/2010 14:33</td>\n",
       "      <td>0.0</td>\n",
       "      <td>NaN</td>\n",
       "      <td>United Kingdom</td>\n",
       "    </tr>\n",
       "    <tr>\n",
       "      <th>1987</th>\n",
       "      <td>536549</td>\n",
       "      <td>85226A</td>\n",
       "      <td>Không biết</td>\n",
       "      <td>1</td>\n",
       "      <td>12/1/2010 14:34</td>\n",
       "      <td>0.0</td>\n",
       "      <td>NaN</td>\n",
       "      <td>United Kingdom</td>\n",
       "    </tr>\n",
       "    <tr>\n",
       "      <th>...</th>\n",
       "      <td>...</td>\n",
       "      <td>...</td>\n",
       "      <td>...</td>\n",
       "      <td>...</td>\n",
       "      <td>...</td>\n",
       "      <td>...</td>\n",
       "      <td>...</td>\n",
       "      <td>...</td>\n",
       "    </tr>\n",
       "    <tr>\n",
       "      <th>535322</th>\n",
       "      <td>581199</td>\n",
       "      <td>84581</td>\n",
       "      <td>Không biết</td>\n",
       "      <td>-2</td>\n",
       "      <td>12/7/2011 18:26</td>\n",
       "      <td>0.0</td>\n",
       "      <td>NaN</td>\n",
       "      <td>United Kingdom</td>\n",
       "    </tr>\n",
       "    <tr>\n",
       "      <th>535326</th>\n",
       "      <td>581203</td>\n",
       "      <td>23406</td>\n",
       "      <td>Không biết</td>\n",
       "      <td>15</td>\n",
       "      <td>12/7/2011 18:31</td>\n",
       "      <td>0.0</td>\n",
       "      <td>NaN</td>\n",
       "      <td>United Kingdom</td>\n",
       "    </tr>\n",
       "    <tr>\n",
       "      <th>535332</th>\n",
       "      <td>581209</td>\n",
       "      <td>21620</td>\n",
       "      <td>Không biết</td>\n",
       "      <td>6</td>\n",
       "      <td>12/7/2011 18:35</td>\n",
       "      <td>0.0</td>\n",
       "      <td>NaN</td>\n",
       "      <td>United Kingdom</td>\n",
       "    </tr>\n",
       "    <tr>\n",
       "      <th>536981</th>\n",
       "      <td>581234</td>\n",
       "      <td>72817</td>\n",
       "      <td>Không biết</td>\n",
       "      <td>27</td>\n",
       "      <td>12/8/2011 10:33</td>\n",
       "      <td>0.0</td>\n",
       "      <td>NaN</td>\n",
       "      <td>United Kingdom</td>\n",
       "    </tr>\n",
       "    <tr>\n",
       "      <th>538554</th>\n",
       "      <td>581408</td>\n",
       "      <td>85175</td>\n",
       "      <td>Không biết</td>\n",
       "      <td>20</td>\n",
       "      <td>12/8/2011 14:06</td>\n",
       "      <td>0.0</td>\n",
       "      <td>NaN</td>\n",
       "      <td>United Kingdom</td>\n",
       "    </tr>\n",
       "  </tbody>\n",
       "</table>\n",
       "<p>1454 rows × 8 columns</p>\n",
       "</div>"
      ],
      "text/plain": [
       "       InvoiceNo StockCode Description  Quantity      InvoiceDate  UnitPrice  \\\n",
       "622       536414     22139  Không biết        56  12/1/2010 11:52        0.0   \n",
       "1970      536545     21134  Không biết         1  12/1/2010 14:32        0.0   \n",
       "1971      536546     22145  Không biết         1  12/1/2010 14:33        0.0   \n",
       "1972      536547     37509  Không biết         1  12/1/2010 14:33        0.0   \n",
       "1987      536549    85226A  Không biết         1  12/1/2010 14:34        0.0   \n",
       "...          ...       ...         ...       ...              ...        ...   \n",
       "535322    581199     84581  Không biết        -2  12/7/2011 18:26        0.0   \n",
       "535326    581203     23406  Không biết        15  12/7/2011 18:31        0.0   \n",
       "535332    581209     21620  Không biết         6  12/7/2011 18:35        0.0   \n",
       "536981    581234     72817  Không biết        27  12/8/2011 10:33        0.0   \n",
       "538554    581408     85175  Không biết        20  12/8/2011 14:06        0.0   \n",
       "\n",
       "        CustomerID         Country  \n",
       "622            NaN  United Kingdom  \n",
       "1970           NaN  United Kingdom  \n",
       "1971           NaN  United Kingdom  \n",
       "1972           NaN  United Kingdom  \n",
       "1987           NaN  United Kingdom  \n",
       "...            ...             ...  \n",
       "535322         NaN  United Kingdom  \n",
       "535326         NaN  United Kingdom  \n",
       "535332         NaN  United Kingdom  \n",
       "536981         NaN  United Kingdom  \n",
       "538554         NaN  United Kingdom  \n",
       "\n",
       "[1454 rows x 8 columns]"
      ]
     },
     "execution_count": 13,
     "metadata": {},
     "output_type": "execute_result"
    }
   ],
   "source": [
    "#Thực hiện xử lý giá trị khuyết thiếu: \n",
    "#Thay thế giá trị khuyết thiếu của thuộc tính Description bằng giá trị mặc định “Không biết”\n",
    "\n",
    "# data.loc[data.loc[:,'Description'].isnull()==True,'Description'] = 'Không biết'\n",
    "data['Description'] = data['Description'].fillna('Không biết')\n",
    "# data.loc[:,'Description'][data.loc[:,'Description'].isnull()==True] = 'Không biết' #Warning\n",
    "data[data.loc[:,'Description'] == 'Không biết']"
   ]
  },
  {
   "cell_type": "code",
   "execution_count": 32,
   "id": "99192f19-a243-49ca-b59d-45e2c320180e",
   "metadata": {
    "tags": []
   },
   "outputs": [
    {
     "data": {
      "text/html": [
       "<div>\n",
       "<style scoped>\n",
       "    .dataframe tbody tr th:only-of-type {\n",
       "        vertical-align: middle;\n",
       "    }\n",
       "\n",
       "    .dataframe tbody tr th {\n",
       "        vertical-align: top;\n",
       "    }\n",
       "\n",
       "    .dataframe thead th {\n",
       "        text-align: right;\n",
       "    }\n",
       "</style>\n",
       "<table border=\"1\" class=\"dataframe\">\n",
       "  <thead>\n",
       "    <tr style=\"text-align: right;\">\n",
       "      <th></th>\n",
       "      <th>InvoiceNo</th>\n",
       "      <th>StockCode</th>\n",
       "      <th>Description</th>\n",
       "      <th>Quantity</th>\n",
       "      <th>InvoiceDate</th>\n",
       "      <th>UnitPrice</th>\n",
       "      <th>CustomerID</th>\n",
       "      <th>Country</th>\n",
       "    </tr>\n",
       "  </thead>\n",
       "  <tbody>\n",
       "    <tr>\n",
       "      <th>622</th>\n",
       "      <td>536414</td>\n",
       "      <td>22139</td>\n",
       "      <td>không biết</td>\n",
       "      <td>56</td>\n",
       "      <td>12/1/2010 11:52</td>\n",
       "      <td>0.0</td>\n",
       "      <td>không biết</td>\n",
       "      <td>United Kingdom</td>\n",
       "    </tr>\n",
       "    <tr>\n",
       "      <th>1970</th>\n",
       "      <td>536545</td>\n",
       "      <td>21134</td>\n",
       "      <td>không biết</td>\n",
       "      <td>1</td>\n",
       "      <td>12/1/2010 14:32</td>\n",
       "      <td>0.0</td>\n",
       "      <td>không biết</td>\n",
       "      <td>United Kingdom</td>\n",
       "    </tr>\n",
       "    <tr>\n",
       "      <th>1971</th>\n",
       "      <td>536546</td>\n",
       "      <td>22145</td>\n",
       "      <td>không biết</td>\n",
       "      <td>1</td>\n",
       "      <td>12/1/2010 14:33</td>\n",
       "      <td>0.0</td>\n",
       "      <td>không biết</td>\n",
       "      <td>United Kingdom</td>\n",
       "    </tr>\n",
       "    <tr>\n",
       "      <th>1972</th>\n",
       "      <td>536547</td>\n",
       "      <td>37509</td>\n",
       "      <td>không biết</td>\n",
       "      <td>1</td>\n",
       "      <td>12/1/2010 14:33</td>\n",
       "      <td>0.0</td>\n",
       "      <td>không biết</td>\n",
       "      <td>United Kingdom</td>\n",
       "    </tr>\n",
       "    <tr>\n",
       "      <th>1987</th>\n",
       "      <td>536549</td>\n",
       "      <td>85226A</td>\n",
       "      <td>không biết</td>\n",
       "      <td>1</td>\n",
       "      <td>12/1/2010 14:34</td>\n",
       "      <td>0.0</td>\n",
       "      <td>không biết</td>\n",
       "      <td>United Kingdom</td>\n",
       "    </tr>\n",
       "    <tr>\n",
       "      <th>...</th>\n",
       "      <td>...</td>\n",
       "      <td>...</td>\n",
       "      <td>...</td>\n",
       "      <td>...</td>\n",
       "      <td>...</td>\n",
       "      <td>...</td>\n",
       "      <td>...</td>\n",
       "      <td>...</td>\n",
       "    </tr>\n",
       "    <tr>\n",
       "      <th>535322</th>\n",
       "      <td>581199</td>\n",
       "      <td>84581</td>\n",
       "      <td>không biết</td>\n",
       "      <td>-2</td>\n",
       "      <td>12/7/2011 18:26</td>\n",
       "      <td>0.0</td>\n",
       "      <td>không biết</td>\n",
       "      <td>United Kingdom</td>\n",
       "    </tr>\n",
       "    <tr>\n",
       "      <th>535326</th>\n",
       "      <td>581203</td>\n",
       "      <td>23406</td>\n",
       "      <td>không biết</td>\n",
       "      <td>15</td>\n",
       "      <td>12/7/2011 18:31</td>\n",
       "      <td>0.0</td>\n",
       "      <td>không biết</td>\n",
       "      <td>United Kingdom</td>\n",
       "    </tr>\n",
       "    <tr>\n",
       "      <th>535332</th>\n",
       "      <td>581209</td>\n",
       "      <td>21620</td>\n",
       "      <td>không biết</td>\n",
       "      <td>6</td>\n",
       "      <td>12/7/2011 18:35</td>\n",
       "      <td>0.0</td>\n",
       "      <td>không biết</td>\n",
       "      <td>United Kingdom</td>\n",
       "    </tr>\n",
       "    <tr>\n",
       "      <th>536981</th>\n",
       "      <td>581234</td>\n",
       "      <td>72817</td>\n",
       "      <td>không biết</td>\n",
       "      <td>27</td>\n",
       "      <td>12/8/2011 10:33</td>\n",
       "      <td>0.0</td>\n",
       "      <td>không biết</td>\n",
       "      <td>United Kingdom</td>\n",
       "    </tr>\n",
       "    <tr>\n",
       "      <th>538554</th>\n",
       "      <td>581408</td>\n",
       "      <td>85175</td>\n",
       "      <td>không biết</td>\n",
       "      <td>20</td>\n",
       "      <td>12/8/2011 14:06</td>\n",
       "      <td>0.0</td>\n",
       "      <td>không biết</td>\n",
       "      <td>United Kingdom</td>\n",
       "    </tr>\n",
       "  </tbody>\n",
       "</table>\n",
       "<p>1454 rows × 8 columns</p>\n",
       "</div>"
      ],
      "text/plain": [
       "       InvoiceNo StockCode Description  Quantity      InvoiceDate  UnitPrice  \\\n",
       "622       536414     22139  không biết        56  12/1/2010 11:52        0.0   \n",
       "1970      536545     21134  không biết         1  12/1/2010 14:32        0.0   \n",
       "1971      536546     22145  không biết         1  12/1/2010 14:33        0.0   \n",
       "1972      536547     37509  không biết         1  12/1/2010 14:33        0.0   \n",
       "1987      536549    85226A  không biết         1  12/1/2010 14:34        0.0   \n",
       "...          ...       ...         ...       ...              ...        ...   \n",
       "535322    581199     84581  không biết        -2  12/7/2011 18:26        0.0   \n",
       "535326    581203     23406  không biết        15  12/7/2011 18:31        0.0   \n",
       "535332    581209     21620  không biết         6  12/7/2011 18:35        0.0   \n",
       "536981    581234     72817  không biết        27  12/8/2011 10:33        0.0   \n",
       "538554    581408     85175  không biết        20  12/8/2011 14:06        0.0   \n",
       "\n",
       "        CustomerID         Country  \n",
       "622     không biết  United Kingdom  \n",
       "1970    không biết  United Kingdom  \n",
       "1971    không biết  United Kingdom  \n",
       "1972    không biết  United Kingdom  \n",
       "1987    không biết  United Kingdom  \n",
       "...            ...             ...  \n",
       "535322  không biết  United Kingdom  \n",
       "535326  không biết  United Kingdom  \n",
       "535332  không biết  United Kingdom  \n",
       "536981  không biết  United Kingdom  \n",
       "538554  không biết  United Kingdom  \n",
       "\n",
       "[1454 rows x 8 columns]"
      ]
     },
     "execution_count": 32,
     "metadata": {},
     "output_type": "execute_result"
    }
   ],
   "source": [
    "# fillna(value= {\"A\": 0, \"B\": 1, \"C\": 2, \"D\": 3} )\n",
    "# values = {'Description': 'không biết'}\n",
    "data.fillna(value= {\"Description\":'không biết', \"CustomerID\":'không biết'}, inplace=True)\n",
    "data[data.loc[:,'Description'] == 'không biết']"
   ]
  },
  {
   "cell_type": "markdown",
   "id": "74fbd031-1902-454c-bd71-e38b224306f0",
   "metadata": {
    "tags": []
   },
   "source": [
    "## Câu 2:"
   ]
  },
  {
   "cell_type": "markdown",
   "id": "5e70c95c-a969-4af3-8803-e2fbc1e8ebf2",
   "metadata": {},
   "source": [
    "**Thực hiện phát hiện giá trị ngoại lai của thuộc tính Quantity và Thuộc tính UnitPrice**  \n",
    "**Tiến hành lọc riêng bộ dữ liệu chứa giá trị ngoại lai và bộ dữ liệu sạch**  \n",
    "**Mô tả thông tin của bộ dữ liệu trên và nhận xét**"
   ]
  },
  {
   "cell_type": "code",
   "execution_count": 14,
   "id": "7ee4b80e-6773-4f60-b2be-c0815e154bc7",
   "metadata": {},
   "outputs": [],
   "source": [
    "from sklearn.preprocessing import StandardScaler\n",
    "from scipy import stats\n",
    "import matplotlib.pyplot as plt"
   ]
  },
  {
   "cell_type": "code",
   "execution_count": 19,
   "id": "b41e8847-b647-438d-b25b-8281d4bf69b3",
   "metadata": {
    "tags": []
   },
   "outputs": [
    {
     "name": "stderr",
     "output_type": "stream",
     "text": [
      "C:\\Users\\MY HOA\\AppData\\Local\\Temp\\ipykernel_10912\\3087923267.py:9: FutureWarning: Automatic reindexing on DataFrame vs Series comparisons is deprecated and will raise ValueError in a future version. Do `left, right = left.align(right, axis=1, copy=False)` before e.g. `left == right`\n",
      "  data3 = data[~((data < (Q1 - 1.5 * IQR)) | (data > (Q3 + 1.5 * IQR))).any(axis=1)]\n"
     ]
    },
    {
     "data": {
      "text/plain": [
       "<AxesSubplot:>"
      ]
     },
     "execution_count": 19,
     "metadata": {},
     "output_type": "execute_result"
    },
    {
     "data": {
      "image/png": "[encoded data removed]",
      "text/plain": [
       "<Figure size 432x288 with 1 Axes>"
      ]
     },
     "metadata": {
      "needs_background": "light"
     },
     "output_type": "display_data"
    }
   ],
   "source": [
    "# tính giá trị Q1 và Q3\n",
    "Q1 = data.quantile(0.25)\n",
    "Q3 = data.quantile(0.75)\n",
    "\n",
    "# tính IQR \n",
    "IQR = Q3-Q1\n",
    "\n",
    "# lọc dữ liệu ngoại lai\n",
    "data3 = data[~((data < (Q1 - 1.5 * IQR)) | (data > (Q3 + 1.5 * IQR))).any(axis=1)]\n",
    "\n",
    "data3.boxplot()"
   ]
  },
  {
   "cell_type": "code",
   "execution_count": 38,
   "id": "008433c6-d99a-4e9c-8e99-70c816cd96e8",
   "metadata": {},
   "outputs": [
    {
     "name": "stdout",
     "output_type": "stream",
     "text": [
      "<class 'pandas.core.frame.DataFrame'>\n",
      "Int64Index: 444108 entries, 0 to 541908\n",
      "Data columns (total 8 columns):\n",
      " #   Column       Non-Null Count   Dtype  \n",
      "---  ------       --------------   -----  \n",
      " 0   InvoiceNo    444108 non-null  object \n",
      " 1   StockCode    444108 non-null  object \n",
      " 2   Description  443306 non-null  object \n",
      " 3   Quantity     444108 non-null  int64  \n",
      " 4   InvoiceDate  444108 non-null  object \n",
      " 5   UnitPrice    444108 non-null  float64\n",
      " 6   CustomerID   327498 non-null  float64\n",
      " 7   Country      444108 non-null  object \n",
      "dtypes: float64(2), int64(1), object(5)\n",
      "memory usage: 30.5+ MB\n"
     ]
    }
   ],
   "source": [
    "data2.info()"
   ]
  },
  {
   "cell_type": "code",
   "execution_count": 40,
   "id": "eafc290b-e824-441b-8289-f09f252e86f4",
   "metadata": {},
   "outputs": [
    {
     "name": "stdout",
     "output_type": "stream",
     "text": [
      "<class 'pandas.core.frame.DataFrame'>\n",
      "Int64Index: 97801 entries, 9 to 541892\n",
      "Data columns (total 8 columns):\n",
      " #   Column       Non-Null Count  Dtype  \n",
      "---  ------       --------------  -----  \n",
      " 0   InvoiceNo    97801 non-null  object \n",
      " 1   StockCode    97801 non-null  object \n",
      " 2   Description  97149 non-null  object \n",
      " 3   Quantity     97801 non-null  int64  \n",
      " 4   InvoiceDate  97801 non-null  object \n",
      " 5   UnitPrice    97801 non-null  float64\n",
      " 6   CustomerID   79331 non-null  float64\n",
      " 7   Country      97801 non-null  object \n",
      "dtypes: float64(2), int64(1), object(5)\n",
      "memory usage: 6.7+ MB\n"
     ]
    }
   ],
   "source": [
    "data3.info()"
   ]
  },
  {
   "cell_type": "code",
   "execution_count": 41,
   "id": "506c6472-e81b-4d10-8ea7-2efd364f9567",
   "metadata": {
    "tags": []
   },
   "outputs": [
    {
     "data": {
      "image/png": "[encoded data removed]",
      "text/plain": [
       "<Figure size 1152x576 with 1 Axes>"
      ]
     },
     "metadata": {
      "needs_background": "light"
     },
     "output_type": "display_data"
    }
   ],
   "source": [
    "#Nhóm 4\n",
    "import matplotlib.pyplot as plt\n",
    "fig, ax = plt.subplots(figsize=(16,8))\n",
    "ax.scatter(data['Quantity'], data['UnitPrice'])\n",
    "ax.set_xlabel('Quantity')\n",
    "ax.set_ylabel('UnitPrice')\n",
    "plt.show()\n"
   ]
  },
  {
   "cell_type": "code",
   "execution_count": 79,
   "id": "9e924a1f-3e59-423e-a3f8-73aba2bb7dce",
   "metadata": {},
   "outputs": [
    {
     "data": {
      "image/png": "[encoded data removed]",
      "text/plain": [
       "<Figure size 432x288 with 1 Axes>"
      ]
     },
     "metadata": {
      "needs_background": "light"
     },
     "output_type": "display_data"
    },
    {
     "data": {
      "image/png": "[encoded data removed]",
      "text/plain": [
       "<Figure size 432x288 with 1 Axes>"
      ]
     },
     "metadata": {
      "needs_background": "light"
     },
     "output_type": "display_data"
    }
   ],
   "source": [
    "plt.hist(data['UnitPrice'], bins=10)\n",
    "plt.show()\n",
    "plt.hist(data['Quantity'], bins=10)\n",
    "plt.show()"
   ]
  },
  {
   "cell_type": "code",
   "execution_count": null,
   "id": "d2663f11-a79a-498e-ba33-85ad4844fb8e",
   "metadata": {},
   "outputs": [],
   "source": [
    "#Nhóm 5"
   ]
  },
  {
   "cell_type": "code",
   "execution_count": 49,
   "id": "6a072e68-4f0c-4acc-9413-8ddd23831e99",
   "metadata": {
    "tags": []
   },
   "outputs": [
    {
     "name": "stderr",
     "output_type": "stream",
     "text": [
      "C:\\Users\\Hamilton\\AppData\\Local\\Temp\\ipykernel_51008\\1160537206.py:17: FutureWarning: Automatic reindexing on DataFrame vs Series comparisons is deprecated and will raise ValueError in a future version. Do `left, right = left.align(right, axis=1, copy=False)` before e.g. `left == right`\n",
      "  data_1 = data[~((data < (Q1 - 1.5 * IQR)) | (data > (Q3 + 1.5 * IQR))).any(axis=1)]\n"
     ]
    },
    {
     "data": {
      "text/html": [
       "<div>\n",
       "<style scoped>\n",
       "    .dataframe tbody tr th:only-of-type {\n",
       "        vertical-align: middle;\n",
       "    }\n",
       "\n",
       "    .dataframe tbody tr th {\n",
       "        vertical-align: top;\n",
       "    }\n",
       "\n",
       "    .dataframe thead th {\n",
       "        text-align: right;\n",
       "    }\n",
       "</style>\n",
       "<table border=\"1\" class=\"dataframe\">\n",
       "  <thead>\n",
       "    <tr style=\"text-align: right;\">\n",
       "      <th></th>\n",
       "      <th>Quantity</th>\n",
       "      <th>UnitPrice</th>\n",
       "      <th>CustomerID</th>\n",
       "    </tr>\n",
       "  </thead>\n",
       "  <tbody>\n",
       "    <tr>\n",
       "      <th>count</th>\n",
       "      <td>444108.000000</td>\n",
       "      <td>444108.000000</td>\n",
       "      <td>327498.000000</td>\n",
       "    </tr>\n",
       "    <tr>\n",
       "      <th>mean</th>\n",
       "      <td>4.803066</td>\n",
       "      <td>2.694544</td>\n",
       "      <td>15345.003670</td>\n",
       "    </tr>\n",
       "    <tr>\n",
       "      <th>std</th>\n",
       "      <td>4.616762</td>\n",
       "      <td>1.930320</td>\n",
       "      <td>1704.517156</td>\n",
       "    </tr>\n",
       "    <tr>\n",
       "      <th>min</th>\n",
       "      <td>-12.000000</td>\n",
       "      <td>0.000000</td>\n",
       "      <td>12347.000000</td>\n",
       "    </tr>\n",
       "    <tr>\n",
       "      <th>25%</th>\n",
       "      <td>1.000000</td>\n",
       "      <td>1.250000</td>\n",
       "      <td>14041.000000</td>\n",
       "    </tr>\n",
       "    <tr>\n",
       "      <th>50%</th>\n",
       "      <td>3.000000</td>\n",
       "      <td>2.080000</td>\n",
       "      <td>15287.000000</td>\n",
       "    </tr>\n",
       "    <tr>\n",
       "      <th>75%</th>\n",
       "      <td>8.000000</td>\n",
       "      <td>3.750000</td>\n",
       "      <td>16843.000000</td>\n",
       "    </tr>\n",
       "    <tr>\n",
       "      <th>max</th>\n",
       "      <td>23.000000</td>\n",
       "      <td>8.330000</td>\n",
       "      <td>18287.000000</td>\n",
       "    </tr>\n",
       "  </tbody>\n",
       "</table>\n",
       "</div>"
      ],
      "text/plain": [
       "            Quantity      UnitPrice     CustomerID\n",
       "count  444108.000000  444108.000000  327498.000000\n",
       "mean        4.803066       2.694544   15345.003670\n",
       "std         4.616762       1.930320    1704.517156\n",
       "min       -12.000000       0.000000   12347.000000\n",
       "25%         1.000000       1.250000   14041.000000\n",
       "50%         3.000000       2.080000   15287.000000\n",
       "75%         8.000000       3.750000   16843.000000\n",
       "max        23.000000       8.330000   18287.000000"
      ]
     },
     "execution_count": 49,
     "metadata": {},
     "output_type": "execute_result"
    },
    {
     "data": {
      "image/png": "[encoded data removed]",
      "text/plain": [
       "<Figure size 432x288 with 1 Axes>"
      ]
     },
     "metadata": {
      "needs_background": "light"
     },
     "output_type": "display_data"
    }
   ],
   "source": [
    "#Nhóm 6\n",
    "import seaborn as sns\n",
    "# Mô tả dữ liệu\n",
    "data.describe()\n",
    "# vẽ biểu đồ boxplot cho các đặc trưng\n",
    "data.boxplot()\n",
    "# vẽ biểu đồ box plot cho 2 cột\n",
    "sns.boxplot(x=data[\"Quantity\"])\n",
    "sns.boxplot(x=data[\"UnitPrice\"])\n",
    "#Xử lý ngoại lai với IQR\n",
    "# tính giá trị Q1 và Q3\n",
    "Q1 = data.quantile(0.25)\n",
    "Q3 = data.quantile(0.75)\n",
    "# tính IQR \n",
    "IQR = Q3-Q1\n",
    "# lọc dữ liệu ngoại lai\n",
    "data_1 = data[~((data < (Q1 - 1.5 * IQR)) | (data > (Q3 + 1.5 * IQR))).any(axis=1)]\n",
    "# Mô tả dữ liệu sau khi lọc\n",
    "sns.boxplot(x=data_1[\"Quantity\"])\n",
    "sns.boxplot(x=data_1[\"UnitPrice\"])\n",
    "data_1.describe()"
   ]
  },
  {
   "cell_type": "code",
   "execution_count": 81,
   "id": "9b742e99-6e1a-459b-933e-25e4f2b88d07",
   "metadata": {},
   "outputs": [
    {
     "name": "stdout",
     "output_type": "stream",
     "text": [
      "0         0.021301\n",
      "1         0.012620\n",
      "2         0.019234\n",
      "3         0.012620\n",
      "4         0.012620\n",
      "            ...   \n",
      "541904    0.038871\n",
      "541905    0.025952\n",
      "541906    0.004766\n",
      "541907    0.004766\n",
      "541908    0.003502\n",
      "Name: UnitPrice, Length: 541909, dtype: float64\n",
      "0         0.016289\n",
      "1         0.016289\n",
      "2         0.007118\n",
      "3         0.016289\n",
      "4         0.016289\n",
      "            ...   \n",
      "541904    0.011224\n",
      "541905    0.016289\n",
      "541906    0.025460\n",
      "541907    0.025460\n",
      "541908    0.030045\n",
      "Name: Quantity, Length: 541909, dtype: float64\n",
      "       InvoiceNo StockCode                          Description  Quantity  \\\n",
      "0         536365    85123A   WHITE HANGING HEART T-LIGHT HOLDER         6   \n",
      "1         536365     71053                  WHITE METAL LANTERN         6   \n",
      "2         536365    84406B       CREAM CUPID HEARTS COAT HANGER         8   \n",
      "3         536365    84029G  KNITTED UNION FLAG HOT WATER BOTTLE         6   \n",
      "4         536365    84029E       RED WOOLLY HOTTIE WHITE HEART.         6   \n",
      "...          ...       ...                                  ...       ...   \n",
      "541904    581587     22613          PACK OF 20 SPACEBOY NAPKINS        12   \n",
      "541905    581587     22899         CHILDREN'S APRON DOLLY GIRL          6   \n",
      "541906    581587     23254        CHILDRENS CUTLERY DOLLY GIRL          4   \n",
      "541907    581587     23255      CHILDRENS CUTLERY CIRCUS PARADE         4   \n",
      "541908    581587     22138        BAKING SET 9 PIECE RETROSPOT          3   \n",
      "\n",
      "            InvoiceDate  UnitPrice  CustomerID         Country  \n",
      "0        12/1/2010 8:26       2.55     17850.0  United Kingdom  \n",
      "1        12/1/2010 8:26       3.39     17850.0  United Kingdom  \n",
      "2        12/1/2010 8:26       2.75     17850.0  United Kingdom  \n",
      "3        12/1/2010 8:26       3.39     17850.0  United Kingdom  \n",
      "4        12/1/2010 8:26       3.39     17850.0  United Kingdom  \n",
      "...                 ...        ...         ...             ...  \n",
      "541904  12/9/2011 12:50       0.85     12680.0          France  \n",
      "541905  12/9/2011 12:50       2.10     12680.0          France  \n",
      "541906  12/9/2011 12:50       4.15     12680.0          France  \n",
      "541907  12/9/2011 12:50       4.15     12680.0          France  \n",
      "541908  12/9/2011 12:50       4.95     12680.0          France  \n",
      "\n",
      "[540646 rows x 8 columns]\n",
      "       InvoiceNo StockCode                          Description  Quantity  \\\n",
      "0         536365    85123A   WHITE HANGING HEART T-LIGHT HOLDER         6   \n",
      "1         536365     71053                  WHITE METAL LANTERN         6   \n",
      "2         536365    84406B       CREAM CUPID HEARTS COAT HANGER         8   \n",
      "3         536365    84029G  KNITTED UNION FLAG HOT WATER BOTTLE         6   \n",
      "4         536365    84029E       RED WOOLLY HOTTIE WHITE HEART.         6   \n",
      "...          ...       ...                                  ...       ...   \n",
      "541904    581587     22613          PACK OF 20 SPACEBOY NAPKINS        12   \n",
      "541905    581587     22899         CHILDREN'S APRON DOLLY GIRL          6   \n",
      "541906    581587     23254        CHILDRENS CUTLERY DOLLY GIRL          4   \n",
      "541907    581587     23255      CHILDRENS CUTLERY CIRCUS PARADE         4   \n",
      "541908    581587     22138        BAKING SET 9 PIECE RETROSPOT          3   \n",
      "\n",
      "            InvoiceDate  UnitPrice  CustomerID         Country  \n",
      "0        12/1/2010 8:26       2.55     17850.0  United Kingdom  \n",
      "1        12/1/2010 8:26       3.39     17850.0  United Kingdom  \n",
      "2        12/1/2010 8:26       2.75     17850.0  United Kingdom  \n",
      "3        12/1/2010 8:26       3.39     17850.0  United Kingdom  \n",
      "4        12/1/2010 8:26       3.39     17850.0  United Kingdom  \n",
      "...                 ...        ...         ...             ...  \n",
      "541904  12/9/2011 12:50       0.85     12680.0          France  \n",
      "541905  12/9/2011 12:50       2.10     12680.0          France  \n",
      "541906  12/9/2011 12:50       4.15     12680.0          France  \n",
      "541907  12/9/2011 12:50       4.15     12680.0          France  \n",
      "541908  12/9/2011 12:50       4.95     12680.0          France  \n",
      "\n",
      "[536675 rows x 8 columns]\n"
     ]
    }
   ],
   "source": [
    "from scipy import stats\n",
    "z_up = np.abs(stats.zscore(data.loc[:,'UnitPrice'])) #Tính điểm z-score\n",
    "z_q = np.abs(stats.zscore(data.loc[:,'Quantity'])) \n",
    "print(z_up)\n",
    "print(z_q)\n",
    "\n",
    "data_up = data[(z_up<0.5)]\n",
    "data_q = data[(z_q<0.5)]\n",
    "print(data_up)\n",
    "print(data_q)"
   ]
  },
  {
   "cell_type": "code",
   "execution_count": 69,
   "id": "e4151cc3-f0f8-4b76-9470-d341b502c1b8",
   "metadata": {},
   "outputs": [
    {
     "data": {
      "text/plain": [
       "222681    402.702398\n",
       "524602    184.289918\n",
       "43702     174.487909\n",
       "43703     169.999370\n",
       "15017     139.900289\n",
       "             ...    \n",
       "159710      2.254438\n",
       "159703      2.254438\n",
       "112232      2.252784\n",
       "300335      2.251751\n",
       "217360      2.248547\n",
       "Name: UnitPrice, Length: 500, dtype: float64"
      ]
     },
     "execution_count": 69,
     "metadata": {},
     "output_type": "execute_result"
    }
   ],
   "source": [
    "z_up.sort_values(ascending=False).head(500)"
   ]
  },
  {
   "cell_type": "markdown",
   "id": "2e0c6694-7f5c-4de7-9817-e9252545276d",
   "metadata": {},
   "source": [
    "**Một công ty mối giới bất động sản, muốn cung cấp dịch vụ tư vấn giao dịch cho khách hàng tại khu vực Đống Đa Hà Nội với loại hình nhà mặt đất. Công ty đã tiến hành thu thập thông tin của một số bất động sản ở các vị trí khác nhau: Thông tin nhân viên của công ty thu thập được gồm:   \n",
    "Area: diện tích\n",
    "Price: diện tích căn nhà (tính theo đơn vị tỷ đồng)  \n",
    "postDate: Ngày chủ nhà giao bán trên mạng  \n",
    "land_certificate: Loại giấy tờ  \n",
    "house_direction: hướng nhà   \n",
    "balcony_direction: Hướng ban công  \n",
    "toilet: số lượng toilet  \n",
    "bedroom: Số lượng phòng ngủ  \n",
    "Floor: Số tầng  \n",
    "Property_Type: loại nhà đất (mặt phố hoặc trong ngõ)**"
   ]
  },
  {
   "cell_type": "markdown",
   "id": "3c63b01d-db10-4942-8425-ff32d1ec303c",
   "metadata": {
    "tags": []
   },
   "source": [
    "## Câu 3:"
   ]
  },
  {
   "cell_type": "markdown",
   "id": "6e566f8a-da9c-4655-9210-549bfd379c2a",
   "metadata": {},
   "source": [
    "**Phát hiện các dòng, cột chứa dữ liệu khuyết thiếu  \n",
    "Xóa bỏ hết tất cả những dòng dữ liệu không có thông tin về giá**"
   ]
  },
  {
   "cell_type": "code",
   "execution_count": null,
   "id": "8a6a3c3e-07d5-432c-992b-a5a86fa48e9c",
   "metadata": {},
   "outputs": [],
   "source": []
  },
  {
   "cell_type": "markdown",
   "id": "d8e2d6ab-f48d-4ce8-a2fc-287105303b62",
   "metadata": {
    "tags": []
   },
   "source": [
    "## Câu 4:"
   ]
  },
  {
   "cell_type": "markdown",
   "id": "c49ea9cf-140f-4582-9fc7-36e985238a60",
   "metadata": {},
   "source": [
    "**Thực hiện xử lý giá trị khuyết thiếu:  \n",
    "Thay thế giá trị khuyết thiếu của land_certificate bằng =”không có thông tin”,  \n",
    "house_direction, balcony_direction, toilet, bedroom, Floor  bằng giá trị có tần số xuất hiện lớn nhất của các thuộc tính đó**"
   ]
  },
  {
   "cell_type": "code",
   "execution_count": null,
   "id": "963424b4-6a41-4b29-8ef5-31830dc0c460",
   "metadata": {},
   "outputs": [],
   "source": []
  },
  {
   "cell_type": "markdown",
   "id": "d223fda3-ea65-4e88-9c4d-ccef9eba7e17",
   "metadata": {
    "tags": []
   },
   "source": [
    "## Câu 5:"
   ]
  },
  {
   "cell_type": "markdown",
   "id": "0d044f4a-a03d-4e90-9b6b-f874231cad1b",
   "metadata": {},
   "source": [
    "**Lọc thông tin những bất động sản ở trong ngõ thành bộ dữ liệu nhà ngõ  \n",
    "Tính toán giá/m2  ( đơn vị triệu/m2) với loại hình nhà ngõ**"
   ]
  },
  {
   "cell_type": "code",
   "execution_count": null,
   "id": "98363e28-fe5e-47f5-8950-42f73352c846",
   "metadata": {},
   "outputs": [],
   "source": []
  },
  {
   "cell_type": "markdown",
   "id": "e2c6cdab-37de-45ea-b172-d95c5556242b",
   "metadata": {
    "tags": []
   },
   "source": [
    "## Câu 6:"
   ]
  },
  {
   "cell_type": "markdown",
   "id": "2cc58128-c6cf-48f6-a24d-480c33190f13",
   "metadata": {},
   "source": [
    "**Phát hiện giá trị ngoại lai của các thuộc tính: diện tích, giá/m2 bằng phương pháp IQR  \n",
    "Thực hiện loại bỏ các dòng dữ liệu ngoại lai**"
   ]
  },
  {
   "cell_type": "code",
   "execution_count": null,
   "id": "1976a49b-efbf-4d0f-8d7f-de6561f69e74",
   "metadata": {},
   "outputs": [],
   "source": []
  },
  {
   "cell_type": "markdown",
   "id": "0f0a04c1-e4aa-456b-bf42-156e0d86f7a9",
   "metadata": {
    "tags": []
   },
   "source": [
    "## Câu 7:"
   ]
  },
  {
   "cell_type": "markdown",
   "id": "47b78046-0f5d-4ae8-9024-c33e566e5111",
   "metadata": {},
   "source": [
    "**Chuẩn hóa dữ liệu của tất cả các thuộc tính: price/m2 bằng các phương pháp:  \n",
    "min-max scaling,  \n",
    "z- score scaling,  \n",
    "Robust scaling,  \n",
    "và so sánh phân bố của thuộc tính này trước và sau khi chuẩn hóa**"
   ]
  }
 ],
 "metadata": {
  "kernelspec": {
   "display_name": "Python 3 (ipykernel)",
   "language": "python",
   "name": "python3"
  },
  "language_info": {
   "codemirror_mode": {
    "name": "ipython",
    "version": 3
   },
   "file_extension": ".py",
   "mimetype": "text/x-python",
   "name": "python",
   "nbconvert_exporter": "python",
   "pygments_lexer": "ipython3",
   "version": "3.9.12"
  }
 },
 "nbformat": 4,
 "nbformat_minor": 5
}
