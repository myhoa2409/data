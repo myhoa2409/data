{
 "cells": [
  {
   "cell_type": "markdown",
   "id": "0efaa7a6-c689-43e9-b662-d5ddc7ef5f4c",
   "metadata": {},
   "source": [
    "## khai báo thư viện\n"
   ]
  },
  {
   "cell_type": "code",
   "execution_count": 1,
   "id": "a50c8f51-192a-49d2-89ac-0dd7cbea8572",
   "metadata": {},
   "outputs": [
    {
     "name": "stdout",
     "output_type": "stream",
     "text": [
      "khai báo thư viện thành công\n"
     ]
    }
   ],
   "source": [
    "import pandas as pd\n",
    "import numpy as np\n",
    "print('khai báo thư viện thành công')\n"
   ]
  },
  {
   "cell_type": "markdown",
   "id": "07856c78-1b7a-4724-b4fe-e350b4aa1bdd",
   "metadata": {},
   "source": [
    "## tìm dữ liệu khuyết"
   ]
  },
  {
   "cell_type": "code",
   "execution_count": 5,
   "id": "78fff346-0a91-4629-a010-379b43851cf3",
   "metadata": {},
   "outputs": [
    {
     "data": {
      "text/plain": [
       "0    2.0\n",
       "1    4.0\n",
       "2    NaN\n",
       "3    8.0\n",
       "dtype: float64"
      ]
     },
     "execution_count": 5,
     "metadata": {},
     "output_type": "execute_result"
    }
   ],
   "source": [
    "a = pd.Series([2,4,np.NaN,8],dtype=pd.Int64Dtype())\n",
    "a\n",
    "\n",
    "b = pd.Series([2,4,np.NaN,8])\n",
    "b"
   ]
  },
  {
   "cell_type": "markdown",
   "id": "9f84a875-3026-4996-8eba-53dbc6ddf738",
   "metadata": {},
   "source": [
    "## kiểm tra xem dữ liệu có khuyết thiếu không"
   ]
  },
  {
   "cell_type": "code",
   "execution_count": 6,
   "id": "fdff5e43-e1d1-4d61-9169-7c3bec9da41f",
   "metadata": {},
   "outputs": [
    {
     "data": {
      "text/plain": [
       "0    False\n",
       "1    False\n",
       "2     True\n",
       "3    False\n",
       "dtype: bool"
      ]
     },
     "execution_count": 6,
     "metadata": {},
     "output_type": "execute_result"
    }
   ],
   "source": [
    "a.isnull()"
   ]
  },
  {
   "cell_type": "code",
   "execution_count": 7,
   "id": "b1e8c5f7-e66b-4c40-b483-4eadc3354841",
   "metadata": {},
   "outputs": [
    {
     "data": {
      "text/plain": [
       "0     True\n",
       "1     True\n",
       "2    False\n",
       "3     True\n",
       "dtype: bool"
      ]
     },
     "execution_count": 7,
     "metadata": {},
     "output_type": "execute_result"
    }
   ],
   "source": [
    "a.notnull()"
   ]
  },
  {
   "cell_type": "code",
   "execution_count": 14,
   "id": "4d38e579-7fa2-4130-be45-1af3939b9fd2",
   "metadata": {},
   "outputs": [
    {
     "data": {
      "text/plain": [
       "0     1\n",
       "1     2\n",
       "2     3\n",
       "3     4\n",
       "4     5\n",
       "5     6\n",
       "6     7\n",
       "7     8\n",
       "8     9\n",
       "9    11\n",
       "dtype: int64"
      ]
     },
     "execution_count": 14,
     "metadata": {},
     "output_type": "execute_result"
    }
   ],
   "source": [
    "c = pd.Series([1,2,3,4,5,6,7,8,9,11])\n",
    "c"
   ]
  },
  {
   "cell_type": "code",
   "execution_count": 15,
   "id": "7b16b604-69f3-4da5-b161-b42be389bbe6",
   "metadata": {},
   "outputs": [
    {
     "data": {
      "text/plain": [
       "5.6"
      ]
     },
     "execution_count": 15,
     "metadata": {},
     "output_type": "execute_result"
    }
   ],
   "source": [
    "c.sum()/c.size"
   ]
  },
  {
   "cell_type": "code",
   "execution_count": 16,
   "id": "a18c166e-7244-4e89-928b-70b053835646",
   "metadata": {},
   "outputs": [
    {
     "data": {
      "text/plain": [
       "5.6"
      ]
     },
     "execution_count": 16,
     "metadata": {},
     "output_type": "execute_result"
    }
   ],
   "source": [
    "c.mean()"
   ]
  },
  {
   "cell_type": "code",
   "execution_count": 17,
   "id": "317b14c3-458d-4147-ac66-96e55f918bcb",
   "metadata": {},
   "outputs": [
    {
     "data": {
      "text/plain": [
       "5.5"
      ]
     },
     "execution_count": 17,
     "metadata": {},
     "output_type": "execute_result"
    }
   ],
   "source": [
    "c.median()"
   ]
  },
  {
   "cell_type": "code",
   "execution_count": null,
   "id": "c0664951-849b-42d4-ae9e-939d091c0270",
   "metadata": {},
   "outputs": [],
   "source": []
  }
 ],
 "metadata": {
  "kernelspec": {
   "display_name": "Python 3 (ipykernel)",
   "language": "python",
   "name": "python3"
  },
  "language_info": {
   "codemirror_mode": {
    "name": "ipython",
    "version": 3
   },
   "file_extension": ".py",
   "mimetype": "text/x-python",
   "name": "python",
   "nbconvert_exporter": "python",
   "pygments_lexer": "ipython3",
   "version": "3.9.12"
  }
 },
 "nbformat": 4,
 "nbformat_minor": 5
}
