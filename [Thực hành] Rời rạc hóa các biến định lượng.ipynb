{
 "cells": [
  {
   "cell_type": "code",
   "execution_count": 1,
   "id": "1781447c-6b62-47af-b7f1-64551b12353d",
   "metadata": {},
   "outputs": [],
   "source": [
    "import pandas as pd\n",
    "import numpy as np\n"
   ]
  },
  {
   "cell_type": "code",
   "execution_count": 4,
   "id": "2d630894-aaad-4d60-b579-417515523fdb",
   "metadata": {},
   "outputs": [
    {
     "data": {
      "text/plain": [
       "[(18, 25], (18, 25], (18, 25], (25, 35], (18, 25], ..., (25, 35], (60, 100], (35, 60], (35, 60], (25, 35]]\n",
       "Length: 12\n",
       "Categories (4, interval[int64, right]): [(18, 25] < (25, 35] < (35, 60] < (60, 100]]"
      ]
     },
     "execution_count": 4,
     "metadata": {},
     "output_type": "execute_result"
    }
   ],
   "source": [
    "ages = [20, 22, 25, 27, 21, 23, 37, 31, 61, 45, 41, 32]\n",
    "\n",
    "# định nghĩa khoảng giá trị các nhóm\n",
    "bins = [18, 25, 35, 60, 100]\n",
    "\n",
    "# thực hiện rời rạc hóa\n",
    "cats = pd.cut(ages, bins)\n",
    "\n",
    "cats"
   ]
  },
  {
   "cell_type": "code",
   "execution_count": 5,
   "id": "094581a4-a285-4e95-8a5e-d0996bcf9196",
   "metadata": {},
   "outputs": [
    {
     "data": {
      "text/plain": [
       "array([0, 0, 0, 1, 0, 0, 2, 1, 3, 2, 2, 1], dtype=int8)"
      ]
     },
     "execution_count": 5,
     "metadata": {},
     "output_type": "execute_result"
    }
   ],
   "source": [
    "# lấy ra index của nhóm tương ứng với các phần tử\n",
    "cats.codes"
   ]
  },
  {
   "cell_type": "code",
   "execution_count": 6,
   "id": "5527f486-d922-40a9-8bbc-a2f0c7380b5f",
   "metadata": {},
   "outputs": [
    {
     "data": {
      "text/plain": [
       "IntervalIndex([(18, 25], (25, 35], (35, 60], (60, 100]], dtype='interval[int64, right]')"
      ]
     },
     "execution_count": 6,
     "metadata": {},
     "output_type": "execute_result"
    }
   ],
   "source": [
    "# lấy ra các nhóm\n",
    "cats.categories"
   ]
  },
  {
   "cell_type": "code",
   "execution_count": 7,
   "id": "0370eed0-8dc9-48fa-9b4a-c69b85eddc96",
   "metadata": {},
   "outputs": [
    {
     "data": {
      "text/plain": [
       "(18, 25]     5\n",
       "(25, 35]     3\n",
       "(35, 60]     3\n",
       "(60, 100]    1\n",
       "dtype: int64"
      ]
     },
     "execution_count": 7,
     "metadata": {},
     "output_type": "execute_result"
    }
   ],
   "source": [
    "# thống kê số lượng phần tử ở mỗi nhóm\n",
    "pd.value_counts(cats)"
   ]
  },
  {
   "cell_type": "code",
   "execution_count": 8,
   "id": "f965fccd-e977-43ff-a500-a20067cc110c",
   "metadata": {},
   "outputs": [
    {
     "data": {
      "text/plain": [
       "[[18, 26), [18, 26), [18, 26), [26, 36), [18, 26), ..., [26, 36), [61, 100), [36, 61), [36, 61), [26, 36)]\n",
       "Length: 12\n",
       "Categories (4, interval[int64, left]): [[18, 26) < [26, 36) < [36, 61) < [61, 100)]"
      ]
     },
     "execution_count": 8,
     "metadata": {},
     "output_type": "execute_result"
    }
   ],
   "source": [
    "pd.cut(ages, [18, 26, 36, 61, 100], right=False)"
   ]
  },
  {
   "cell_type": "code",
   "execution_count": 9,
   "id": "0056416f-7fd7-4fcf-998d-bf802e24589b",
   "metadata": {},
   "outputs": [
    {
     "data": {
      "text/plain": [
       "['Youth', 'Youth', 'Youth', 'YoungAdult', 'Youth', ..., 'YoungAdult', 'Senior', 'MiddleAged', 'MiddleAged', 'YoungAdult']\n",
       "Length: 12\n",
       "Categories (4, object): ['Youth' < 'YoungAdult' < 'MiddleAged' < 'Senior']"
      ]
     },
     "execution_count": 9,
     "metadata": {},
     "output_type": "execute_result"
    }
   ],
   "source": [
    "# danh sách nhãn\n",
    "group_names = ['Youth', 'YoungAdult', 'MiddleAged', 'Senior']\n",
    "\n",
    "pd.cut(ages, bins, labels=group_names)"
   ]
  },
  {
   "cell_type": "code",
   "execution_count": 10,
   "id": "0765802a-28f9-4026-b32d-e1f760d3c807",
   "metadata": {},
   "outputs": [],
   "source": [
    "# sinh dữ liệu ngẫu nhiên gồm 20 phần tử\n",
    "data = np.random.rand(20)"
   ]
  },
  {
   "cell_type": "code",
   "execution_count": 11,
   "id": "a7e90c10-abf1-4c83-9aee-344a4d5c0e12",
   "metadata": {},
   "outputs": [
    {
     "data": {
      "text/plain": [
       "[(0.79, 1.0], (0.38, 0.59], (0.38, 0.59], (0.59, 0.79], (0.38, 0.59], ..., (0.79, 1.0], (0.59, 0.79], (0.38, 0.59], (0.18, 0.38], (0.59, 0.79]]\n",
       "Length: 20\n",
       "Categories (4, interval[float64, right]): [(0.18, 0.38] < (0.38, 0.59] < (0.59, 0.79] < (0.79, 1.0]]"
      ]
     },
     "execution_count": 11,
     "metadata": {},
     "output_type": "execute_result"
    }
   ],
   "source": [
    "cut_data = pd.cut(data, 4, precision=2)\n",
    "cut_data"
   ]
  },
  {
   "cell_type": "code",
   "execution_count": 12,
   "id": "23c03607-bfd4-47e3-87d4-4d87deb95002",
   "metadata": {},
   "outputs": [
    {
     "data": {
      "text/plain": [
       "(0.38, 0.59]    7\n",
       "(0.59, 0.79]    5\n",
       "(0.18, 0.38]    4\n",
       "(0.79, 1.0]     4\n",
       "dtype: int64"
      ]
     },
     "execution_count": 12,
     "metadata": {},
     "output_type": "execute_result"
    }
   ],
   "source": [
    "pd.value_counts(cut_data)"
   ]
  },
  {
   "cell_type": "code",
   "execution_count": 15,
   "id": "f064bb07-af89-4460-95da-b2ece02ad4a1",
   "metadata": {},
   "outputs": [],
   "source": [
    " # sinh ngẫu nhiễn 1000 điểm dữ liệu\n",
    " data = np.random.randn(1000)"
   ]
  },
  {
   "cell_type": "code",
   "execution_count": 17,
   "id": "9fbcedb9-176a-4d06-aae1-696d319a67cf",
   "metadata": {},
   "outputs": [
    {
     "data": {
      "text/plain": [
       "[(0.0231, 0.624], (-0.673, 0.0231], (-2.8979999999999997, -0.673], (0.0231, 0.624], (0.624, 3.416], ..., (-2.8979999999999997, -0.673], (0.0231, 0.624], (-2.8979999999999997, -0.673], (0.624, 3.416], (0.0231, 0.624]]\n",
       "Length: 1000\n",
       "Categories (4, interval[float64, right]): [(-2.8979999999999997, -0.673] < (-0.673, 0.0231] < (0.0231, 0.624] < (0.624, 3.416]]"
      ]
     },
     "execution_count": 17,
     "metadata": {},
     "output_type": "execute_result"
    }
   ],
   "source": [
    "# thực hiện hàm qcut trên dữ liệu vừa sinh ra\n",
    "cats = pd.qcut(data, 4)\n",
    "cats"
   ]
  },
  {
   "cell_type": "code",
   "execution_count": 18,
   "id": "6a17fcff-5e76-463a-92f4-2654cbc18e96",
   "metadata": {},
   "outputs": [
    {
     "data": {
      "text/plain": [
       "(-2.8979999999999997, -0.673]    250\n",
       "(-0.673, 0.0231]                 250\n",
       "(0.0231, 0.624]                  250\n",
       "(0.624, 3.416]                   250\n",
       "dtype: int64"
      ]
     },
     "execution_count": 18,
     "metadata": {},
     "output_type": "execute_result"
    }
   ],
   "source": [
    "#thống kê số lượng phần tử\n",
    "pd.value_counts(cats)"
   ]
  },
  {
   "cell_type": "code",
   "execution_count": 20,
   "id": "39ee2ab0-f5e1-4f90-ad6a-20b9c72681a3",
   "metadata": {},
   "outputs": [
    {
     "data": {
      "text/plain": [
       "[(0.0231, 1.271], (-1.258, 0.0231], (-1.258, 0.0231], (0.0231, 1.271], (0.0231, 1.271], ..., (-1.258, 0.0231], (0.0231, 1.271], (-2.8979999999999997, -1.258], (0.0231, 1.271], (0.0231, 1.271]]\n",
       "Length: 1000\n",
       "Categories (4, interval[float64, right]): [(-2.8979999999999997, -1.258] < (-1.258, 0.0231] < (0.0231, 1.271] < (1.271, 3.416]]"
      ]
     },
     "execution_count": 20,
     "metadata": {},
     "output_type": "execute_result"
    }
   ],
   "source": [
    "pd.qcut(data, [0, 0.1, 0.5, 0.9, 1.])"
   ]
  },
  {
   "cell_type": "code",
   "execution_count": null,
   "id": "d77e38a3-7785-45e5-a4a6-518e7880cf7c",
   "metadata": {},
   "outputs": [],
   "source": []
  },
  {
   "cell_type": "code",
   "execution_count": null,
   "id": "dfc0cebc-343a-43c3-ba74-7ce5604ea5bf",
   "metadata": {},
   "outputs": [],
   "source": []
  }
 ],
 "metadata": {
  "kernelspec": {
   "display_name": "Python 3 (ipykernel)",
   "language": "python",
   "name": "python3"
  },
  "language_info": {
   "codemirror_mode": {
    "name": "ipython",
    "version": 3
   },
   "file_extension": ".py",
   "mimetype": "text/x-python",
   "name": "python",
   "nbconvert_exporter": "python",
   "pygments_lexer": "ipython3",
   "version": "3.9.12"
  }
 },
 "nbformat": 4,
 "nbformat_minor": 5
}
