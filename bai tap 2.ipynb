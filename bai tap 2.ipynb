{
 "cells": [
  {
   "cell_type": "markdown",
   "id": "dcf155d6-0a61-40f9-8e0b-3e5f722980b5",
   "metadata": {
    "tags": []
   },
   "source": [
    "# Bài tập số 2 (Pandas)"
   ]
  },
  {
   "cell_type": "markdown",
   "id": "e7bdbc2c-0c46-4490-a359-db96e3118218",
   "metadata": {
    "tags": []
   },
   "source": [
    "### Trước khi bắt đầu và sau khi code xong, chọn 'Kernel'->'Restart Kernel and Run All Cells' để có thể chấm điểm chính xác.\n",
    "### Các bạn viết code vào các cell trả lời.  \n",
    "### Cell nào cho ra đúng kết quả sẽ có thêm đoạn ===== Done =====  "
   ]
  },
  {
   "cell_type": "code",
   "execution_count": 52,
   "id": "cc9bc6f5-d860-4d39-89de-356e7274e153",
   "metadata": {
    "jupyter": {
     "source_hidden": true
    },
    "tags": []
   },
   "outputs": [],
   "source": [
    "# Không được động vào cell này\n",
    "from ipywidgets import widgets\n",
    "from IPython.display import HTML,Javascript, display\n",
    "from IPython.core.magic import register_cell_magic\n",
    "from IPython.utils.capture import capture_output\n",
    "from IPython import get_ipython\n",
    "from IPython.core import magic_arguments\n",
    "\n",
    "response = ''\n",
    "score = [0]*11\n",
    "\n",
    "def popup(text):\n",
    "    display(HTML(\"<script>alert('{}');</script>\".format(text)))\n",
    "\n",
    "def final_score(score):\n",
    "    final = 'Diem so la: ' +  str(sum(score)) + '/10'\n",
    "    print(final)\n",
    "    popup(final)\n",
    "\n",
    "@magic_arguments.magic_arguments()\n",
    "@magic_arguments.argument('output', type=str, default='', nargs='?',\n",
    "    help=\"\"\"The name of the variable in which to store output.\n",
    "    This is a utils.io.CapturedIO object with stdout/err attributes\n",
    "    for the text of the captured output.\n",
    "    CapturedOutput also has a show() method for displaying the output,\n",
    "    and __call__ as well, so you can use that to quickly display the\n",
    "    output.\n",
    "    If unspecified, captured output is discarded.\n",
    "    \"\"\"\n",
    ")\n",
    "@magic_arguments.argument('--no-stderr', action=\"store_true\",\n",
    "    help=\"\"\"Don't capture stderr.\"\"\"\n",
    ")\n",
    "@magic_arguments.argument('--no-stdout', action=\"store_true\",\n",
    "    help=\"\"\"Don't capture stdout.\"\"\"\n",
    ")\n",
    "@magic_arguments.argument('--no-display', action=\"store_true\",\n",
    "    help=\"\"\"Don't capture IPython's rich display.\"\"\"\n",
    ")    \n",
    "\n",
    "\n",
    "@register_cell_magic\n",
    "def tee(line, cell):\n",
    "    args = magic_arguments.parse_argstring(tee, line)\n",
    "    out = not args.no_stdout\n",
    "    err = not args.no_stderr\n",
    "    disp = not args.no_display\n",
    "    with capture_output(out, err, disp) as io:\n",
    "        get_ipython().run_cell(cell)\n",
    "    if args.output:\n",
    "        get_ipython().user_ns[args.output] = io\n",
    "    \n",
    "    io()\n",
    "\n",
    "@register_cell_magic('cauhoi')\n",
    "def cauhoi(line, cell):\n",
    "        get_ipython().run_cell(cell)\n",
    "        check[int(line)]()\n",
    "        \n",
    "def cau1():\n",
    "    find = str(response).find('Đã khai báo thư viện thành công')\n",
    "    if find >=0 :\n",
    "        score[1] = 1\n",
    "        print('===== Done =====')\n",
    "    else:\n",
    "        score[1] = 0\n",
    "def cau2():\n",
    "    find = str(response).find('Đã nhập dữ liệu thành công')\n",
    "    if find >=0 :\n",
    "        score[2] = 1\n",
    "        print('===== Done =====')\n",
    "    else:\n",
    "        score[2] = 0\n",
    "def cau3():\n",
    "    find = str(response).find('RangeIndex: 325 entries, 0 to 324')\n",
    "    if find >=0 :\n",
    "        score[3] = 1\n",
    "        print('===== Done =====')\n",
    "    else:\n",
    "        score[3] = 0\n",
    "def cau4():\n",
    "    find1 = str(response).find('325')\n",
    "    find2 = str(response).find('74')\n",
    "    if ((find1 >=0) & (find2 >= 0)) :\n",
    "        score[4] = 1\n",
    "        print('===== Done =====')\n",
    "    else:\n",
    "        score[4] = 0\n",
    "def cau5():\n",
    "    find = str(response).find('Nơi sinh       TỔNG\\nTổng         910232')\n",
    "    if find >=0 :\n",
    "        score[5] = 1\n",
    "        print('===== Done =====')\n",
    "    else:\n",
    "        score[5] = 0\n",
    "def cau6():\n",
    "    find1 = str(response).find('      2015   2016   2017   2018\\n0      NaN    NaN    NaN    NaN')\n",
    "    find2 = str(response).find('323  453.0  444.0  333.0  234.0')\n",
    "    find3 = str(response).find('324  27585.0  31956.0  36450.0  35737.0')\n",
    "    # print(find1, ' ', find2, ' ', find3)\n",
    "    if (find1 >=0) & (find2 >=0) & (find3 <0):\n",
    "        score[6] = 1\n",
    "        print('===== Done =====')\n",
    "    else:\n",
    "        score[6] = 0\n",
    "def cau7():\n",
    "    find1 = str(response).find('\\n Nơi sinh\\nEngland          177913\\nIndia             67243\\nSouth Africa      61152\\nChina             58987\\nFiji              51811\\nWestern Samoa     45347\\nPhilippines       38717\\nSamoa             34787\\nScotland          25632\\nKorea             20993\\n')\n",
    "    find2 = str(response).find('India             4665.0\\nEngland           3974.0\\nPhilippines       3565.0\\nFiji              3242.0\\nSouth Africa      2894.0\\nSamoa             2871.0\\nChina             1210.0\\nUnited Kingdom    1191.0\\nTonga              684.0\\nAustralia          679.0\\n')\n",
    "    find3 = str(response).find('21')\n",
    "    find4 = str(response).find('20')\n",
    "    if (find1 >=0) & (find2 >=0) & (find3 >0) & (find3 >0):\n",
    "        score[7] = 1\n",
    "        print('===== Done =====')\n",
    "    else:\n",
    "        score[7] = 0\n",
    "def cau8():\n",
    "    find = str(response).find('\\nName: 2020, Length: 325, dtype: int32\\n')\n",
    "    if find >=0 :\n",
    "        score[8] = 1\n",
    "        print('===== Done =====')\n",
    "    else:\n",
    "        score[8] = 0\n",
    "def cau9():\n",
    "    # find = str(response).find('Đã nhập dữ liệu thành công')\n",
    "    try:\n",
    "        if (data['Nơi sinh'][324] == 'Zodiac') & (data.loc[324,'1949':].notnull().values.any()) :\n",
    "            score[9] = 1\n",
    "            print('===== Done =====')\n",
    "        else:\n",
    "            score[9] = 0\n",
    "    except:\n",
    "        score[9] = 0\n",
    "def cau10():\n",
    "    # find = str(response).find('Đã nhập dữ liệu thành công')\n",
    "    try:\n",
    "        if (data['Nơi sinh'][323] == 'Zimbabwe') & (data['Tổng'][323] != 8284.0) & (data['%'][323] != '0.91%') :\n",
    "            score[10] = 1\n",
    "            print('===== Done =====')\n",
    "        else:\n",
    "            score[10] = 0\n",
    "    except:\n",
    "        score[10] = 0\n",
    "    \n",
    "check = {1: cau1, 2:cau2, 3: cau3, 4: cau4, 5: cau5, 6: cau6, 7: cau7, 8: cau8, 9: cau9, 10: cau10}"
   ]
  },
  {
   "cell_type": "markdown",
   "id": "51ba9894-b5f3-4511-b264-bbf9409a5cfe",
   "metadata": {},
   "source": [
    "## Câu 1. Khai báo thư viện pandas, numpy. Sau đó xuất ra thông báo: 'Đã khai báo thư viện thành công'"
   ]
  },
  {
   "cell_type": "code",
   "execution_count": 53,
   "id": "76d926e7-9a08-4582-87d6-cd35479aaccc",
   "metadata": {},
   "outputs": [
    {
     "name": "stdout",
     "output_type": "stream",
     "text": [
      "Đã khai báo thư viện thành công\n",
      "===== Done =====\n"
     ]
    }
   ],
   "source": [
    "%%cauhoi 1\n",
    "%%tee response\n",
    "# Code dưới dòng này\n",
    "import pandas as pd\n",
    "import numpy as np\n",
    "print('Đã khai báo thư viện thành công')"
   ]
  },
  {
   "cell_type": "markdown",
   "id": "c5124c01-10cc-47ab-bf04-e116f81b029b",
   "metadata": {},
   "source": [
    "## Câu 2. Nhập dữ liệu dân số nhập cư 'granted-citizenship-1949-2019.csv', biến tên data. Hiển thị dữ liệu. Sau đó xuất ra thông báo: 'Đã nhập dữ liệu thành công'"
   ]
  },
  {
   "cell_type": "code",
   "execution_count": 54,
   "id": "74ac4bbb-c415-4e0c-85d2-02aaf127eb61",
   "metadata": {},
   "outputs": [
    {
     "name": "stdout",
     "output_type": "stream",
     "text": [
      "Đã nhập dữ liệu thành công\n"
     ]
    },
    {
     "data": {
      "text/html": [
       "<div>\n",
       "<style scoped>\n",
       "    .dataframe tbody tr th:only-of-type {\n",
       "        vertical-align: middle;\n",
       "    }\n",
       "\n",
       "    .dataframe tbody tr th {\n",
       "        vertical-align: top;\n",
       "    }\n",
       "\n",
       "    .dataframe thead th {\n",
       "        text-align: right;\n",
       "    }\n",
       "</style>\n",
       "<table border=\"1\" class=\"dataframe\">\n",
       "  <thead>\n",
       "    <tr style=\"text-align: right;\">\n",
       "      <th></th>\n",
       "      <th>Country of Birth</th>\n",
       "      <th>Total</th>\n",
       "      <th>%</th>\n",
       "      <th>1949</th>\n",
       "      <th>1950</th>\n",
       "      <th>1951</th>\n",
       "      <th>1952</th>\n",
       "      <th>1953</th>\n",
       "      <th>1954</th>\n",
       "      <th>1955</th>\n",
       "      <th>...</th>\n",
       "      <th>2010</th>\n",
       "      <th>2011</th>\n",
       "      <th>2012</th>\n",
       "      <th>2013</th>\n",
       "      <th>2014</th>\n",
       "      <th>2015</th>\n",
       "      <th>2016</th>\n",
       "      <th>2017</th>\n",
       "      <th>2018</th>\n",
       "      <th>2019</th>\n",
       "    </tr>\n",
       "  </thead>\n",
       "  <tbody>\n",
       "    <tr>\n",
       "      <th>0</th>\n",
       "      <td>Aden</td>\n",
       "      <td>25</td>\n",
       "      <td>0.00%</td>\n",
       "      <td>NaN</td>\n",
       "      <td>NaN</td>\n",
       "      <td>NaN</td>\n",
       "      <td>NaN</td>\n",
       "      <td>NaN</td>\n",
       "      <td>NaN</td>\n",
       "      <td>NaN</td>\n",
       "      <td>...</td>\n",
       "      <td>NaN</td>\n",
       "      <td>1.0</td>\n",
       "      <td>1.0</td>\n",
       "      <td>1.0</td>\n",
       "      <td>NaN</td>\n",
       "      <td>NaN</td>\n",
       "      <td>NaN</td>\n",
       "      <td>NaN</td>\n",
       "      <td>NaN</td>\n",
       "      <td>1.0</td>\n",
       "    </tr>\n",
       "    <tr>\n",
       "      <th>1</th>\n",
       "      <td>Afghanistan</td>\n",
       "      <td>3499</td>\n",
       "      <td>0.38%</td>\n",
       "      <td>NaN</td>\n",
       "      <td>NaN</td>\n",
       "      <td>NaN</td>\n",
       "      <td>NaN</td>\n",
       "      <td>NaN</td>\n",
       "      <td>NaN</td>\n",
       "      <td>NaN</td>\n",
       "      <td>...</td>\n",
       "      <td>78.0</td>\n",
       "      <td>48.0</td>\n",
       "      <td>136.0</td>\n",
       "      <td>79.0</td>\n",
       "      <td>117.0</td>\n",
       "      <td>103.0</td>\n",
       "      <td>64.0</td>\n",
       "      <td>137.0</td>\n",
       "      <td>305.0</td>\n",
       "      <td>255.0</td>\n",
       "    </tr>\n",
       "    <tr>\n",
       "      <th>2</th>\n",
       "      <td>Albania</td>\n",
       "      <td>144</td>\n",
       "      <td>0.02%</td>\n",
       "      <td>NaN</td>\n",
       "      <td>NaN</td>\n",
       "      <td>NaN</td>\n",
       "      <td>NaN</td>\n",
       "      <td>NaN</td>\n",
       "      <td>NaN</td>\n",
       "      <td>NaN</td>\n",
       "      <td>...</td>\n",
       "      <td>3.0</td>\n",
       "      <td>6.0</td>\n",
       "      <td>10.0</td>\n",
       "      <td>1.0</td>\n",
       "      <td>4.0</td>\n",
       "      <td>8.0</td>\n",
       "      <td>2.0</td>\n",
       "      <td>1.0</td>\n",
       "      <td>3.0</td>\n",
       "      <td>2.0</td>\n",
       "    </tr>\n",
       "    <tr>\n",
       "      <th>3</th>\n",
       "      <td>Algeria</td>\n",
       "      <td>241</td>\n",
       "      <td>0.03%</td>\n",
       "      <td>NaN</td>\n",
       "      <td>NaN</td>\n",
       "      <td>NaN</td>\n",
       "      <td>NaN</td>\n",
       "      <td>NaN</td>\n",
       "      <td>NaN</td>\n",
       "      <td>NaN</td>\n",
       "      <td>...</td>\n",
       "      <td>2.0</td>\n",
       "      <td>1.0</td>\n",
       "      <td>6.0</td>\n",
       "      <td>5.0</td>\n",
       "      <td>7.0</td>\n",
       "      <td>12.0</td>\n",
       "      <td>5.0</td>\n",
       "      <td>7.0</td>\n",
       "      <td>6.0</td>\n",
       "      <td>4.0</td>\n",
       "    </tr>\n",
       "    <tr>\n",
       "      <th>4</th>\n",
       "      <td>American Samoa</td>\n",
       "      <td>862</td>\n",
       "      <td>0.09%</td>\n",
       "      <td>NaN</td>\n",
       "      <td>NaN</td>\n",
       "      <td>NaN</td>\n",
       "      <td>NaN</td>\n",
       "      <td>NaN</td>\n",
       "      <td>NaN</td>\n",
       "      <td>NaN</td>\n",
       "      <td>...</td>\n",
       "      <td>41.0</td>\n",
       "      <td>36.0</td>\n",
       "      <td>58.0</td>\n",
       "      <td>48.0</td>\n",
       "      <td>44.0</td>\n",
       "      <td>51.0</td>\n",
       "      <td>48.0</td>\n",
       "      <td>40.0</td>\n",
       "      <td>58.0</td>\n",
       "      <td>45.0</td>\n",
       "    </tr>\n",
       "    <tr>\n",
       "      <th>...</th>\n",
       "      <td>...</td>\n",
       "      <td>...</td>\n",
       "      <td>...</td>\n",
       "      <td>...</td>\n",
       "      <td>...</td>\n",
       "      <td>...</td>\n",
       "      <td>...</td>\n",
       "      <td>...</td>\n",
       "      <td>...</td>\n",
       "      <td>...</td>\n",
       "      <td>...</td>\n",
       "      <td>...</td>\n",
       "      <td>...</td>\n",
       "      <td>...</td>\n",
       "      <td>...</td>\n",
       "      <td>...</td>\n",
       "      <td>...</td>\n",
       "      <td>...</td>\n",
       "      <td>...</td>\n",
       "      <td>...</td>\n",
       "      <td>...</td>\n",
       "    </tr>\n",
       "    <tr>\n",
       "      <th>320</th>\n",
       "      <td>Zaire</td>\n",
       "      <td>25</td>\n",
       "      <td>0.00%</td>\n",
       "      <td>1.0</td>\n",
       "      <td>NaN</td>\n",
       "      <td>NaN</td>\n",
       "      <td>NaN</td>\n",
       "      <td>NaN</td>\n",
       "      <td>NaN</td>\n",
       "      <td>NaN</td>\n",
       "      <td>...</td>\n",
       "      <td>NaN</td>\n",
       "      <td>NaN</td>\n",
       "      <td>NaN</td>\n",
       "      <td>1.0</td>\n",
       "      <td>NaN</td>\n",
       "      <td>NaN</td>\n",
       "      <td>NaN</td>\n",
       "      <td>1.0</td>\n",
       "      <td>1.0</td>\n",
       "      <td>NaN</td>\n",
       "    </tr>\n",
       "    <tr>\n",
       "      <th>321</th>\n",
       "      <td>Zambia</td>\n",
       "      <td>1423</td>\n",
       "      <td>0.16%</td>\n",
       "      <td>NaN</td>\n",
       "      <td>NaN</td>\n",
       "      <td>NaN</td>\n",
       "      <td>NaN</td>\n",
       "      <td>NaN</td>\n",
       "      <td>NaN</td>\n",
       "      <td>NaN</td>\n",
       "      <td>...</td>\n",
       "      <td>34.0</td>\n",
       "      <td>51.0</td>\n",
       "      <td>53.0</td>\n",
       "      <td>77.0</td>\n",
       "      <td>41.0</td>\n",
       "      <td>57.0</td>\n",
       "      <td>56.0</td>\n",
       "      <td>49.0</td>\n",
       "      <td>38.0</td>\n",
       "      <td>48.0</td>\n",
       "    </tr>\n",
       "    <tr>\n",
       "      <th>322</th>\n",
       "      <td>Zanzibar</td>\n",
       "      <td>3</td>\n",
       "      <td>0.00%</td>\n",
       "      <td>NaN</td>\n",
       "      <td>NaN</td>\n",
       "      <td>NaN</td>\n",
       "      <td>NaN</td>\n",
       "      <td>NaN</td>\n",
       "      <td>NaN</td>\n",
       "      <td>NaN</td>\n",
       "      <td>...</td>\n",
       "      <td>NaN</td>\n",
       "      <td>NaN</td>\n",
       "      <td>NaN</td>\n",
       "      <td>NaN</td>\n",
       "      <td>NaN</td>\n",
       "      <td>NaN</td>\n",
       "      <td>NaN</td>\n",
       "      <td>NaN</td>\n",
       "      <td>NaN</td>\n",
       "      <td>NaN</td>\n",
       "    </tr>\n",
       "    <tr>\n",
       "      <th>323</th>\n",
       "      <td>Zimbabwe</td>\n",
       "      <td>8284</td>\n",
       "      <td>0.91%</td>\n",
       "      <td>NaN</td>\n",
       "      <td>NaN</td>\n",
       "      <td>NaN</td>\n",
       "      <td>NaN</td>\n",
       "      <td>NaN</td>\n",
       "      <td>NaN</td>\n",
       "      <td>NaN</td>\n",
       "      <td>...</td>\n",
       "      <td>249.0</td>\n",
       "      <td>619.0</td>\n",
       "      <td>687.0</td>\n",
       "      <td>601.0</td>\n",
       "      <td>546.0</td>\n",
       "      <td>453.0</td>\n",
       "      <td>444.0</td>\n",
       "      <td>333.0</td>\n",
       "      <td>234.0</td>\n",
       "      <td>177.0</td>\n",
       "    </tr>\n",
       "    <tr>\n",
       "      <th>324</th>\n",
       "      <td>TOTAL</td>\n",
       "      <td>910232</td>\n",
       "      <td>100.00%</td>\n",
       "      <td>18629.0</td>\n",
       "      <td>230.0</td>\n",
       "      <td>369.0</td>\n",
       "      <td>388.0</td>\n",
       "      <td>390.0</td>\n",
       "      <td>631.0</td>\n",
       "      <td>798.0</td>\n",
       "      <td>...</td>\n",
       "      <td>15178.0</td>\n",
       "      <td>19287.0</td>\n",
       "      <td>27221.0</td>\n",
       "      <td>27895.0</td>\n",
       "      <td>27891.0</td>\n",
       "      <td>27585.0</td>\n",
       "      <td>31956.0</td>\n",
       "      <td>36450.0</td>\n",
       "      <td>35737.0</td>\n",
       "      <td>31030.0</td>\n",
       "    </tr>\n",
       "  </tbody>\n",
       "</table>\n",
       "<p>325 rows × 74 columns</p>\n",
       "</div>"
      ],
      "text/plain": [
       "    Country of Birth   Total        %     1949   1950   1951   1952   1953  \\\n",
       "0               Aden      25    0.00%      NaN    NaN    NaN    NaN    NaN   \n",
       "1        Afghanistan    3499    0.38%      NaN    NaN    NaN    NaN    NaN   \n",
       "2            Albania     144    0.02%      NaN    NaN    NaN    NaN    NaN   \n",
       "3            Algeria     241    0.03%      NaN    NaN    NaN    NaN    NaN   \n",
       "4     American Samoa     862    0.09%      NaN    NaN    NaN    NaN    NaN   \n",
       "..               ...     ...      ...      ...    ...    ...    ...    ...   \n",
       "320            Zaire      25    0.00%      1.0    NaN    NaN    NaN    NaN   \n",
       "321           Zambia    1423    0.16%      NaN    NaN    NaN    NaN    NaN   \n",
       "322         Zanzibar       3    0.00%      NaN    NaN    NaN    NaN    NaN   \n",
       "323         Zimbabwe    8284    0.91%      NaN    NaN    NaN    NaN    NaN   \n",
       "324            TOTAL  910232  100.00%  18629.0  230.0  369.0  388.0  390.0   \n",
       "\n",
       "      1954   1955  ...     2010     2011     2012     2013     2014     2015  \\\n",
       "0      NaN    NaN  ...      NaN      1.0      1.0      1.0      NaN      NaN   \n",
       "1      NaN    NaN  ...     78.0     48.0    136.0     79.0    117.0    103.0   \n",
       "2      NaN    NaN  ...      3.0      6.0     10.0      1.0      4.0      8.0   \n",
       "3      NaN    NaN  ...      2.0      1.0      6.0      5.0      7.0     12.0   \n",
       "4      NaN    NaN  ...     41.0     36.0     58.0     48.0     44.0     51.0   \n",
       "..     ...    ...  ...      ...      ...      ...      ...      ...      ...   \n",
       "320    NaN    NaN  ...      NaN      NaN      NaN      1.0      NaN      NaN   \n",
       "321    NaN    NaN  ...     34.0     51.0     53.0     77.0     41.0     57.0   \n",
       "322    NaN    NaN  ...      NaN      NaN      NaN      NaN      NaN      NaN   \n",
       "323    NaN    NaN  ...    249.0    619.0    687.0    601.0    546.0    453.0   \n",
       "324  631.0  798.0  ...  15178.0  19287.0  27221.0  27895.0  27891.0  27585.0   \n",
       "\n",
       "        2016     2017     2018     2019  \n",
       "0        NaN      NaN      NaN      1.0  \n",
       "1       64.0    137.0    305.0    255.0  \n",
       "2        2.0      1.0      3.0      2.0  \n",
       "3        5.0      7.0      6.0      4.0  \n",
       "4       48.0     40.0     58.0     45.0  \n",
       "..       ...      ...      ...      ...  \n",
       "320      NaN      1.0      1.0      NaN  \n",
       "321     56.0     49.0     38.0     48.0  \n",
       "322      NaN      NaN      NaN      NaN  \n",
       "323    444.0    333.0    234.0    177.0  \n",
       "324  31956.0  36450.0  35737.0  31030.0  \n",
       "\n",
       "[325 rows x 74 columns]"
      ]
     },
     "metadata": {},
     "output_type": "display_data"
    },
    {
     "name": "stdout",
     "output_type": "stream",
     "text": [
      "===== Done =====\n"
     ]
    }
   ],
   "source": [
    "%%cauhoi 2\n",
    "%%tee response\n",
    "# Code dưới dòng này\n",
    "data = pd.read_csv('granted-citizenship-1949-2019.csv', header=0, encoding = \"ISO-8859-1\")\n",
    "\n",
    "display(data)\n",
    "print(\"Đã nhập dữ liệu thành công\")"
   ]
  },
  {
   "cell_type": "markdown",
   "id": "9f56c798-5731-40cf-8866-b42730d951bb",
   "metadata": {},
   "source": [
    "## Câu 3. Tìm hiểu các thống kê cơ bản về dữ liệu. Xuất ra đánh giá của bạn về dữ liệu này."
   ]
  },
  {
   "cell_type": "code",
   "execution_count": 55,
   "id": "9315abd6-3809-4763-941d-56d738946de9",
   "metadata": {},
   "outputs": [
    {
     "name": "stdout",
     "output_type": "stream",
     "text": [
      "<class 'pandas.core.frame.DataFrame'>\n",
      "RangeIndex: 325 entries, 0 to 324\n",
      "Data columns (total 74 columns):\n",
      " #   Column            Non-Null Count  Dtype  \n",
      "---  ------            --------------  -----  \n",
      " 0   Country of Birth  325 non-null    object \n",
      " 1   Total             325 non-null    int64  \n",
      " 2   %                 325 non-null    object \n",
      " 3   1949              118 non-null    float64\n",
      " 4   1950              40 non-null     float64\n",
      " 5   1951              48 non-null     float64\n",
      " 6   1952              46 non-null     float64\n",
      " 7   1953              51 non-null     float64\n",
      " 8   1954              60 non-null     float64\n",
      " 9   1955              62 non-null     float64\n",
      " 10  1956              66 non-null     float64\n",
      " 11  1957              68 non-null     float64\n",
      " 12  1958              65 non-null     float64\n",
      " 13  1959              74 non-null     float64\n",
      " 14  1960              81 non-null     float64\n",
      " 15  1961              73 non-null     float64\n",
      " 16  1962              71 non-null     float64\n",
      " 17  1963              70 non-null     float64\n",
      " 18  1964              73 non-null     float64\n",
      " 19  1965              80 non-null     float64\n",
      " 20  1966              75 non-null     float64\n",
      " 21  1967              92 non-null     float64\n",
      " 22  1968              93 non-null     float64\n",
      " 23  1969              98 non-null     float64\n",
      " 24  1970              85 non-null     float64\n",
      " 25  1971              83 non-null     float64\n",
      " 26  1972              99 non-null     float64\n",
      " 27  1973              107 non-null    float64\n",
      " 28  1974              98 non-null     float64\n",
      " 29  1975              114 non-null    float64\n",
      " 30  1976              114 non-null    float64\n",
      " 31  1977              136 non-null    float64\n",
      " 32  1978              154 non-null    float64\n",
      " 33  1979              144 non-null    float64\n",
      " 34  1980              143 non-null    float64\n",
      " 35  1981              147 non-null    float64\n",
      " 36  1982              147 non-null    float64\n",
      " 37  1983              125 non-null    float64\n",
      " 38  1984              135 non-null    float64\n",
      " 39  1985              130 non-null    float64\n",
      " 40  1986              126 non-null    float64\n",
      " 41  1987              143 non-null    float64\n",
      " 42  1988              145 non-null    float64\n",
      " 43  1989              144 non-null    float64\n",
      " 44  1990              152 non-null    float64\n",
      " 45  1991              147 non-null    float64\n",
      " 46  1992              141 non-null    float64\n",
      " 47  1993              155 non-null    float64\n",
      " 48  1994              148 non-null    float64\n",
      " 49  1995              152 non-null    float64\n",
      " 50  1996              154 non-null    float64\n",
      " 51  1997              164 non-null    float64\n",
      " 52  1998              165 non-null    float64\n",
      " 53  1999              184 non-null    float64\n",
      " 54  2000              190 non-null    float64\n",
      " 55  2001              184 non-null    float64\n",
      " 56  2002              179 non-null    float64\n",
      " 57  2003              182 non-null    float64\n",
      " 58  2004              192 non-null    float64\n",
      " 59  2005              171 non-null    float64\n",
      " 60  2006              185 non-null    float64\n",
      " 61  2007              192 non-null    float64\n",
      " 62  2008              191 non-null    float64\n",
      " 63  2009              187 non-null    float64\n",
      " 64  2010              166 non-null    float64\n",
      " 65  2011              186 non-null    float64\n",
      " 66  2012              204 non-null    float64\n",
      " 67  2013              197 non-null    float64\n",
      " 68  2014              201 non-null    float64\n",
      " 69  2015              197 non-null    float64\n",
      " 70  2016              203 non-null    float64\n",
      " 71  2017              204 non-null    float64\n",
      " 72  2018              204 non-null    float64\n",
      " 73  2019              196 non-null    float64\n",
      "dtypes: float64(71), int64(1), object(2)\n",
      "memory usage: 188.0+ KB\n",
      "===== Done =====\n"
     ]
    }
   ],
   "source": [
    "%%cauhoi 3\n",
    "%%tee response\n",
    "# Code dưới dòng này\n",
    "\n",
    "data.info()"
   ]
  },
  {
   "cell_type": "markdown",
   "id": "7e350778-a32a-441e-b79f-4953dd23120e",
   "metadata": {},
   "source": [
    "## Câu 4. Xuất ra số dòng và số cột của dữ liệu."
   ]
  },
  {
   "cell_type": "markdown",
   "id": "c1a73764-c7b5-4770-b7d5-5812c9e25f98",
   "metadata": {},
   "source": [
    "**Gợi ý:**"
   ]
  },
  {
   "cell_type": "code",
   "execution_count": 56,
   "id": "8dc62d5f-eeb1-4ae7-b82e-8e2d9d796028",
   "metadata": {
    "tags": []
   },
   "outputs": [],
   "source": [
    "# nhớ dùng print(...) để chương trình có thể chấm điểm"
   ]
  },
  {
   "cell_type": "code",
   "execution_count": 57,
   "id": "bb2a333d-27d8-4cc9-927c-528c1e3a2d8d",
   "metadata": {},
   "outputs": [
    {
     "name": "stdout",
     "output_type": "stream",
     "text": [
      "(325, 74)\n",
      "325\n",
      "74\n",
      "===== Done =====\n"
     ]
    }
   ],
   "source": [
    "%%cauhoi 4\n",
    "%%tee response\n",
    "# Code dưới dòng này\n",
    "\n",
    "print(data.shape) \n",
    "\n",
    "print(data.shape[0])\n",
    "\n",
    "print(data.shape[1])\n"
   ]
  },
  {
   "cell_type": "markdown",
   "id": "c74f94e9-0873-417c-9e89-142571a6450c",
   "metadata": {},
   "source": [
    "## Câu 5. Việt hóa một số từ \"Country of Birth\" -> \"Nơi sinh\", \"Total\" -> \"Tổng\", \"TOTAL\" -> \"TỔNG\". Hiển thị bảng. \n",
    "## Truy xuất dòng 'TỔNG' dùng .loc[...]."
   ]
  },
  {
   "cell_type": "markdown",
   "id": "ade2abda-c212-4178-871e-0e46d271ecc4",
   "metadata": {},
   "source": [
    "**Gợi ý:**"
   ]
  },
  {
   "cell_type": "code",
   "execution_count": 58,
   "id": "3358686a-02ac-4244-a882-3ec247be226f",
   "metadata": {
    "tags": []
   },
   "outputs": [],
   "source": [
    "# Nhớ dùng hàm print() để chương trình tính được điểm"
   ]
  },
  {
   "cell_type": "code",
   "execution_count": 59,
   "id": "4a8b54e6-d552-47ae-aa5c-c26652df46d4",
   "metadata": {},
   "outputs": [
    {
     "name": "stdout",
     "output_type": "stream",
     "text": [
      "           Nơi sinh    TỔNG        %     1949   1950   1951   1952   1953  \\\n",
      "0              Aden      25    0.00%      NaN    NaN    NaN    NaN    NaN   \n",
      "1       Afghanistan    3499    0.38%      NaN    NaN    NaN    NaN    NaN   \n",
      "2           Albania     144    0.02%      NaN    NaN    NaN    NaN    NaN   \n",
      "3           Algeria     241    0.03%      NaN    NaN    NaN    NaN    NaN   \n",
      "4    American Samoa     862    0.09%      NaN    NaN    NaN    NaN    NaN   \n",
      "..              ...     ...      ...      ...    ...    ...    ...    ...   \n",
      "320           Zaire      25    0.00%      1.0    NaN    NaN    NaN    NaN   \n",
      "321          Zambia    1423    0.16%      NaN    NaN    NaN    NaN    NaN   \n",
      "322        Zanzibar       3    0.00%      NaN    NaN    NaN    NaN    NaN   \n",
      "323        Zimbabwe    8284    0.91%      NaN    NaN    NaN    NaN    NaN   \n",
      "324           TOTAL  910232  100.00%  18629.0  230.0  369.0  388.0  390.0   \n",
      "\n",
      "      1954   1955  ...     2010     2011     2012     2013     2014     2015  \\\n",
      "0      NaN    NaN  ...      NaN      1.0      1.0      1.0      NaN      NaN   \n",
      "1      NaN    NaN  ...     78.0     48.0    136.0     79.0    117.0    103.0   \n",
      "2      NaN    NaN  ...      3.0      6.0     10.0      1.0      4.0      8.0   \n",
      "3      NaN    NaN  ...      2.0      1.0      6.0      5.0      7.0     12.0   \n",
      "4      NaN    NaN  ...     41.0     36.0     58.0     48.0     44.0     51.0   \n",
      "..     ...    ...  ...      ...      ...      ...      ...      ...      ...   \n",
      "320    NaN    NaN  ...      NaN      NaN      NaN      1.0      NaN      NaN   \n",
      "321    NaN    NaN  ...     34.0     51.0     53.0     77.0     41.0     57.0   \n",
      "322    NaN    NaN  ...      NaN      NaN      NaN      NaN      NaN      NaN   \n",
      "323    NaN    NaN  ...    249.0    619.0    687.0    601.0    546.0    453.0   \n",
      "324  631.0  798.0  ...  15178.0  19287.0  27221.0  27895.0  27891.0  27585.0   \n",
      "\n",
      "        2016     2017     2018     2019  \n",
      "0        NaN      NaN      NaN      1.0  \n",
      "1       64.0    137.0    305.0    255.0  \n",
      "2        2.0      1.0      3.0      2.0  \n",
      "3        5.0      7.0      6.0      4.0  \n",
      "4       48.0     40.0     58.0     45.0  \n",
      "..       ...      ...      ...      ...  \n",
      "320      NaN      1.0      1.0      NaN  \n",
      "321     56.0     49.0     38.0     48.0  \n",
      "322      NaN      NaN      NaN      NaN  \n",
      "323    444.0    333.0    234.0    177.0  \n",
      "324  31956.0  36450.0  35737.0  31030.0  \n",
      "\n",
      "[325 rows x 74 columns]\n",
      "0          25\n",
      "1        3499\n",
      "2         144\n",
      "3         241\n",
      "4         862\n",
      "        ...  \n",
      "320        25\n",
      "321      1423\n",
      "322         3\n",
      "323      8284\n",
      "324    910232\n",
      "Name: TỔNG, Length: 325, dtype: int64\n"
     ]
    }
   ],
   "source": [
    "%%cauhoi 5\n",
    "%%tee response\n",
    "# Code dưới dòng này\n",
    "data.rename(columns={\"Country of Birth\" : \"Nơi sinh\",\"Total\" : \"TỔNG\"},inplace=True)\n",
    "print(data)\n",
    "\n",
    "print(data.loc[:,'TỔNG'])"
   ]
  },
  {
   "cell_type": "markdown",
   "id": "fe53a561-c013-4775-8d2a-b1b00f316cb1",
   "metadata": {
    "tags": []
   },
   "source": [
    "## Câu 6. Hiển thị (print) số lượng nhập cư các nước từ năm 2015 đến 2018 dùng hàm .loc[...]"
   ]
  },
  {
   "cell_type": "markdown",
   "id": "65051a4d-059e-426d-8a8b-bec5fa5b93f2",
   "metadata": {},
   "source": [
    "**Gợi ý:**"
   ]
  },
  {
   "cell_type": "code",
   "execution_count": 60,
   "id": "32d92d17-9d47-41af-ac33-10b3e001bbc8",
   "metadata": {
    "tags": []
   },
   "outputs": [],
   "source": [
    "#Không chứa hàng cuối"
   ]
  },
  {
   "cell_type": "code",
   "execution_count": 61,
   "id": "fca2222c-38b5-45b0-a86a-4fedf0037bf9",
   "metadata": {},
   "outputs": [
    {
     "ename": "KeyError",
     "evalue": "\"None of [Index(['Aden', 'Afghanistan', 'Albania', 'Algeria', 'American Samoa', 'Angola',\\n       'Anguilla', 'Antigua and Barbuda', 'Argentina', 'Argentine',\\n       ...\\n       'Wallis and Futuna Islands', 'West Germany', 'Western Samoa', 'Yemen',\\n       'Yugoslavia', 'Zaire', 'Zambia', 'Zanzibar', 'Zimbabwe', 'TOTAL'],\\n      dtype='object', length=325)] are in the [columns]\"",
     "output_type": "error",
     "traceback": [
      "\u001b[1;31m---------------------------------------------------------------------------\u001b[0m",
      "\u001b[1;31mKeyError\u001b[0m                                  Traceback (most recent call last)",
      "Input \u001b[1;32mIn [61]\u001b[0m, in \u001b[0;36m<cell line: 3>\u001b[1;34m()\u001b[0m\n\u001b[0;32m      1\u001b[0m \u001b[38;5;66;03m# Code dưới dòng này\u001b[39;00m\n\u001b[1;32m----> 3\u001b[0m \u001b[38;5;28mprint\u001b[39m(\u001b[43mdata\u001b[49m\u001b[43m[\u001b[49m\u001b[43mdata\u001b[49m\u001b[43m[\u001b[49m\u001b[38;5;124;43m'\u001b[39;49m\u001b[38;5;124;43mNơi sinh\u001b[39;49m\u001b[38;5;124;43m'\u001b[39;49m\u001b[43m]\u001b[49m\u001b[43m]\u001b[49m\u001b[38;5;241m.\u001b[39mloc[:,\u001b[38;5;124m'\u001b[39m\u001b[38;5;124m2015\u001b[39m\u001b[38;5;124m'\u001b[39m:\u001b[38;5;124m'\u001b[39m\u001b[38;5;124m2018\u001b[39m\u001b[38;5;124m'\u001b[39m])\n",
      "File \u001b[1;32m~\\anaconda3\\lib\\site-packages\\pandas\\core\\frame.py:3511\u001b[0m, in \u001b[0;36mDataFrame.__getitem__\u001b[1;34m(self, key)\u001b[0m\n\u001b[0;32m   3509\u001b[0m     \u001b[38;5;28;01mif\u001b[39;00m is_iterator(key):\n\u001b[0;32m   3510\u001b[0m         key \u001b[38;5;241m=\u001b[39m \u001b[38;5;28mlist\u001b[39m(key)\n\u001b[1;32m-> 3511\u001b[0m     indexer \u001b[38;5;241m=\u001b[39m \u001b[38;5;28;43mself\u001b[39;49m\u001b[38;5;241;43m.\u001b[39;49m\u001b[43mcolumns\u001b[49m\u001b[38;5;241;43m.\u001b[39;49m\u001b[43m_get_indexer_strict\u001b[49m\u001b[43m(\u001b[49m\u001b[43mkey\u001b[49m\u001b[43m,\u001b[49m\u001b[43m \u001b[49m\u001b[38;5;124;43m\"\u001b[39;49m\u001b[38;5;124;43mcolumns\u001b[39;49m\u001b[38;5;124;43m\"\u001b[39;49m\u001b[43m)\u001b[49m[\u001b[38;5;241m1\u001b[39m]\n\u001b[0;32m   3513\u001b[0m \u001b[38;5;66;03m# take() does not accept boolean indexers\u001b[39;00m\n\u001b[0;32m   3514\u001b[0m \u001b[38;5;28;01mif\u001b[39;00m \u001b[38;5;28mgetattr\u001b[39m(indexer, \u001b[38;5;124m\"\u001b[39m\u001b[38;5;124mdtype\u001b[39m\u001b[38;5;124m\"\u001b[39m, \u001b[38;5;28;01mNone\u001b[39;00m) \u001b[38;5;241m==\u001b[39m \u001b[38;5;28mbool\u001b[39m:\n",
      "File \u001b[1;32m~\\anaconda3\\lib\\site-packages\\pandas\\core\\indexes\\base.py:5782\u001b[0m, in \u001b[0;36mIndex._get_indexer_strict\u001b[1;34m(self, key, axis_name)\u001b[0m\n\u001b[0;32m   5779\u001b[0m \u001b[38;5;28;01melse\u001b[39;00m:\n\u001b[0;32m   5780\u001b[0m     keyarr, indexer, new_indexer \u001b[38;5;241m=\u001b[39m \u001b[38;5;28mself\u001b[39m\u001b[38;5;241m.\u001b[39m_reindex_non_unique(keyarr)\n\u001b[1;32m-> 5782\u001b[0m \u001b[38;5;28;43mself\u001b[39;49m\u001b[38;5;241;43m.\u001b[39;49m\u001b[43m_raise_if_missing\u001b[49m\u001b[43m(\u001b[49m\u001b[43mkeyarr\u001b[49m\u001b[43m,\u001b[49m\u001b[43m \u001b[49m\u001b[43mindexer\u001b[49m\u001b[43m,\u001b[49m\u001b[43m \u001b[49m\u001b[43maxis_name\u001b[49m\u001b[43m)\u001b[49m\n\u001b[0;32m   5784\u001b[0m keyarr \u001b[38;5;241m=\u001b[39m \u001b[38;5;28mself\u001b[39m\u001b[38;5;241m.\u001b[39mtake(indexer)\n\u001b[0;32m   5785\u001b[0m \u001b[38;5;28;01mif\u001b[39;00m \u001b[38;5;28misinstance\u001b[39m(key, Index):\n\u001b[0;32m   5786\u001b[0m     \u001b[38;5;66;03m# GH 42790 - Preserve name from an Index\u001b[39;00m\n",
      "File \u001b[1;32m~\\anaconda3\\lib\\site-packages\\pandas\\core\\indexes\\base.py:5842\u001b[0m, in \u001b[0;36mIndex._raise_if_missing\u001b[1;34m(self, key, indexer, axis_name)\u001b[0m\n\u001b[0;32m   5840\u001b[0m     \u001b[38;5;28;01mif\u001b[39;00m use_interval_msg:\n\u001b[0;32m   5841\u001b[0m         key \u001b[38;5;241m=\u001b[39m \u001b[38;5;28mlist\u001b[39m(key)\n\u001b[1;32m-> 5842\u001b[0m     \u001b[38;5;28;01mraise\u001b[39;00m \u001b[38;5;167;01mKeyError\u001b[39;00m(\u001b[38;5;124mf\u001b[39m\u001b[38;5;124m\"\u001b[39m\u001b[38;5;124mNone of [\u001b[39m\u001b[38;5;132;01m{\u001b[39;00mkey\u001b[38;5;132;01m}\u001b[39;00m\u001b[38;5;124m] are in the [\u001b[39m\u001b[38;5;132;01m{\u001b[39;00maxis_name\u001b[38;5;132;01m}\u001b[39;00m\u001b[38;5;124m]\u001b[39m\u001b[38;5;124m\"\u001b[39m)\n\u001b[0;32m   5844\u001b[0m not_found \u001b[38;5;241m=\u001b[39m \u001b[38;5;28mlist\u001b[39m(ensure_index(key)[missing_mask\u001b[38;5;241m.\u001b[39mnonzero()[\u001b[38;5;241m0\u001b[39m]]\u001b[38;5;241m.\u001b[39munique())\n\u001b[0;32m   5845\u001b[0m \u001b[38;5;28;01mraise\u001b[39;00m \u001b[38;5;167;01mKeyError\u001b[39;00m(\u001b[38;5;124mf\u001b[39m\u001b[38;5;124m\"\u001b[39m\u001b[38;5;132;01m{\u001b[39;00mnot_found\u001b[38;5;132;01m}\u001b[39;00m\u001b[38;5;124m not in index\u001b[39m\u001b[38;5;124m\"\u001b[39m)\n",
      "\u001b[1;31mKeyError\u001b[0m: \"None of [Index(['Aden', 'Afghanistan', 'Albania', 'Algeria', 'American Samoa', 'Angola',\\n       'Anguilla', 'Antigua and Barbuda', 'Argentina', 'Argentine',\\n       ...\\n       'Wallis and Futuna Islands', 'West Germany', 'Western Samoa', 'Yemen',\\n       'Yugoslavia', 'Zaire', 'Zambia', 'Zanzibar', 'Zimbabwe', 'TOTAL'],\\n      dtype='object', length=325)] are in the [columns]\""
     ]
    }
   ],
   "source": [
    "%%cauhoi 6\n",
    "%%tee response\n",
    "# Code dưới dòng này\n",
    "\n",
    "print(data[data['Nơi sinh']].loc[:,'2015':'2018'])"
   ]
  },
  {
   "cell_type": "markdown",
   "id": "5241559e-e517-4938-89a1-3ec9d9708ab4",
   "metadata": {},
   "source": [
    "## Câu 7. a) Xuất ra 10 nước có lượng người nhập cư vào New Zealand cao nhất chỉ tính riêng năm 2017 và b) trong toàn bộ lịch sử theo dõi. c) Nếu chỉ xét năm 2017, Việt Nam có bao nhiêu người nhập cư thành công và xếp thứ mấy trên bảng xếp hạng? d) Câu hỏi tương tự nếu xét toàn bộ lịch sử theo dõi."
   ]
  },
  {
   "cell_type": "markdown",
   "id": "202e1df1-9be5-4a90-b74f-271e0135ce29",
   "metadata": {},
   "source": [
    "**Gợi ý:**"
   ]
  },
  {
   "cell_type": "code",
   "execution_count": 62,
   "id": "98f1131e-8746-4eec-b80a-a1586dadfe22",
   "metadata": {
    "tags": []
   },
   "outputs": [],
   "source": [
    "# a) Dùng lệnh df.groupby('Cột 1')['Cột 2'].sum().sort_values(ascending=False) để tạo ra 1 DataFrame (hoặc Series) mới có cột index là nội dung của 'Tên cột 1', nội dung là 'nội dung' của 'Cột 2'\n",
    "# b) 'Cột 2' là '2017'\n",
    "# Chú ý: \"TỔNG\" không phải là nước"
   ]
  },
  {
   "cell_type": "code",
   "execution_count": 63,
   "id": "562ae539-bd16-4d68-ba21-4db98a987cd6",
   "metadata": {},
   "outputs": [
    {
     "name": "stdout",
     "output_type": "stream",
     "text": [
      "                2017\n",
      "Nơi sinh            \n",
      "Aden             0.0\n",
      "Mauritania       0.0\n",
      "Micronesia       0.0\n",
      "Montenegro       0.0\n",
      "Montserrat       0.0\n",
      "...              ...\n",
      "Fiji          3242.0\n",
      "Philippines   3565.0\n",
      "England       3974.0\n",
      "India         4665.0\n",
      "TOTAL        36450.0\n",
      "\n",
      "[325 rows x 1 columns]\n",
      "                                       TỔNG\n",
      "Nơi sinh                                   \n",
      "Bechuanaland Protectorate                 1\n",
      "Rurutu                                    1\n",
      "Upper Volta                               1\n",
      "Burkina Faso                              1\n",
      "French Territory of Afars and Issas       1\n",
      "...                                     ...\n",
      "China                                 58987\n",
      "South Africa                          61152\n",
      "India                                 67243\n",
      "England                              177913\n",
      "TOTAL                                910232\n",
      "\n",
      "[325 rows x 1 columns]\n"
     ]
    }
   ],
   "source": [
    "%%cauhoi 7\n",
    "%%tee response\n",
    "# Code dưới dòng này\n",
    "# a) Xuất ra 10 nước có lượng người nhập cư vào New Zealand cao nhất chỉ tính riêng năm 2017  \n",
    "\n",
    "# sort_values(by='ext price', ascending=True) lệnh sắp xếp dữ liệu theo cột 'ext price' theo thứ tự tăng dần (ascending=True), nếu giảm dần thì (ascending=False)\n",
    "data2 = data.groupby('Nơi sinh',group_keys=False).agg({'2017': 'sum'}).sort_values(by='2017', ascending=True)\n",
    "print(data2)\n",
    "\n",
    "data3 = data.groupby('Nơi sinh',group_keys=False).agg({'TỔNG': 'sum'}).sort_values(by='TỔNG', ascending=True)\n",
    "print(data3)\n",
    "\n"
   ]
  },
  {
   "cell_type": "markdown",
   "id": "4d908fbc-0bcb-4ef3-848e-991c29ba816b",
   "metadata": {},
   "source": [
    "## Câu 8. Thêm dữ liệu năm 2020 vào cuối bảng. Giá trị điền vào là số nguyên ngẫu nhiên từ 0 cho đến 300. Hiển thị bảng. Truy xuất cột năm 2020 dùng hàm .loc[...]. Bạn có thấy vấn đề của bảng mới này ở đâu không?"
   ]
  },
  {
   "cell_type": "markdown",
   "id": "888cd19e-2140-4fa5-a9e8-87a17b310906",
   "metadata": {},
   "source": [
    "**Gợi ý:**"
   ]
  },
  {
   "cell_type": "code",
   "execution_count": 64,
   "id": "b2a1494d-a7ba-4f1d-98f5-a3dc7acb8a37",
   "metadata": {
    "tags": []
   },
   "outputs": [],
   "source": [
    "# dùng hàm np.random.randint(low, high, size, dtype=int) trong đó low là số thấp nhất, high là số cao nhất, size là số lượng\n",
    "# nhớ dùng print(...) để chương trình có thể chấm điểm"
   ]
  },
  {
   "cell_type": "code",
   "execution_count": 65,
   "id": "e67da470-9675-4dc6-90d6-722253a09a3c",
   "metadata": {},
   "outputs": [
    {
     "name": "stdout",
     "output_type": "stream",
     "text": [
      "           Nơi sinh    TỔNG        %     1949   1950   1951   1952   1953  \\\n",
      "0              Aden      25    0.00%      NaN    NaN    NaN    NaN    NaN   \n",
      "1       Afghanistan    3499    0.38%      NaN    NaN    NaN    NaN    NaN   \n",
      "2           Albania     144    0.02%      NaN    NaN    NaN    NaN    NaN   \n",
      "3           Algeria     241    0.03%      NaN    NaN    NaN    NaN    NaN   \n",
      "4    American Samoa     862    0.09%      NaN    NaN    NaN    NaN    NaN   \n",
      "..              ...     ...      ...      ...    ...    ...    ...    ...   \n",
      "320           Zaire      25    0.00%      1.0    NaN    NaN    NaN    NaN   \n",
      "321          Zambia    1423    0.16%      NaN    NaN    NaN    NaN    NaN   \n",
      "322        Zanzibar       3    0.00%      NaN    NaN    NaN    NaN    NaN   \n",
      "323        Zimbabwe    8284    0.91%      NaN    NaN    NaN    NaN    NaN   \n",
      "324           TOTAL  910232  100.00%  18629.0  230.0  369.0  388.0  390.0   \n",
      "\n",
      "      1954   1955  ...     2011     2012     2013     2014     2015     2016  \\\n",
      "0      NaN    NaN  ...      1.0      1.0      1.0      NaN      NaN      NaN   \n",
      "1      NaN    NaN  ...     48.0    136.0     79.0    117.0    103.0     64.0   \n",
      "2      NaN    NaN  ...      6.0     10.0      1.0      4.0      8.0      2.0   \n",
      "3      NaN    NaN  ...      1.0      6.0      5.0      7.0     12.0      5.0   \n",
      "4      NaN    NaN  ...     36.0     58.0     48.0     44.0     51.0     48.0   \n",
      "..     ...    ...  ...      ...      ...      ...      ...      ...      ...   \n",
      "320    NaN    NaN  ...      NaN      NaN      1.0      NaN      NaN      NaN   \n",
      "321    NaN    NaN  ...     51.0     53.0     77.0     41.0     57.0     56.0   \n",
      "322    NaN    NaN  ...      NaN      NaN      NaN      NaN      NaN      NaN   \n",
      "323    NaN    NaN  ...    619.0    687.0    601.0    546.0    453.0    444.0   \n",
      "324  631.0  798.0  ...  19287.0  27221.0  27895.0  27891.0  27585.0  31956.0   \n",
      "\n",
      "        2017     2018     2019  2020  \n",
      "0        NaN      NaN      1.0   374  \n",
      "1      137.0    305.0    255.0   201  \n",
      "2        1.0      3.0      2.0   126  \n",
      "3        7.0      6.0      4.0   134  \n",
      "4       40.0     58.0     45.0   516  \n",
      "..       ...      ...      ...   ...  \n",
      "320      1.0      1.0      NaN   352  \n",
      "321     49.0     38.0     48.0   472  \n",
      "322      NaN      NaN      NaN   169  \n",
      "323    333.0    234.0    177.0   305  \n",
      "324  36450.0  35737.0  31030.0   265  \n",
      "\n",
      "[325 rows x 75 columns]\n"
     ]
    }
   ],
   "source": [
    "%%cauhoi 8\n",
    "%%tee response\n",
    "# Code dưới dòng này\n",
    "\n",
    "data['2020']= np.random.randint(0,600,size=(data.shape[0],1))\n",
    "print(data)"
   ]
  },
  {
   "cell_type": "markdown",
   "id": "81110404-25a2-4d47-a455-42ec642781c3",
   "metadata": {},
   "source": [
    "## Câu 9. Thêm nước Zodiac vào sau nước Zimbabwe. Giá trị điền vào là số ngẫu nhiên từ 0 cho đến 600. Hiển thị bảng. Bạn có thấy vấn đề của bảng mới này ở đâu không?"
   ]
  },
  {
   "cell_type": "code",
   "execution_count": 66,
   "id": "94d29d5e-43c0-4fdf-90f5-1151dddccd9b",
   "metadata": {},
   "outputs": [
    {
     "ename": "ValueError",
     "evalue": "cannot set a row with mismatched columns",
     "output_type": "error",
     "traceback": [
      "\u001b[1;31m---------------------------------------------------------------------------\u001b[0m",
      "\u001b[1;31mValueError\u001b[0m                                Traceback (most recent call last)",
      "Input \u001b[1;32mIn [66]\u001b[0m, in \u001b[0;36m<cell line: 3>\u001b[1;34m()\u001b[0m\n\u001b[0;32m      1\u001b[0m \u001b[38;5;66;03m# Code dưới dòng này\u001b[39;00m\n\u001b[1;32m----> 3\u001b[0m data\u001b[38;5;241m.\u001b[39mloc[data\u001b[38;5;241m.\u001b[39mshape[\u001b[38;5;241m0\u001b[39m]]\u001b[38;5;241m=\u001b[39m [\u001b[38;5;124m'\u001b[39m\u001b[38;5;124mZodiac\u001b[39m\u001b[38;5;124m'\u001b[39m,np\u001b[38;5;241m.\u001b[39mrandom\u001b[38;5;241m.\u001b[39mrandint(\u001b[38;5;241m0\u001b[39m,\u001b[38;5;241m600\u001b[39m,size\u001b[38;5;241m=\u001b[39m(data\u001b[38;5;241m.\u001b[39mshape[\u001b[38;5;241m0\u001b[39m],\u001b[38;5;241m1\u001b[39m))]\n\u001b[0;32m      5\u001b[0m data\u001b[38;5;241m.\u001b[39mloc[data\u001b[38;5;241m.\u001b[39mshape[\u001b[38;5;241m0\u001b[39m]]\u001b[38;5;241m=\u001b[39m [\u001b[38;5;124m'\u001b[39m\u001b[38;5;124mZimbabwe\u001b[39m\u001b[38;5;124m'\u001b[39m,np\u001b[38;5;241m.\u001b[39mrandom\u001b[38;5;241m.\u001b[39mrandint(\u001b[38;5;241m0\u001b[39m,\u001b[38;5;241m600\u001b[39m,size\u001b[38;5;241m=\u001b[39m(data\u001b[38;5;241m.\u001b[39mshape[\u001b[38;5;241m0\u001b[39m],\u001b[38;5;241m1\u001b[39m))]\n\u001b[0;32m      7\u001b[0m \u001b[38;5;28mprint\u001b[39m(data)\n",
      "File \u001b[1;32m~\\anaconda3\\lib\\site-packages\\pandas\\core\\indexing.py:716\u001b[0m, in \u001b[0;36m_LocationIndexer.__setitem__\u001b[1;34m(self, key, value)\u001b[0m\n\u001b[0;32m    713\u001b[0m \u001b[38;5;28mself\u001b[39m\u001b[38;5;241m.\u001b[39m_has_valid_setitem_indexer(key)\n\u001b[0;32m    715\u001b[0m iloc \u001b[38;5;241m=\u001b[39m \u001b[38;5;28mself\u001b[39m \u001b[38;5;28;01mif\u001b[39;00m \u001b[38;5;28mself\u001b[39m\u001b[38;5;241m.\u001b[39mname \u001b[38;5;241m==\u001b[39m \u001b[38;5;124m\"\u001b[39m\u001b[38;5;124miloc\u001b[39m\u001b[38;5;124m\"\u001b[39m \u001b[38;5;28;01melse\u001b[39;00m \u001b[38;5;28mself\u001b[39m\u001b[38;5;241m.\u001b[39mobj\u001b[38;5;241m.\u001b[39miloc\n\u001b[1;32m--> 716\u001b[0m \u001b[43miloc\u001b[49m\u001b[38;5;241;43m.\u001b[39;49m\u001b[43m_setitem_with_indexer\u001b[49m\u001b[43m(\u001b[49m\u001b[43mindexer\u001b[49m\u001b[43m,\u001b[49m\u001b[43m \u001b[49m\u001b[43mvalue\u001b[49m\u001b[43m,\u001b[49m\u001b[43m \u001b[49m\u001b[38;5;28;43mself\u001b[39;49m\u001b[38;5;241;43m.\u001b[39;49m\u001b[43mname\u001b[49m\u001b[43m)\u001b[49m\n",
      "File \u001b[1;32m~\\anaconda3\\lib\\site-packages\\pandas\\core\\indexing.py:1682\u001b[0m, in \u001b[0;36m_iLocIndexer._setitem_with_indexer\u001b[1;34m(self, indexer, value, name)\u001b[0m\n\u001b[0;32m   1679\u001b[0m     indexer, missing \u001b[38;5;241m=\u001b[39m convert_missing_indexer(indexer)\n\u001b[0;32m   1681\u001b[0m     \u001b[38;5;28;01mif\u001b[39;00m missing:\n\u001b[1;32m-> 1682\u001b[0m         \u001b[38;5;28;43mself\u001b[39;49m\u001b[38;5;241;43m.\u001b[39;49m\u001b[43m_setitem_with_indexer_missing\u001b[49m\u001b[43m(\u001b[49m\u001b[43mindexer\u001b[49m\u001b[43m,\u001b[49m\u001b[43m \u001b[49m\u001b[43mvalue\u001b[49m\u001b[43m)\u001b[49m\n\u001b[0;32m   1683\u001b[0m         \u001b[38;5;28;01mreturn\u001b[39;00m\n\u001b[0;32m   1685\u001b[0m \u001b[38;5;66;03m# align and set the values\u001b[39;00m\n",
      "File \u001b[1;32m~\\anaconda3\\lib\\site-packages\\pandas\\core\\indexing.py:1998\u001b[0m, in \u001b[0;36m_iLocIndexer._setitem_with_indexer_missing\u001b[1;34m(self, indexer, value)\u001b[0m\n\u001b[0;32m   1995\u001b[0m     \u001b[38;5;28;01mif\u001b[39;00m is_list_like_indexer(value):\n\u001b[0;32m   1996\u001b[0m         \u001b[38;5;66;03m# must have conforming columns\u001b[39;00m\n\u001b[0;32m   1997\u001b[0m         \u001b[38;5;28;01mif\u001b[39;00m \u001b[38;5;28mlen\u001b[39m(value) \u001b[38;5;241m!=\u001b[39m \u001b[38;5;28mlen\u001b[39m(\u001b[38;5;28mself\u001b[39m\u001b[38;5;241m.\u001b[39mobj\u001b[38;5;241m.\u001b[39mcolumns):\n\u001b[1;32m-> 1998\u001b[0m             \u001b[38;5;28;01mraise\u001b[39;00m \u001b[38;5;167;01mValueError\u001b[39;00m(\u001b[38;5;124m\"\u001b[39m\u001b[38;5;124mcannot set a row with mismatched columns\u001b[39m\u001b[38;5;124m\"\u001b[39m)\n\u001b[0;32m   2000\u001b[0m     value \u001b[38;5;241m=\u001b[39m Series(value, index\u001b[38;5;241m=\u001b[39m\u001b[38;5;28mself\u001b[39m\u001b[38;5;241m.\u001b[39mobj\u001b[38;5;241m.\u001b[39mcolumns, name\u001b[38;5;241m=\u001b[39mindexer)\n\u001b[0;32m   2002\u001b[0m \u001b[38;5;28;01mif\u001b[39;00m \u001b[38;5;129;01mnot\u001b[39;00m \u001b[38;5;28mlen\u001b[39m(\u001b[38;5;28mself\u001b[39m\u001b[38;5;241m.\u001b[39mobj):\n\u001b[0;32m   2003\u001b[0m     \u001b[38;5;66;03m# We will ignore the existing dtypes instead of using\u001b[39;00m\n\u001b[0;32m   2004\u001b[0m     \u001b[38;5;66;03m#  internals.concat logic\u001b[39;00m\n",
      "\u001b[1;31mValueError\u001b[0m: cannot set a row with mismatched columns"
     ]
    }
   ],
   "source": [
    "%%cauhoi 9\n",
    "%%tee response\n",
    "# Code dưới dòng này\n",
    "\n",
    "data.loc[data.shape[0]]= ['Zodiac',np.random.randint(0,600,size=(data.shape[0],1))]\n",
    "\n",
    "data.loc[data.shape[0]]= ['Zimbabwe',np.random.randint(0,600,size=(data.shape[0],1))]\n",
    "\n",
    "print(data)"
   ]
  },
  {
   "cell_type": "markdown",
   "id": "b129bbf0-044c-40d7-99b9-24270bc14b10",
   "metadata": {
    "tags": []
   },
   "source": [
    "## Câu 10. Hãy tính toán lại các cột 'Tổng', '%', và hàng 'TỔNG' sao cho đúng. Hiển thị bảng.\n",
    "## Thực hiện các phép tính tương tự như câu 7, hãy đánh giá xem các số liệu được thêm vào ảnh hưởng thế nào tới kết quả."
   ]
  },
  {
   "cell_type": "markdown",
   "id": "30c3dedc-9591-4c32-a3aa-9548ed13d7a4",
   "metadata": {},
   "source": [
    "**Gợi ý:**"
   ]
  },
  {
   "cell_type": "code",
   "execution_count": 67,
   "id": "0dfc16cf-972a-4523-86bf-ddcfc2c10b7a",
   "metadata": {
    "jupyter": {
     "source_hidden": true
    },
    "tags": []
   },
   "outputs": [],
   "source": [
    "# dùng dữ-liệu.sum(axis=0 hoặc 1) để tính tổng, trong đó 0 hoặc 1 là hướng tính tổng theo chiều dọc hoặc chiều ngang\n",
    "# Chuyển đổi float sang số% và ngược lại, tham khảo https://levelup.gitconnected.com/convert-percentage-string-to-numeric-and-vice-versa-in-pandas-18a3d66e2853"
   ]
  },
  {
   "cell_type": "code",
   "execution_count": 68,
   "id": "b8db5d25-443f-4663-9946-d57456cb411c",
   "metadata": {},
   "outputs": [],
   "source": [
    "%%cauhoi 10\n",
    "%%tee response\n",
    "# Code dưới dòng này\n",
    "\n"
   ]
  },
  {
   "cell_type": "markdown",
   "id": "7167f990-3136-4ff1-9fc2-9592efe885a9",
   "metadata": {
    "tags": []
   },
   "source": [
    "# Tính điểm"
   ]
  }
 ],
 "metadata": {
  "kernelspec": {
   "display_name": "Python 3 (ipykernel)",
   "language": "python",
   "name": "python3"
  },
  "language_info": {
   "codemirror_mode": {
    "name": "ipython",
    "version": 3
   },
   "file_extension": ".py",
   "mimetype": "text/x-python",
   "name": "python",
   "nbconvert_exporter": "python",
   "pygments_lexer": "ipython3",
   "version": "3.9.12"
  }
 },
 "nbformat": 4,
 "nbformat_minor": 5
}
