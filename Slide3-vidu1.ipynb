{
 "cells": [
  {
   "cell_type": "markdown",
   "id": "9f29f37d-e899-4555-a56e-1ad354ca8310",
   "metadata": {},
   "source": [
    "# Slide 3: Thao tác với dữ liệu"
   ]
  },
  {
   "cell_type": "markdown",
   "id": "b39ed4dd-524c-415f-a28b-40d7d1c495b8",
   "metadata": {
    "tags": []
   },
   "source": [
    "## Khai báo thư viện"
   ]
  },
  {
   "cell_type": "code",
   "execution_count": null,
   "id": "fd70aad3-9518-45c9-86e1-82fc6a528a8c",
   "metadata": {
    "tags": []
   },
   "outputs": [],
   "source": [
    "import pandas as pd\n",
    "import numpy as np\n",
    "print('Khai bao thanh cong')"
   ]
  },
  {
   "cell_type": "markdown",
   "id": "53c3d05e-3dca-4e59-8a60-7c70ace9f6cb",
   "metadata": {
    "tags": []
   },
   "source": [
    "## Nhập dữ liệu"
   ]
  },
  {
   "cell_type": "code",
   "execution_count": 67,
   "id": "06602f68-d962-49eb-a452-2efddf5ef489",
   "metadata": {
    "tags": []
   },
   "outputs": [
    {
     "name": "stdout",
     "output_type": "stream",
     "text": [
      "******************** Nhập dữ liệu thành công ********************\n"
     ]
    },
    {
     "data": {
      "text/html": [
       "<div>\n",
       "<style scoped>\n",
       "    .dataframe tbody tr th:only-of-type {\n",
       "        vertical-align: middle;\n",
       "    }\n",
       "\n",
       "    .dataframe tbody tr th {\n",
       "        vertical-align: top;\n",
       "    }\n",
       "\n",
       "    .dataframe thead th {\n",
       "        text-align: right;\n",
       "    }\n",
       "</style>\n",
       "<table border=\"1\" class=\"dataframe\">\n",
       "  <thead>\n",
       "    <tr style=\"text-align: right;\">\n",
       "      <th></th>\n",
       "      <th>pk_shop</th>\n",
       "      <th>date_collected</th>\n",
       "      <th>shopid</th>\n",
       "      <th>name</th>\n",
       "      <th>join_month</th>\n",
       "      <th>join_day</th>\n",
       "      <th>join_year</th>\n",
       "      <th>item_count</th>\n",
       "      <th>follower_count</th>\n",
       "      <th>response_time</th>\n",
       "      <th>response_rate</th>\n",
       "      <th>shop_location</th>\n",
       "      <th>rating_bad</th>\n",
       "      <th>rating_good</th>\n",
       "      <th>rating_normal</th>\n",
       "      <th>rating_star</th>\n",
       "      <th>is_shopee_verified</th>\n",
       "      <th>is_official_shop</th>\n",
       "    </tr>\n",
       "  </thead>\n",
       "  <tbody>\n",
       "    <tr>\n",
       "      <th>0</th>\n",
       "      <td>20210613254711738</td>\n",
       "      <td>2021-06-13</td>\n",
       "      <td>254711738</td>\n",
       "      <td>hello.may.ph</td>\n",
       "      <td>April</td>\n",
       "      <td>27</td>\n",
       "      <td>2020</td>\n",
       "      <td>446</td>\n",
       "      <td>17487</td>\n",
       "      <td>10:13:55</td>\n",
       "      <td>96</td>\n",
       "      <td>NaN</td>\n",
       "      <td>181</td>\n",
       "      <td>17510</td>\n",
       "      <td>729</td>\n",
       "      <td>4.81</td>\n",
       "      <td>1</td>\n",
       "      <td>0</td>\n",
       "    </tr>\n",
       "    <tr>\n",
       "      <th>1</th>\n",
       "      <td>20210613314198143</td>\n",
       "      <td>2021-06-13</td>\n",
       "      <td>314198143</td>\n",
       "      <td>love.women.shop</td>\n",
       "      <td>September</td>\n",
       "      <td>25</td>\n",
       "      <td>2020</td>\n",
       "      <td>263</td>\n",
       "      <td>8574</td>\n",
       "      <td>10:43:05</td>\n",
       "      <td>73</td>\n",
       "      <td>San Nicolas,Metro Manila</td>\n",
       "      <td>78</td>\n",
       "      <td>2656</td>\n",
       "      <td>198</td>\n",
       "      <td>4.68</td>\n",
       "      <td>0</td>\n",
       "      <td>0</td>\n",
       "    </tr>\n",
       "    <tr>\n",
       "      <th>2</th>\n",
       "      <td>2021061310377223</td>\n",
       "      <td>2021-06-13</td>\n",
       "      <td>10377223</td>\n",
       "      <td>R&amp;O RedOrange</td>\n",
       "      <td>September</td>\n",
       "      <td>27</td>\n",
       "      <td>2016</td>\n",
       "      <td>209</td>\n",
       "      <td>660417</td>\n",
       "      <td>08:32:07</td>\n",
       "      <td>90</td>\n",
       "      <td>Pasay City,Metro Manila</td>\n",
       "      <td>4647</td>\n",
       "      <td>1071829</td>\n",
       "      <td>18073</td>\n",
       "      <td>4.91</td>\n",
       "      <td>1</td>\n",
       "      <td>0</td>\n",
       "    </tr>\n",
       "    <tr>\n",
       "      <th>3</th>\n",
       "      <td>2021061321407329</td>\n",
       "      <td>2021-06-13</td>\n",
       "      <td>21407329</td>\n",
       "      <td>patriciacai</td>\n",
       "      <td>April</td>\n",
       "      <td>30</td>\n",
       "      <td>2017</td>\n",
       "      <td>165</td>\n",
       "      <td>18787</td>\n",
       "      <td>09:10:38</td>\n",
       "      <td>94</td>\n",
       "      <td>Binondo,Metro Manila</td>\n",
       "      <td>44</td>\n",
       "      <td>18959</td>\n",
       "      <td>215</td>\n",
       "      <td>4.94</td>\n",
       "      <td>1</td>\n",
       "      <td>0</td>\n",
       "    </tr>\n",
       "    <tr>\n",
       "      <th>4</th>\n",
       "      <td>2021061311187885</td>\n",
       "      <td>2021-06-13</td>\n",
       "      <td>11187885</td>\n",
       "      <td>Little Market Manila</td>\n",
       "      <td>October</td>\n",
       "      <td>18</td>\n",
       "      <td>2016</td>\n",
       "      <td>467</td>\n",
       "      <td>67371</td>\n",
       "      <td>11:40:59</td>\n",
       "      <td>89</td>\n",
       "      <td>Caloocan City,Metro Manila</td>\n",
       "      <td>680</td>\n",
       "      <td>39252</td>\n",
       "      <td>2383</td>\n",
       "      <td>4.73</td>\n",
       "      <td>1</td>\n",
       "      <td>0</td>\n",
       "    </tr>\n",
       "    <tr>\n",
       "      <th>...</th>\n",
       "      <td>...</td>\n",
       "      <td>...</td>\n",
       "      <td>...</td>\n",
       "      <td>...</td>\n",
       "      <td>...</td>\n",
       "      <td>...</td>\n",
       "      <td>...</td>\n",
       "      <td>...</td>\n",
       "      <td>...</td>\n",
       "      <td>...</td>\n",
       "      <td>...</td>\n",
       "      <td>...</td>\n",
       "      <td>...</td>\n",
       "      <td>...</td>\n",
       "      <td>...</td>\n",
       "      <td>...</td>\n",
       "      <td>...</td>\n",
       "      <td>...</td>\n",
       "    </tr>\n",
       "    <tr>\n",
       "      <th>741</th>\n",
       "      <td>20210706449182992</td>\n",
       "      <td>2021-07-06</td>\n",
       "      <td>449182992</td>\n",
       "      <td>Yacent_thrift_Clo</td>\n",
       "      <td>May</td>\n",
       "      <td>22</td>\n",
       "      <td>2021</td>\n",
       "      <td>16</td>\n",
       "      <td>115</td>\n",
       "      <td>08:45:30</td>\n",
       "      <td>86</td>\n",
       "      <td>Legazpi City,Albay</td>\n",
       "      <td>0</td>\n",
       "      <td>32</td>\n",
       "      <td>0</td>\n",
       "      <td>5.00</td>\n",
       "      <td>0</td>\n",
       "      <td>0</td>\n",
       "    </tr>\n",
       "    <tr>\n",
       "      <th>742</th>\n",
       "      <td>20210706396605392</td>\n",
       "      <td>2021-07-06</td>\n",
       "      <td>396605392</td>\n",
       "      <td>Akistore.ph</td>\n",
       "      <td>March</td>\n",
       "      <td>3</td>\n",
       "      <td>2021</td>\n",
       "      <td>84</td>\n",
       "      <td>84</td>\n",
       "      <td>08:01:23</td>\n",
       "      <td>91</td>\n",
       "      <td>NaN</td>\n",
       "      <td>1</td>\n",
       "      <td>9</td>\n",
       "      <td>0</td>\n",
       "      <td>4.60</td>\n",
       "      <td>0</td>\n",
       "      <td>0</td>\n",
       "    </tr>\n",
       "    <tr>\n",
       "      <th>743</th>\n",
       "      <td>20210706360379308</td>\n",
       "      <td>2021-07-06</td>\n",
       "      <td>360379308</td>\n",
       "      <td>Yzanice Shop</td>\n",
       "      <td>December</td>\n",
       "      <td>20</td>\n",
       "      <td>2020</td>\n",
       "      <td>78</td>\n",
       "      <td>5982</td>\n",
       "      <td>08:46:30</td>\n",
       "      <td>96</td>\n",
       "      <td>NaN</td>\n",
       "      <td>16</td>\n",
       "      <td>463</td>\n",
       "      <td>16</td>\n",
       "      <td>4.75</td>\n",
       "      <td>1</td>\n",
       "      <td>0</td>\n",
       "    </tr>\n",
       "    <tr>\n",
       "      <th>744</th>\n",
       "      <td>2021070629392066</td>\n",
       "      <td>2021-07-06</td>\n",
       "      <td>29392066</td>\n",
       "      <td>Clairecvc Shop</td>\n",
       "      <td>August</td>\n",
       "      <td>2</td>\n",
       "      <td>2017</td>\n",
       "      <td>964</td>\n",
       "      <td>44029</td>\n",
       "      <td>12:19:44</td>\n",
       "      <td>73</td>\n",
       "      <td>Binondo,Metro Manila</td>\n",
       "      <td>1960</td>\n",
       "      <td>103289</td>\n",
       "      <td>3982</td>\n",
       "      <td>4.78</td>\n",
       "      <td>0</td>\n",
       "      <td>0</td>\n",
       "    </tr>\n",
       "    <tr>\n",
       "      <th>745</th>\n",
       "      <td>2021070625811092</td>\n",
       "      <td>2021-07-06</td>\n",
       "      <td>25811092</td>\n",
       "      <td>angelcity.ð</td>\n",
       "      <td>June</td>\n",
       "      <td>17</td>\n",
       "      <td>2017</td>\n",
       "      <td>272</td>\n",
       "      <td>868370</td>\n",
       "      <td>10:02:42</td>\n",
       "      <td>36</td>\n",
       "      <td>Pasay City,Metro Manila</td>\n",
       "      <td>13401</td>\n",
       "      <td>708666</td>\n",
       "      <td>30799</td>\n",
       "      <td>4.77</td>\n",
       "      <td>0</td>\n",
       "      <td>0</td>\n",
       "    </tr>\n",
       "  </tbody>\n",
       "</table>\n",
       "<p>746 rows × 18 columns</p>\n",
       "</div>"
      ],
      "text/plain": [
       "               pk_shop date_collected     shopid                  name  \\\n",
       "0    20210613254711738     2021-06-13  254711738          hello.may.ph   \n",
       "1    20210613314198143     2021-06-13  314198143       love.women.shop   \n",
       "2     2021061310377223     2021-06-13   10377223         R&O RedOrange   \n",
       "3     2021061321407329     2021-06-13   21407329           patriciacai   \n",
       "4     2021061311187885     2021-06-13   11187885  Little Market Manila   \n",
       "..                 ...            ...        ...                   ...   \n",
       "741  20210706449182992     2021-07-06  449182992     Yacent_thrift_Clo   \n",
       "742  20210706396605392     2021-07-06  396605392           Akistore.ph   \n",
       "743  20210706360379308     2021-07-06  360379308          Yzanice Shop   \n",
       "744   2021070629392066     2021-07-06   29392066        Clairecvc Shop   \n",
       "745   2021070625811092     2021-07-06   25811092        angelcity.ð   \n",
       "\n",
       "    join_month  join_day  join_year  item_count  follower_count response_time  \\\n",
       "0        April        27       2020         446           17487      10:13:55   \n",
       "1    September        25       2020         263            8574      10:43:05   \n",
       "2    September        27       2016         209          660417      08:32:07   \n",
       "3        April        30       2017         165           18787      09:10:38   \n",
       "4      October        18       2016         467           67371      11:40:59   \n",
       "..         ...       ...        ...         ...             ...           ...   \n",
       "741        May        22       2021          16             115      08:45:30   \n",
       "742      March         3       2021          84              84      08:01:23   \n",
       "743   December        20       2020          78            5982      08:46:30   \n",
       "744     August         2       2017         964           44029      12:19:44   \n",
       "745       June        17       2017         272          868370      10:02:42   \n",
       "\n",
       "     response_rate               shop_location  rating_bad  rating_good  \\\n",
       "0               96                         NaN         181        17510   \n",
       "1               73    San Nicolas,Metro Manila          78         2656   \n",
       "2               90     Pasay City,Metro Manila        4647      1071829   \n",
       "3               94        Binondo,Metro Manila          44        18959   \n",
       "4               89  Caloocan City,Metro Manila         680        39252   \n",
       "..             ...                         ...         ...          ...   \n",
       "741             86          Legazpi City,Albay           0           32   \n",
       "742             91                         NaN           1            9   \n",
       "743             96                         NaN          16          463   \n",
       "744             73        Binondo,Metro Manila        1960       103289   \n",
       "745             36     Pasay City,Metro Manila       13401       708666   \n",
       "\n",
       "     rating_normal  rating_star  is_shopee_verified  is_official_shop  \n",
       "0              729         4.81                   1                 0  \n",
       "1              198         4.68                   0                 0  \n",
       "2            18073         4.91                   1                 0  \n",
       "3              215         4.94                   1                 0  \n",
       "4             2383         4.73                   1                 0  \n",
       "..             ...          ...                 ...               ...  \n",
       "741              0         5.00                   0                 0  \n",
       "742              0         4.60                   0                 0  \n",
       "743             16         4.75                   1                 0  \n",
       "744           3982         4.78                   0                 0  \n",
       "745          30799         4.77                   0                 0  \n",
       "\n",
       "[746 rows x 18 columns]"
      ]
     },
     "metadata": {},
     "output_type": "display_data"
    },
    {
     "name": "stdout",
     "output_type": "stream",
     "text": [
      "<class 'pandas.core.frame.DataFrame'>\n",
      "RangeIndex: 746 entries, 0 to 745\n",
      "Data columns (total 18 columns):\n",
      " #   Column              Non-Null Count  Dtype  \n",
      "---  ------              --------------  -----  \n",
      " 0   pk_shop             746 non-null    int64  \n",
      " 1   date_collected      746 non-null    object \n",
      " 2   shopid              746 non-null    int64  \n",
      " 3   name                746 non-null    object \n",
      " 4   join_month          746 non-null    object \n",
      " 5   join_day            746 non-null    int64  \n",
      " 6   join_year           746 non-null    int64  \n",
      " 7   item_count          746 non-null    int64  \n",
      " 8   follower_count      746 non-null    int64  \n",
      " 9   response_time       746 non-null    object \n",
      " 10  response_rate       746 non-null    int64  \n",
      " 11  shop_location       428 non-null    object \n",
      " 12  rating_bad          746 non-null    int64  \n",
      " 13  rating_good         746 non-null    int64  \n",
      " 14  rating_normal       746 non-null    int64  \n",
      " 15  rating_star         740 non-null    float64\n",
      " 16  is_shopee_verified  746 non-null    int64  \n",
      " 17  is_official_shop    746 non-null    int64  \n",
      "dtypes: float64(1), int64(12), object(5)\n",
      "memory usage: 105.0+ KB\n"
     ]
    }
   ],
   "source": [
    "data = pd.read_csv('shopeep_koreantop_clothing_shop_data.csv', header=0, encoding = \"ISO-8859-1\")\n",
    "print('*'*20, \"Nhập dữ liệu thành công\", '*'*20)\n",
    "display(data)\n",
    "data.info()"
   ]
  },
  {
   "cell_type": "markdown",
   "id": "afa19750-650a-42ac-aabe-802e4f6eb9bf",
   "metadata": {
    "tags": []
   },
   "source": [
    "## 1. Lọc dữ liệu"
   ]
  },
  {
   "cell_type": "markdown",
   "id": "111d07e4-1c09-4097-a8db-64c1302cc5b5",
   "metadata": {},
   "source": [
    "**Quy mô dữ liệu của doanh nghiệp ngày càng tăng do xu hướng số hóa doanh nghiệp:**  \n",
    "- **làm gia tăng quy mô dữ liệu** \n",
    "- **sự thiếu nhất quán**  \n",
    "- **nhiều thông tin nhiễu**  \n",
    "**-> Lọc dữ liệu trả về bộ dữ liệu phù hợp với nhu cầu người dùng.**"
   ]
  },
  {
   "cell_type": "markdown",
   "id": "2c2a52a3-0c67-43c9-b4a9-f292ea3a9dd2",
   "metadata": {
    "tags": []
   },
   "source": [
    "### 1.1 Lọc sử dụng .loc[], .iloc[]"
   ]
  },
  {
   "cell_type": "markdown",
   "id": "e533b8f6-63d8-4eab-9984-7cf36e3b3ed8",
   "metadata": {},
   "source": [
    "<font color='red' size=\"5\" >**df.loc[thông tin hàng, thông tin cột]**</font>  "
   ]
  },
  {
   "cell_type": "markdown",
   "id": "1b59d5f8-2ad0-4523-bf7a-b590e2893e04",
   "metadata": {},
   "source": [
    "**Ví dụ 1: Lọc lấy cột 'name'**  "
   ]
  },
  {
   "cell_type": "code",
   "execution_count": null,
   "id": "bbcc4189-e641-4656-b313-8b818c5798a6",
   "metadata": {
    "tags": []
   },
   "outputs": [],
   "source": [
    "data.loc[:,'name']"
   ]
  },
  {
   "cell_type": "markdown",
   "id": "42ba106d-70fb-4dab-af22-e3a34bfbb775",
   "metadata": {},
   "source": [
    "**Ví dụ 2: Lọc lấy cột 'name' và 'shop_location'**  "
   ]
  },
  {
   "cell_type": "code",
   "execution_count": null,
   "id": "a95dc02c-1ed7-471a-a2a2-dae416f2a9c2",
   "metadata": {
    "tags": []
   },
   "outputs": [],
   "source": [
    "data.loc[:,['name','shop_location']] #Danh sách (list) các cột đơn lẻ thì phải để trong [...]"
   ]
  },
  {
   "cell_type": "code",
   "execution_count": null,
   "id": "b2006531-53e4-47a9-b9b1-e50e0e6f7aef",
   "metadata": {},
   "outputs": [],
   "source": [
    "data.filter(['name','shop_location'])[:]"
   ]
  },
  {
   "cell_type": "markdown",
   "id": "9d5fad63-7d90-47bd-afd3-6b273fd90ed9",
   "metadata": {},
   "source": [
    "**Ví dụ 3: Lọc lấy cột từ 'name' tới 'shop_location'**  "
   ]
  },
  {
   "cell_type": "code",
   "execution_count": null,
   "id": "af99a86f-ab9b-4c78-8432-05735f4169bb",
   "metadata": {
    "jupyter": {
     "source_hidden": true
    },
    "tags": []
   },
   "outputs": [],
   "source": [
    "data.loc[:,'name':'shop_location'] "
   ]
  },
  {
   "cell_type": "code",
   "execution_count": null,
   "id": "28c33c29-8e54-473c-99ba-89fea462b8c3",
   "metadata": {},
   "outputs": [],
   "source": [
    "data.filter(['name':'shop_location'])[:] # Filter() không dùng được slice xx:yy"
   ]
  },
  {
   "cell_type": "markdown",
   "id": "fbb30668-29e1-45bb-bb25-9fbe4c4ebf2e",
   "metadata": {},
   "source": [
    "**Ví dụ 4: Lọc lấy hàng có index = 222**  "
   ]
  },
  {
   "cell_type": "code",
   "execution_count": null,
   "id": "6201b9ae-1703-44a1-a811-ecce8a0c32c9",
   "metadata": {
    "jupyter": {
     "source_hidden": true
    },
    "tags": []
   },
   "outputs": [],
   "source": [
    "data.loc[222,:] "
   ]
  },
  {
   "cell_type": "code",
   "execution_count": null,
   "id": "ebfd6df5-c41c-424f-8438-8ba45432b834",
   "metadata": {},
   "outputs": [],
   "source": [
    "data.filter([:])[222] #Không được"
   ]
  },
  {
   "cell_type": "markdown",
   "id": "c4d57630-a46f-42df-ad91-0a526a040aca",
   "metadata": {},
   "source": [
    "**Ví dụ 5: Lọc lấy hàng có index = 222, 444 và 666**  "
   ]
  },
  {
   "cell_type": "code",
   "execution_count": null,
   "id": "c680016c-4c84-4f27-9f3e-2e18c3d3c7ec",
   "metadata": {
    "tags": []
   },
   "outputs": [],
   "source": [
    "data.loc[[222, 444, 666],:] #Danh sách các hàng đơn lẻ thì phải để trong [...]"
   ]
  },
  {
   "cell_type": "markdown",
   "id": "3b7b8a8c-1c7c-419d-ae82-ba15231927e8",
   "metadata": {},
   "source": [
    "**Ví dụ 6: Lọc lấy hàng có index từ 100 tới 200**  "
   ]
  },
  {
   "cell_type": "code",
   "execution_count": null,
   "id": "944a76bf-ede0-45bf-bd14-60d238a704c1",
   "metadata": {
    "tags": []
   },
   "outputs": [],
   "source": [
    "data.loc[100:200,:] "
   ]
  },
  {
   "cell_type": "markdown",
   "id": "7b01ab82-3df9-486a-9544-8026d2b83347",
   "metadata": {},
   "source": [
    "**Ví dụ 7: Lọc lấy bảng có index từ 300 tới 400 chỉ chứa cột từ 'rating_bad' tới 'rating_star'**  "
   ]
  },
  {
   "cell_type": "code",
   "execution_count": null,
   "id": "a47b64f1-84ad-4f26-aaee-48de5cae53cd",
   "metadata": {
    "tags": []
   },
   "outputs": [],
   "source": [
    "data.loc[300:400,'rating_bad':'rating_star']"
   ]
  },
  {
   "cell_type": "markdown",
   "id": "9da617f7-d383-4f92-a97c-7474923cf6d2",
   "metadata": {
    "jp-MarkdownHeadingCollapsed": true,
    "tags": []
   },
   "source": [
    "### 1.2 Lọc bằng hàm filter()"
   ]
  },
  {
   "cell_type": "markdown",
   "id": "b810c99e-a54d-492f-aac9-da56eb2619e0",
   "metadata": {},
   "source": [
    "<font color='red' size=\"5\" >**df.filter([‘Tên_cột_1', …,‘Tên_cột_n']) [chỉ_số_dòng_đầu : chỉ_số_dòng_cuối]**</font>  \n",
    "**Chủ yếu là để lọc lấy cột**  "
   ]
  },
  {
   "cell_type": "markdown",
   "id": "faa0e0a3-f1e5-4c75-85d4-76fe58425047",
   "metadata": {},
   "source": [
    "**Ví dụ 1: Lọc lấy cột 'name'**  "
   ]
  },
  {
   "cell_type": "code",
   "execution_count": null,
   "id": "ff0effff-5f83-4505-ab9a-7a02f1a8e0a8",
   "metadata": {},
   "outputs": [],
   "source": [
    "data.filter(['name'])[:]"
   ]
  },
  {
   "cell_type": "markdown",
   "id": "183a308f-3ae9-4778-a54e-39555b8c0c53",
   "metadata": {
    "tags": []
   },
   "source": [
    "### 1.3 Lọc sử dụng điều kiện"
   ]
  },
  {
   "cell_type": "markdown",
   "id": "56f71bcd-8b49-42e0-a311-7570558242dc",
   "metadata": {},
   "source": [
    "**Lọc theo điều kiện đơn**  \n",
    "<font color='red' size=\"5\" >**df[df[‘Tên_cột’] PTSS giá_trị]**</font>  \n",
    "**Trong đó phép toán so sánh PTSS sử dụng các phép toán so sánh gồm: ==, <, <=, >, >=, !=**  \n",
    "**(giá_trị cần so sánh được để trong cặp dấu nháy đơn nếu có kiểu chuỗi ký tự)**  "
   ]
  },
  {
   "cell_type": "markdown",
   "id": "b0be5d42-cf84-4910-9452-f22f138821dc",
   "metadata": {},
   "source": [
    "**Ví dụ 1: Lọc lấy dữ liệu có tháng tham gia là tháng 6**  "
   ]
  },
  {
   "cell_type": "code",
   "execution_count": null,
   "id": "6fe1cff2-ff72-4eca-aa04-84e567a61704",
   "metadata": {
    "tags": []
   },
   "outputs": [],
   "source": [
    "data[data['join_month']=='June']"
   ]
  },
  {
   "cell_type": "markdown",
   "id": "952cae22-ca2f-44f3-ab6d-d2e8d5f7263e",
   "metadata": {},
   "source": [
    "**Ví dụ 2: Lọc lấy dữ liệu có trên 500 đánh giá tốt**  "
   ]
  },
  {
   "cell_type": "code",
   "execution_count": null,
   "id": "1cf5e405-b2a9-49d2-966b-74395ccb5053",
   "metadata": {
    "tags": []
   },
   "outputs": [],
   "source": [
    "data[data['rating_good']>=500]"
   ]
  },
  {
   "cell_type": "markdown",
   "id": "360df51b-d316-44ae-8075-c44cc2279df2",
   "metadata": {},
   "source": [
    "**Ví dụ 3: Lọc lấy tên các shop và địa chỉ có trên 1000 đánh giá tốt**  "
   ]
  },
  {
   "cell_type": "code",
   "execution_count": null,
   "id": "ef07f183-6866-475e-9e32-75e3cb1b6c3f",
   "metadata": {},
   "outputs": [],
   "source": [
    "data[data['rating_good'] > 1000].loc[:,['name','shop_location','rating_good']]"
   ]
  },
  {
   "cell_type": "code",
   "execution_count": null,
   "id": "00d89d3c-8735-4c7f-9eb8-3d98b5d7c7cf",
   "metadata": {},
   "outputs": [],
   "source": [
    "data[data['rating_good'] > 1000].filter(['name','shop_location','rating_good'])"
   ]
  },
  {
   "cell_type": "markdown",
   "id": "4ad53d53-500b-42e5-a901-461d27d9b084",
   "metadata": {},
   "source": [
    "**Lọc theo điều kiện phức**  \n",
    "<font color='red' size=\"5\" >**df[(df[‘Tên_cột_1’] PTSS giá_trị) PTLG (df[‘Tên_cột_n’] PTSS giá_trị_n)]**</font>  \n",
    "<font color='red' size=\"5\" >**df[(so sánh 1) PTLG (so sanh 2)]**</font>\n",
    "**Các điều kiện được nối với nhau bởi phép toán logic PTLG gồm: & (và), | (hoặc), ~ (phủ định)**  "
   ]
  },
  {
   "cell_type": "markdown",
   "id": "bd372f01-262b-49d1-98b3-02e6d9ca700e",
   "metadata": {},
   "source": [
    "**Ví dụ 4: Lọc lấy tên các shop và địa chỉ có trên 1000 đánh giá tốt và trung bình đánh giá trên 4 sao**  "
   ]
  },
  {
   "cell_type": "code",
   "execution_count": null,
   "id": "8b0df2b5-94bc-4097-a004-8160521cb4a7",
   "metadata": {
    "tags": []
   },
   "outputs": [],
   "source": [
    "data[(data['rating_good'] > 1000) & (data['rating_star'] > 4)].filter(['name','shop_location','rating_good','rating_star'])"
   ]
  },
  {
   "cell_type": "markdown",
   "id": "c291f16d-b5df-4ccf-8065-d290c7cebc25",
   "metadata": {},
   "source": [
    "**Ví dụ 5: Lọc lấy các dữ liệu của các shop có trên 5 năm tồn tại, được shoppe verify, và không có quá 200 đánh giá xấu**  "
   ]
  },
  {
   "cell_type": "code",
   "execution_count": null,
   "id": "b3aff980-f137-4025-a459-cf15bbfde2ff",
   "metadata": {
    "tags": []
   },
   "outputs": [],
   "source": [
    "data[(data['join_year']<=2017) & (data['is_shopee_verified'] == 1) & (data['rating_bad']<200)].filter(['name'])"
   ]
  },
  {
   "cell_type": "markdown",
   "id": "eea7175f-5de8-415e-a340-82f57824f402",
   "metadata": {},
   "source": [
    "**Ví dụ 6: Lọc lấy các dữ liệu của các shop có địa chỉ ở Manila**  \n",
    "xxx.str.contains('string')==True"
   ]
  },
  {
   "cell_type": "code",
   "execution_count": null,
   "id": "fe7c2ca7-a453-4d04-b02c-ffb3a2d34539",
   "metadata": {
    "tags": []
   },
   "outputs": [],
   "source": [
    "data[data['shop_location'].str.contains('Manila')==True]"
   ]
  },
  {
   "cell_type": "markdown",
   "id": "8e48b300-83d3-4ed4-b46e-273dd23884ff",
   "metadata": {},
   "source": [
    "**Ví dụ 7: Tên cột có chứa dấu cách.**  \n",
    "**shop_location -> shop location**  "
   ]
  },
  {
   "cell_type": "markdown",
   "id": "c67ebcba-7359-4f42-ab0b-4d3dc43cb3ba",
   "metadata": {
    "tags": []
   },
   "source": [
    "### 1.4 Lọc bằng hàm query()"
   ]
  },
  {
   "cell_type": "markdown",
   "id": "b8b3fb5b-d868-40cc-ba47-5ba89d7248cd",
   "metadata": {},
   "source": [
    "**Phương thức truy vấn query giúp câu lệnh truy vấn chạy nhanh hơn**  \n",
    "**Các điều kiện được nối với nhau bởi các phép toán logic như: and (và), or (hoặc), not (phủ định) và được để trong một cặp dấu nháy kép.**  \n",
    "<font color='red' size=\"5\" >**df.query(\"(Tên_cột_1 PTSS giá_trị_1) PTLG (Tên_cột_n PTSS giá_trị_n)\")**</font>  \n",
    "<font color='red' size=\"5\" >**df.query(\"(so sanh 1) PTLG (so sanh 2)\")**</font>  "
   ]
  },
  {
   "cell_type": "markdown",
   "id": "9f579b38-0166-4c37-adf0-25a37b489cff",
   "metadata": {},
   "source": [
    "**Ví dụ 1: Lọc lấy tên các shop và địa chỉ có trên 1000 đánh giá tốt và trung bình đánh giá trên 4 sao**  "
   ]
  },
  {
   "cell_type": "code",
   "execution_count": null,
   "id": "38438171-24f6-49ae-92c0-371651044942",
   "metadata": {},
   "outputs": [],
   "source": [
    "data[(data['rating_good'] > 1000) & (data['rating_star'] > 4)].filter(['name','shop_location','rating_good','rating_star'])"
   ]
  },
  {
   "cell_type": "code",
   "execution_count": 60,
   "id": "ea4197de-f751-4729-9df4-804445cdc227",
   "metadata": {
    "collapsed": true,
    "jupyter": {
     "outputs_hidden": true
    },
    "tags": []
   },
   "outputs": [
    {
     "data": {
      "text/html": [
       "<div>\n",
       "<style scoped>\n",
       "    .dataframe tbody tr th:only-of-type {\n",
       "        vertical-align: middle;\n",
       "    }\n",
       "\n",
       "    .dataframe tbody tr th {\n",
       "        vertical-align: top;\n",
       "    }\n",
       "\n",
       "    .dataframe thead th {\n",
       "        text-align: right;\n",
       "    }\n",
       "</style>\n",
       "<table border=\"1\" class=\"dataframe\">\n",
       "  <thead>\n",
       "    <tr style=\"text-align: right;\">\n",
       "      <th></th>\n",
       "      <th>name</th>\n",
       "      <th>shop_location</th>\n",
       "      <th>rating_good</th>\n",
       "      <th>rating_star</th>\n",
       "    </tr>\n",
       "  </thead>\n",
       "  <tbody>\n",
       "    <tr>\n",
       "      <th>0</th>\n",
       "      <td>hello.may.ph</td>\n",
       "      <td>NaN</td>\n",
       "      <td>17510</td>\n",
       "      <td>4.81</td>\n",
       "    </tr>\n",
       "    <tr>\n",
       "      <th>1</th>\n",
       "      <td>love.women.shop</td>\n",
       "      <td>San Nicolas,Metro Manila</td>\n",
       "      <td>2656</td>\n",
       "      <td>4.68</td>\n",
       "    </tr>\n",
       "    <tr>\n",
       "      <th>2</th>\n",
       "      <td>R&amp;O RedOrange</td>\n",
       "      <td>Pasay City,Metro Manila</td>\n",
       "      <td>1071829</td>\n",
       "      <td>4.91</td>\n",
       "    </tr>\n",
       "    <tr>\n",
       "      <th>3</th>\n",
       "      <td>patriciacai</td>\n",
       "      <td>Binondo,Metro Manila</td>\n",
       "      <td>18959</td>\n",
       "      <td>4.94</td>\n",
       "    </tr>\n",
       "    <tr>\n",
       "      <th>4</th>\n",
       "      <td>Little Market Manila</td>\n",
       "      <td>Caloocan City,Metro Manila</td>\n",
       "      <td>39252</td>\n",
       "      <td>4.73</td>\n",
       "    </tr>\n",
       "    <tr>\n",
       "      <th>...</th>\n",
       "      <td>...</td>\n",
       "      <td>...</td>\n",
       "      <td>...</td>\n",
       "      <td>...</td>\n",
       "    </tr>\n",
       "    <tr>\n",
       "      <th>738</th>\n",
       "      <td>Fall in love with you</td>\n",
       "      <td>NaN</td>\n",
       "      <td>1092</td>\n",
       "      <td>4.75</td>\n",
       "    </tr>\n",
       "    <tr>\n",
       "      <th>739</th>\n",
       "      <td>Yzkzks.ph</td>\n",
       "      <td>Pasay City,Metro Manila</td>\n",
       "      <td>55669</td>\n",
       "      <td>4.89</td>\n",
       "    </tr>\n",
       "    <tr>\n",
       "      <th>740</th>\n",
       "      <td>Adol Janet</td>\n",
       "      <td>Binondo,Metro Manila</td>\n",
       "      <td>297528</td>\n",
       "      <td>4.84</td>\n",
       "    </tr>\n",
       "    <tr>\n",
       "      <th>744</th>\n",
       "      <td>Clairecvc Shop</td>\n",
       "      <td>Binondo,Metro Manila</td>\n",
       "      <td>103289</td>\n",
       "      <td>4.78</td>\n",
       "    </tr>\n",
       "    <tr>\n",
       "      <th>745</th>\n",
       "      <td>angelcity.ð</td>\n",
       "      <td>Pasay City,Metro Manila</td>\n",
       "      <td>708666</td>\n",
       "      <td>4.77</td>\n",
       "    </tr>\n",
       "  </tbody>\n",
       "</table>\n",
       "<p>531 rows × 4 columns</p>\n",
       "</div>"
      ],
      "text/plain": [
       "                      name               shop_location  rating_good  \\\n",
       "0             hello.may.ph                         NaN        17510   \n",
       "1          love.women.shop    San Nicolas,Metro Manila         2656   \n",
       "2            R&O RedOrange     Pasay City,Metro Manila      1071829   \n",
       "3              patriciacai        Binondo,Metro Manila        18959   \n",
       "4     Little Market Manila  Caloocan City,Metro Manila        39252   \n",
       "..                     ...                         ...          ...   \n",
       "738  Fall in love with you                         NaN         1092   \n",
       "739              Yzkzks.ph     Pasay City,Metro Manila        55669   \n",
       "740            Adol Janet         Binondo,Metro Manila       297528   \n",
       "744         Clairecvc Shop        Binondo,Metro Manila       103289   \n",
       "745         angelcity.ð     Pasay City,Metro Manila       708666   \n",
       "\n",
       "     rating_star  \n",
       "0           4.81  \n",
       "1           4.68  \n",
       "2           4.91  \n",
       "3           4.94  \n",
       "4           4.73  \n",
       "..           ...  \n",
       "738         4.75  \n",
       "739         4.89  \n",
       "740         4.84  \n",
       "744         4.78  \n",
       "745         4.77  \n",
       "\n",
       "[531 rows x 4 columns]"
      ]
     },
     "execution_count": 60,
     "metadata": {},
     "output_type": "execute_result"
    }
   ],
   "source": [
    "data.query(\"(rating_good > 1000) and (rating_star > 4)\").filter(['name','shop_location', 'rating_good','rating_star'])"
   ]
  },
  {
   "cell_type": "markdown",
   "id": "f273c0ad-156b-40e2-bcdb-aa98d1117f75",
   "metadata": {},
   "source": [
    "**Ví dụ 2: Lọc lấy các dữ liệu của các shop có từ 5 năm tồn tại, được shoppe verify, và không có quá 200 đánh giá xấu**  "
   ]
  },
  {
   "cell_type": "code",
   "execution_count": null,
   "id": "7a9dac39-101d-4837-a667-61aca279acdf",
   "metadata": {},
   "outputs": [],
   "source": [
    "data.query(\"() and () and ()\").filter(['name'])"
   ]
  },
  {
   "cell_type": "code",
   "execution_count": 66,
   "id": "51efba3d-e6ea-4cd3-a6cf-942e677af6b0",
   "metadata": {},
   "outputs": [
    {
     "data": {
      "text/html": [
       "<div>\n",
       "<style scoped>\n",
       "    .dataframe tbody tr th:only-of-type {\n",
       "        vertical-align: middle;\n",
       "    }\n",
       "\n",
       "    .dataframe tbody tr th {\n",
       "        vertical-align: top;\n",
       "    }\n",
       "\n",
       "    .dataframe thead th {\n",
       "        text-align: right;\n",
       "    }\n",
       "</style>\n",
       "<table border=\"1\" class=\"dataframe\">\n",
       "  <thead>\n",
       "    <tr style=\"text-align: right;\">\n",
       "      <th></th>\n",
       "      <th>name</th>\n",
       "      <th>shop_location</th>\n",
       "    </tr>\n",
       "  </thead>\n",
       "  <tbody>\n",
       "    <tr>\n",
       "      <th>3</th>\n",
       "      <td>patriciacai</td>\n",
       "      <td>Binondo,Metro Manila</td>\n",
       "    </tr>\n",
       "    <tr>\n",
       "      <th>54</th>\n",
       "      <td>ELfille 2.0</td>\n",
       "      <td>Marikina City,Metro Manila</td>\n",
       "    </tr>\n",
       "    <tr>\n",
       "      <th>178</th>\n",
       "      <td>patriciacai</td>\n",
       "      <td>Binondo,Metro Manila</td>\n",
       "    </tr>\n",
       "    <tr>\n",
       "      <th>516</th>\n",
       "      <td>patriciacai</td>\n",
       "      <td>Binondo,Metro Manila</td>\n",
       "    </tr>\n",
       "  </tbody>\n",
       "</table>\n",
       "</div>"
      ],
      "text/plain": [
       "            name               shop_location\n",
       "3    patriciacai        Binondo,Metro Manila\n",
       "54   ELfille 2.0  Marikina City,Metro Manila\n",
       "178  patriciacai        Binondo,Metro Manila\n",
       "516  patriciacai        Binondo,Metro Manila"
      ]
     },
     "execution_count": 66,
     "metadata": {},
     "output_type": "execute_result"
    }
   ],
   "source": [
    "data.query(\"(join_year <= 2017) and (is_shopee_verified == 1) and (rating_bad <200)\").filter(['name','shop_location'])"
   ]
  },
  {
   "cell_type": "markdown",
   "id": "7d9adb9f-d9a2-4842-95d9-0b31608d7e48",
   "metadata": {},
   "source": [
    "**Ví dụ 3: Lọc lấy các dữ liệu của các shop có địa chỉ ở Manila**  \n",
    "xxx.str.contains('string')==True"
   ]
  },
  {
   "cell_type": "code",
   "execution_count": 74,
   "id": "d461075b-f0b9-41d3-9739-13e747427629",
   "metadata": {},
   "outputs": [
    {
     "data": {
      "text/html": [
       "<div>\n",
       "<style scoped>\n",
       "    .dataframe tbody tr th:only-of-type {\n",
       "        vertical-align: middle;\n",
       "    }\n",
       "\n",
       "    .dataframe tbody tr th {\n",
       "        vertical-align: top;\n",
       "    }\n",
       "\n",
       "    .dataframe thead th {\n",
       "        text-align: right;\n",
       "    }\n",
       "</style>\n",
       "<table border=\"1\" class=\"dataframe\">\n",
       "  <thead>\n",
       "    <tr style=\"text-align: right;\">\n",
       "      <th></th>\n",
       "      <th>pk_shop</th>\n",
       "      <th>date_collected</th>\n",
       "      <th>shopid</th>\n",
       "      <th>name</th>\n",
       "      <th>join_month</th>\n",
       "      <th>join_day</th>\n",
       "      <th>join_year</th>\n",
       "      <th>item_count</th>\n",
       "      <th>follower_count</th>\n",
       "      <th>response_time</th>\n",
       "      <th>response_rate</th>\n",
       "      <th>shop location</th>\n",
       "      <th>rating_bad</th>\n",
       "      <th>rating_good</th>\n",
       "      <th>rating_normal</th>\n",
       "      <th>rating_star</th>\n",
       "      <th>is_shopee_verified</th>\n",
       "      <th>is_official_shop</th>\n",
       "    </tr>\n",
       "  </thead>\n",
       "  <tbody>\n",
       "    <tr>\n",
       "      <th>0</th>\n",
       "      <td>20210613254711738</td>\n",
       "      <td>2021-06-13</td>\n",
       "      <td>254711738</td>\n",
       "      <td>hello.may.ph</td>\n",
       "      <td>April</td>\n",
       "      <td>27</td>\n",
       "      <td>2020</td>\n",
       "      <td>446</td>\n",
       "      <td>17487</td>\n",
       "      <td>10:13:55</td>\n",
       "      <td>96</td>\n",
       "      <td>NaN</td>\n",
       "      <td>181</td>\n",
       "      <td>17510</td>\n",
       "      <td>729</td>\n",
       "      <td>4.81</td>\n",
       "      <td>1</td>\n",
       "      <td>0</td>\n",
       "    </tr>\n",
       "    <tr>\n",
       "      <th>1</th>\n",
       "      <td>20210613314198143</td>\n",
       "      <td>2021-06-13</td>\n",
       "      <td>314198143</td>\n",
       "      <td>love.women.shop</td>\n",
       "      <td>September</td>\n",
       "      <td>25</td>\n",
       "      <td>2020</td>\n",
       "      <td>263</td>\n",
       "      <td>8574</td>\n",
       "      <td>10:43:05</td>\n",
       "      <td>73</td>\n",
       "      <td>San Nicolas,Metro Manila</td>\n",
       "      <td>78</td>\n",
       "      <td>2656</td>\n",
       "      <td>198</td>\n",
       "      <td>4.68</td>\n",
       "      <td>0</td>\n",
       "      <td>0</td>\n",
       "    </tr>\n",
       "    <tr>\n",
       "      <th>2</th>\n",
       "      <td>2021061310377223</td>\n",
       "      <td>2021-06-13</td>\n",
       "      <td>10377223</td>\n",
       "      <td>R&amp;O RedOrange</td>\n",
       "      <td>September</td>\n",
       "      <td>27</td>\n",
       "      <td>2016</td>\n",
       "      <td>209</td>\n",
       "      <td>660417</td>\n",
       "      <td>08:32:07</td>\n",
       "      <td>90</td>\n",
       "      <td>Pasay City,Metro Manila</td>\n",
       "      <td>4647</td>\n",
       "      <td>1071829</td>\n",
       "      <td>18073</td>\n",
       "      <td>4.91</td>\n",
       "      <td>1</td>\n",
       "      <td>0</td>\n",
       "    </tr>\n",
       "    <tr>\n",
       "      <th>3</th>\n",
       "      <td>2021061321407329</td>\n",
       "      <td>2021-06-13</td>\n",
       "      <td>21407329</td>\n",
       "      <td>patriciacai</td>\n",
       "      <td>April</td>\n",
       "      <td>30</td>\n",
       "      <td>2017</td>\n",
       "      <td>165</td>\n",
       "      <td>18787</td>\n",
       "      <td>09:10:38</td>\n",
       "      <td>94</td>\n",
       "      <td>Binondo,Metro Manila</td>\n",
       "      <td>44</td>\n",
       "      <td>18959</td>\n",
       "      <td>215</td>\n",
       "      <td>4.94</td>\n",
       "      <td>1</td>\n",
       "      <td>0</td>\n",
       "    </tr>\n",
       "    <tr>\n",
       "      <th>4</th>\n",
       "      <td>2021061311187885</td>\n",
       "      <td>2021-06-13</td>\n",
       "      <td>11187885</td>\n",
       "      <td>Little Market Manila</td>\n",
       "      <td>October</td>\n",
       "      <td>18</td>\n",
       "      <td>2016</td>\n",
       "      <td>467</td>\n",
       "      <td>67371</td>\n",
       "      <td>11:40:59</td>\n",
       "      <td>89</td>\n",
       "      <td>Caloocan City,Metro Manila</td>\n",
       "      <td>680</td>\n",
       "      <td>39252</td>\n",
       "      <td>2383</td>\n",
       "      <td>4.73</td>\n",
       "      <td>1</td>\n",
       "      <td>0</td>\n",
       "    </tr>\n",
       "    <tr>\n",
       "      <th>...</th>\n",
       "      <td>...</td>\n",
       "      <td>...</td>\n",
       "      <td>...</td>\n",
       "      <td>...</td>\n",
       "      <td>...</td>\n",
       "      <td>...</td>\n",
       "      <td>...</td>\n",
       "      <td>...</td>\n",
       "      <td>...</td>\n",
       "      <td>...</td>\n",
       "      <td>...</td>\n",
       "      <td>...</td>\n",
       "      <td>...</td>\n",
       "      <td>...</td>\n",
       "      <td>...</td>\n",
       "      <td>...</td>\n",
       "      <td>...</td>\n",
       "      <td>...</td>\n",
       "    </tr>\n",
       "    <tr>\n",
       "      <th>741</th>\n",
       "      <td>20210706449182992</td>\n",
       "      <td>2021-07-06</td>\n",
       "      <td>449182992</td>\n",
       "      <td>Yacent_thrift_Clo</td>\n",
       "      <td>May</td>\n",
       "      <td>22</td>\n",
       "      <td>2021</td>\n",
       "      <td>16</td>\n",
       "      <td>115</td>\n",
       "      <td>08:45:30</td>\n",
       "      <td>86</td>\n",
       "      <td>Legazpi City,Albay</td>\n",
       "      <td>0</td>\n",
       "      <td>32</td>\n",
       "      <td>0</td>\n",
       "      <td>5.00</td>\n",
       "      <td>0</td>\n",
       "      <td>0</td>\n",
       "    </tr>\n",
       "    <tr>\n",
       "      <th>742</th>\n",
       "      <td>20210706396605392</td>\n",
       "      <td>2021-07-06</td>\n",
       "      <td>396605392</td>\n",
       "      <td>Akistore.ph</td>\n",
       "      <td>March</td>\n",
       "      <td>3</td>\n",
       "      <td>2021</td>\n",
       "      <td>84</td>\n",
       "      <td>84</td>\n",
       "      <td>08:01:23</td>\n",
       "      <td>91</td>\n",
       "      <td>NaN</td>\n",
       "      <td>1</td>\n",
       "      <td>9</td>\n",
       "      <td>0</td>\n",
       "      <td>4.60</td>\n",
       "      <td>0</td>\n",
       "      <td>0</td>\n",
       "    </tr>\n",
       "    <tr>\n",
       "      <th>743</th>\n",
       "      <td>20210706360379308</td>\n",
       "      <td>2021-07-06</td>\n",
       "      <td>360379308</td>\n",
       "      <td>Yzanice Shop</td>\n",
       "      <td>December</td>\n",
       "      <td>20</td>\n",
       "      <td>2020</td>\n",
       "      <td>78</td>\n",
       "      <td>5982</td>\n",
       "      <td>08:46:30</td>\n",
       "      <td>96</td>\n",
       "      <td>NaN</td>\n",
       "      <td>16</td>\n",
       "      <td>463</td>\n",
       "      <td>16</td>\n",
       "      <td>4.75</td>\n",
       "      <td>1</td>\n",
       "      <td>0</td>\n",
       "    </tr>\n",
       "    <tr>\n",
       "      <th>744</th>\n",
       "      <td>2021070629392066</td>\n",
       "      <td>2021-07-06</td>\n",
       "      <td>29392066</td>\n",
       "      <td>Clairecvc Shop</td>\n",
       "      <td>August</td>\n",
       "      <td>2</td>\n",
       "      <td>2017</td>\n",
       "      <td>964</td>\n",
       "      <td>44029</td>\n",
       "      <td>12:19:44</td>\n",
       "      <td>73</td>\n",
       "      <td>Binondo,Metro Manila</td>\n",
       "      <td>1960</td>\n",
       "      <td>103289</td>\n",
       "      <td>3982</td>\n",
       "      <td>4.78</td>\n",
       "      <td>0</td>\n",
       "      <td>0</td>\n",
       "    </tr>\n",
       "    <tr>\n",
       "      <th>745</th>\n",
       "      <td>2021070625811092</td>\n",
       "      <td>2021-07-06</td>\n",
       "      <td>25811092</td>\n",
       "      <td>angelcity.ð</td>\n",
       "      <td>June</td>\n",
       "      <td>17</td>\n",
       "      <td>2017</td>\n",
       "      <td>272</td>\n",
       "      <td>868370</td>\n",
       "      <td>10:02:42</td>\n",
       "      <td>36</td>\n",
       "      <td>Pasay City,Metro Manila</td>\n",
       "      <td>13401</td>\n",
       "      <td>708666</td>\n",
       "      <td>30799</td>\n",
       "      <td>4.77</td>\n",
       "      <td>0</td>\n",
       "      <td>0</td>\n",
       "    </tr>\n",
       "  </tbody>\n",
       "</table>\n",
       "<p>746 rows × 18 columns</p>\n",
       "</div>"
      ],
      "text/plain": [
       "               pk_shop date_collected     shopid                  name  \\\n",
       "0    20210613254711738     2021-06-13  254711738          hello.may.ph   \n",
       "1    20210613314198143     2021-06-13  314198143       love.women.shop   \n",
       "2     2021061310377223     2021-06-13   10377223         R&O RedOrange   \n",
       "3     2021061321407329     2021-06-13   21407329           patriciacai   \n",
       "4     2021061311187885     2021-06-13   11187885  Little Market Manila   \n",
       "..                 ...            ...        ...                   ...   \n",
       "741  20210706449182992     2021-07-06  449182992     Yacent_thrift_Clo   \n",
       "742  20210706396605392     2021-07-06  396605392           Akistore.ph   \n",
       "743  20210706360379308     2021-07-06  360379308          Yzanice Shop   \n",
       "744   2021070629392066     2021-07-06   29392066        Clairecvc Shop   \n",
       "745   2021070625811092     2021-07-06   25811092        angelcity.ð   \n",
       "\n",
       "    join_month  join_day  join_year  item_count  follower_count response_time  \\\n",
       "0        April        27       2020         446           17487      10:13:55   \n",
       "1    September        25       2020         263            8574      10:43:05   \n",
       "2    September        27       2016         209          660417      08:32:07   \n",
       "3        April        30       2017         165           18787      09:10:38   \n",
       "4      October        18       2016         467           67371      11:40:59   \n",
       "..         ...       ...        ...         ...             ...           ...   \n",
       "741        May        22       2021          16             115      08:45:30   \n",
       "742      March         3       2021          84              84      08:01:23   \n",
       "743   December        20       2020          78            5982      08:46:30   \n",
       "744     August         2       2017         964           44029      12:19:44   \n",
       "745       June        17       2017         272          868370      10:02:42   \n",
       "\n",
       "     response_rate               shop location  rating_bad  rating_good  \\\n",
       "0               96                         NaN         181        17510   \n",
       "1               73    San Nicolas,Metro Manila          78         2656   \n",
       "2               90     Pasay City,Metro Manila        4647      1071829   \n",
       "3               94        Binondo,Metro Manila          44        18959   \n",
       "4               89  Caloocan City,Metro Manila         680        39252   \n",
       "..             ...                         ...         ...          ...   \n",
       "741             86          Legazpi City,Albay           0           32   \n",
       "742             91                         NaN           1            9   \n",
       "743             96                         NaN          16          463   \n",
       "744             73        Binondo,Metro Manila        1960       103289   \n",
       "745             36     Pasay City,Metro Manila       13401       708666   \n",
       "\n",
       "     rating_normal  rating_star  is_shopee_verified  is_official_shop  \n",
       "0              729         4.81                   1                 0  \n",
       "1              198         4.68                   0                 0  \n",
       "2            18073         4.91                   1                 0  \n",
       "3              215         4.94                   1                 0  \n",
       "4             2383         4.73                   1                 0  \n",
       "..             ...          ...                 ...               ...  \n",
       "741              0         5.00                   0                 0  \n",
       "742              0         4.60                   0                 0  \n",
       "743             16         4.75                   1                 0  \n",
       "744           3982         4.78                   0                 0  \n",
       "745          30799         4.77                   0                 0  \n",
       "\n",
       "[746 rows x 18 columns]"
      ]
     },
     "execution_count": 74,
     "metadata": {},
     "output_type": "execute_result"
    }
   ],
   "source": [
    "data.rename(columns= {'shop_location':'shop location'}, inplace=True)\n",
    "data"
   ]
  },
  {
   "cell_type": "code",
   "execution_count": 77,
   "id": "640734a7-8d9f-44b8-86f5-20febe9ad475",
   "metadata": {},
   "outputs": [
    {
     "data": {
      "text/html": [
       "<div>\n",
       "<style scoped>\n",
       "    .dataframe tbody tr th:only-of-type {\n",
       "        vertical-align: middle;\n",
       "    }\n",
       "\n",
       "    .dataframe tbody tr th {\n",
       "        vertical-align: top;\n",
       "    }\n",
       "\n",
       "    .dataframe thead th {\n",
       "        text-align: right;\n",
       "    }\n",
       "</style>\n",
       "<table border=\"1\" class=\"dataframe\">\n",
       "  <thead>\n",
       "    <tr style=\"text-align: right;\">\n",
       "      <th></th>\n",
       "      <th>pk_shop</th>\n",
       "      <th>date_collected</th>\n",
       "      <th>shopid</th>\n",
       "      <th>name</th>\n",
       "      <th>join_month</th>\n",
       "      <th>join_day</th>\n",
       "      <th>join_year</th>\n",
       "      <th>item_count</th>\n",
       "      <th>follower_count</th>\n",
       "      <th>response_time</th>\n",
       "      <th>response_rate</th>\n",
       "      <th>shop location</th>\n",
       "      <th>rating_bad</th>\n",
       "      <th>rating_good</th>\n",
       "      <th>rating_normal</th>\n",
       "      <th>rating_star</th>\n",
       "      <th>is_shopee_verified</th>\n",
       "      <th>is_official_shop</th>\n",
       "    </tr>\n",
       "  </thead>\n",
       "  <tbody>\n",
       "    <tr>\n",
       "      <th>1</th>\n",
       "      <td>20210613314198143</td>\n",
       "      <td>2021-06-13</td>\n",
       "      <td>314198143</td>\n",
       "      <td>love.women.shop</td>\n",
       "      <td>September</td>\n",
       "      <td>25</td>\n",
       "      <td>2020</td>\n",
       "      <td>263</td>\n",
       "      <td>8574</td>\n",
       "      <td>10:43:05</td>\n",
       "      <td>73</td>\n",
       "      <td>San Nicolas,Metro Manila</td>\n",
       "      <td>78</td>\n",
       "      <td>2656</td>\n",
       "      <td>198</td>\n",
       "      <td>4.68</td>\n",
       "      <td>0</td>\n",
       "      <td>0</td>\n",
       "    </tr>\n",
       "    <tr>\n",
       "      <th>2</th>\n",
       "      <td>2021061310377223</td>\n",
       "      <td>2021-06-13</td>\n",
       "      <td>10377223</td>\n",
       "      <td>R&amp;O RedOrange</td>\n",
       "      <td>September</td>\n",
       "      <td>27</td>\n",
       "      <td>2016</td>\n",
       "      <td>209</td>\n",
       "      <td>660417</td>\n",
       "      <td>08:32:07</td>\n",
       "      <td>90</td>\n",
       "      <td>Pasay City,Metro Manila</td>\n",
       "      <td>4647</td>\n",
       "      <td>1071829</td>\n",
       "      <td>18073</td>\n",
       "      <td>4.91</td>\n",
       "      <td>1</td>\n",
       "      <td>0</td>\n",
       "    </tr>\n",
       "    <tr>\n",
       "      <th>3</th>\n",
       "      <td>2021061321407329</td>\n",
       "      <td>2021-06-13</td>\n",
       "      <td>21407329</td>\n",
       "      <td>patriciacai</td>\n",
       "      <td>April</td>\n",
       "      <td>30</td>\n",
       "      <td>2017</td>\n",
       "      <td>165</td>\n",
       "      <td>18787</td>\n",
       "      <td>09:10:38</td>\n",
       "      <td>94</td>\n",
       "      <td>Binondo,Metro Manila</td>\n",
       "      <td>44</td>\n",
       "      <td>18959</td>\n",
       "      <td>215</td>\n",
       "      <td>4.94</td>\n",
       "      <td>1</td>\n",
       "      <td>0</td>\n",
       "    </tr>\n",
       "    <tr>\n",
       "      <th>4</th>\n",
       "      <td>2021061311187885</td>\n",
       "      <td>2021-06-13</td>\n",
       "      <td>11187885</td>\n",
       "      <td>Little Market Manila</td>\n",
       "      <td>October</td>\n",
       "      <td>18</td>\n",
       "      <td>2016</td>\n",
       "      <td>467</td>\n",
       "      <td>67371</td>\n",
       "      <td>11:40:59</td>\n",
       "      <td>89</td>\n",
       "      <td>Caloocan City,Metro Manila</td>\n",
       "      <td>680</td>\n",
       "      <td>39252</td>\n",
       "      <td>2383</td>\n",
       "      <td>4.73</td>\n",
       "      <td>1</td>\n",
       "      <td>0</td>\n",
       "    </tr>\n",
       "    <tr>\n",
       "      <th>8</th>\n",
       "      <td>20210613312874722</td>\n",
       "      <td>2021-06-13</td>\n",
       "      <td>312874722</td>\n",
       "      <td>Shopping Center boutique</td>\n",
       "      <td>September</td>\n",
       "      <td>22</td>\n",
       "      <td>2020</td>\n",
       "      <td>286</td>\n",
       "      <td>110539</td>\n",
       "      <td>10:14:49</td>\n",
       "      <td>76</td>\n",
       "      <td>San Nicolas,Metro Manila</td>\n",
       "      <td>679</td>\n",
       "      <td>28651</td>\n",
       "      <td>2027</td>\n",
       "      <td>4.70</td>\n",
       "      <td>1</td>\n",
       "      <td>0</td>\n",
       "    </tr>\n",
       "    <tr>\n",
       "      <th>...</th>\n",
       "      <td>...</td>\n",
       "      <td>...</td>\n",
       "      <td>...</td>\n",
       "      <td>...</td>\n",
       "      <td>...</td>\n",
       "      <td>...</td>\n",
       "      <td>...</td>\n",
       "      <td>...</td>\n",
       "      <td>...</td>\n",
       "      <td>...</td>\n",
       "      <td>...</td>\n",
       "      <td>...</td>\n",
       "      <td>...</td>\n",
       "      <td>...</td>\n",
       "      <td>...</td>\n",
       "      <td>...</td>\n",
       "      <td>...</td>\n",
       "      <td>...</td>\n",
       "    </tr>\n",
       "    <tr>\n",
       "      <th>734</th>\n",
       "      <td>2021070650114777</td>\n",
       "      <td>2021-07-06</td>\n",
       "      <td>50114777</td>\n",
       "      <td>BCUA Lingerie Bra and Panty</td>\n",
       "      <td>December</td>\n",
       "      <td>28</td>\n",
       "      <td>2017</td>\n",
       "      <td>534</td>\n",
       "      <td>113865</td>\n",
       "      <td>11:16:00</td>\n",
       "      <td>55</td>\n",
       "      <td>Pasay City,Metro Manila</td>\n",
       "      <td>6389</td>\n",
       "      <td>325315</td>\n",
       "      <td>14994</td>\n",
       "      <td>4.77</td>\n",
       "      <td>0</td>\n",
       "      <td>0</td>\n",
       "    </tr>\n",
       "    <tr>\n",
       "      <th>739</th>\n",
       "      <td>2021070664360491</td>\n",
       "      <td>2021-07-06</td>\n",
       "      <td>64360491</td>\n",
       "      <td>Yzkzks.ph</td>\n",
       "      <td>April</td>\n",
       "      <td>9</td>\n",
       "      <td>2018</td>\n",
       "      <td>650</td>\n",
       "      <td>80591</td>\n",
       "      <td>10:41:36</td>\n",
       "      <td>92</td>\n",
       "      <td>Pasay City,Metro Manila</td>\n",
       "      <td>385</td>\n",
       "      <td>55669</td>\n",
       "      <td>1161</td>\n",
       "      <td>4.89</td>\n",
       "      <td>0</td>\n",
       "      <td>0</td>\n",
       "    </tr>\n",
       "    <tr>\n",
       "      <th>740</th>\n",
       "      <td>2021070616590993</td>\n",
       "      <td>2021-07-06</td>\n",
       "      <td>16590993</td>\n",
       "      <td>Adol Janet</td>\n",
       "      <td>February</td>\n",
       "      <td>14</td>\n",
       "      <td>2017</td>\n",
       "      <td>473</td>\n",
       "      <td>513469</td>\n",
       "      <td>12:55:27</td>\n",
       "      <td>78</td>\n",
       "      <td>Binondo,Metro Manila</td>\n",
       "      <td>2506</td>\n",
       "      <td>297528</td>\n",
       "      <td>9597</td>\n",
       "      <td>4.84</td>\n",
       "      <td>0</td>\n",
       "      <td>0</td>\n",
       "    </tr>\n",
       "    <tr>\n",
       "      <th>744</th>\n",
       "      <td>2021070629392066</td>\n",
       "      <td>2021-07-06</td>\n",
       "      <td>29392066</td>\n",
       "      <td>Clairecvc Shop</td>\n",
       "      <td>August</td>\n",
       "      <td>2</td>\n",
       "      <td>2017</td>\n",
       "      <td>964</td>\n",
       "      <td>44029</td>\n",
       "      <td>12:19:44</td>\n",
       "      <td>73</td>\n",
       "      <td>Binondo,Metro Manila</td>\n",
       "      <td>1960</td>\n",
       "      <td>103289</td>\n",
       "      <td>3982</td>\n",
       "      <td>4.78</td>\n",
       "      <td>0</td>\n",
       "      <td>0</td>\n",
       "    </tr>\n",
       "    <tr>\n",
       "      <th>745</th>\n",
       "      <td>2021070625811092</td>\n",
       "      <td>2021-07-06</td>\n",
       "      <td>25811092</td>\n",
       "      <td>angelcity.ð</td>\n",
       "      <td>June</td>\n",
       "      <td>17</td>\n",
       "      <td>2017</td>\n",
       "      <td>272</td>\n",
       "      <td>868370</td>\n",
       "      <td>10:02:42</td>\n",
       "      <td>36</td>\n",
       "      <td>Pasay City,Metro Manila</td>\n",
       "      <td>13401</td>\n",
       "      <td>708666</td>\n",
       "      <td>30799</td>\n",
       "      <td>4.77</td>\n",
       "      <td>0</td>\n",
       "      <td>0</td>\n",
       "    </tr>\n",
       "  </tbody>\n",
       "</table>\n",
       "<p>327 rows × 18 columns</p>\n",
       "</div>"
      ],
      "text/plain": [
       "               pk_shop date_collected     shopid                         name  \\\n",
       "1    20210613314198143     2021-06-13  314198143              love.women.shop   \n",
       "2     2021061310377223     2021-06-13   10377223                R&O RedOrange   \n",
       "3     2021061321407329     2021-06-13   21407329                  patriciacai   \n",
       "4     2021061311187885     2021-06-13   11187885         Little Market Manila   \n",
       "8    20210613312874722     2021-06-13  312874722     Shopping Center boutique   \n",
       "..                 ...            ...        ...                          ...   \n",
       "734   2021070650114777     2021-07-06   50114777  BCUA Lingerie Bra and Panty   \n",
       "739   2021070664360491     2021-07-06   64360491                    Yzkzks.ph   \n",
       "740   2021070616590993     2021-07-06   16590993                  Adol Janet    \n",
       "744   2021070629392066     2021-07-06   29392066               Clairecvc Shop   \n",
       "745   2021070625811092     2021-07-06   25811092               angelcity.ð   \n",
       "\n",
       "    join_month  join_day  join_year  item_count  follower_count response_time  \\\n",
       "1    September        25       2020         263            8574      10:43:05   \n",
       "2    September        27       2016         209          660417      08:32:07   \n",
       "3        April        30       2017         165           18787      09:10:38   \n",
       "4      October        18       2016         467           67371      11:40:59   \n",
       "8    September        22       2020         286          110539      10:14:49   \n",
       "..         ...       ...        ...         ...             ...           ...   \n",
       "734   December        28       2017         534          113865      11:16:00   \n",
       "739      April         9       2018         650           80591      10:41:36   \n",
       "740   February        14       2017         473          513469      12:55:27   \n",
       "744     August         2       2017         964           44029      12:19:44   \n",
       "745       June        17       2017         272          868370      10:02:42   \n",
       "\n",
       "     response_rate               shop location  rating_bad  rating_good  \\\n",
       "1               73    San Nicolas,Metro Manila          78         2656   \n",
       "2               90     Pasay City,Metro Manila        4647      1071829   \n",
       "3               94        Binondo,Metro Manila          44        18959   \n",
       "4               89  Caloocan City,Metro Manila         680        39252   \n",
       "8               76    San Nicolas,Metro Manila         679        28651   \n",
       "..             ...                         ...         ...          ...   \n",
       "734             55     Pasay City,Metro Manila        6389       325315   \n",
       "739             92     Pasay City,Metro Manila         385        55669   \n",
       "740             78        Binondo,Metro Manila        2506       297528   \n",
       "744             73        Binondo,Metro Manila        1960       103289   \n",
       "745             36     Pasay City,Metro Manila       13401       708666   \n",
       "\n",
       "     rating_normal  rating_star  is_shopee_verified  is_official_shop  \n",
       "1              198         4.68                   0                 0  \n",
       "2            18073         4.91                   1                 0  \n",
       "3              215         4.94                   1                 0  \n",
       "4             2383         4.73                   1                 0  \n",
       "8             2027         4.70                   1                 0  \n",
       "..             ...          ...                 ...               ...  \n",
       "734          14994         4.77                   0                 0  \n",
       "739           1161         4.89                   0                 0  \n",
       "740           9597         4.84                   0                 0  \n",
       "744           3982         4.78                   0                 0  \n",
       "745          30799         4.77                   0                 0  \n",
       "\n",
       "[327 rows x 18 columns]"
      ]
     },
     "execution_count": 77,
     "metadata": {},
     "output_type": "execute_result"
    }
   ],
   "source": [
    "data.query(\"`shop location`.str.contains('Manila')==True\") #Dùng dấu `...` cho tên cột có chứa ký tự đặc biệt"
   ]
  },
  {
   "cell_type": "markdown",
   "id": "53877179-34be-46b7-b6a7-d5c706433cd0",
   "metadata": {
    "tags": []
   },
   "source": [
    "## 2. Gom nhóm dữ liệu"
   ]
  },
  {
   "cell_type": "markdown",
   "id": "d31ab28b-1003-4345-aa99-5663ccdfca6d",
   "metadata": {},
   "source": [
    "**Nhóm – groupby là một hình thức tổng hợp dữ liệu theo chiến lược tách-áp dụng-kết hợp. Đầu tiên dữ liệu được chia thành các nhóm giống nhau rồi áp dụng các phép toán tổng hợp như mean, min, max, count, sum… trên mỗi nhóm và kết hợp các kết quả từ mỗi nhóm.** \n",
    "<font color='red' size=\"5\" >**df.groupby(‘Thuộc tính cần phân nhóm’)[‘Thuộc tính cần tính giá trị’].phép toán()**</font>  "
   ]
  },
  {
   "cell_type": "markdown",
   "id": "bc05ca02-dc31-4635-bcd0-2f16e85cdcd9",
   "metadata": {},
   "source": [
    "**Ví dụ 1: Lập bảng số lượng sản phẩm theo tên của shop**  "
   ]
  },
  {
   "cell_type": "code",
   "execution_count": 79,
   "id": "6b48d1a0-8592-423b-a4a6-9fdc54488582",
   "metadata": {},
   "outputs": [
    {
     "data": {
      "text/plain": [
       "name\n",
       " Youku Shangyi fashion store       771\n",
       " Zanzea Women's Apparel           1567\n",
       "(MEILUN)Men's Fashion              128\n",
       "1989minishop                       242\n",
       "5ngyzt5ebj                         199\n",
       "                                  ... \n",
       "zhufeng2.ph                        437\n",
       "â­ï¸Pink Star Korea Fashion      382\n",
       "å°é¾ä¸åââæ¥ç¨ç¾è´§     118\n",
       "ð¿ Peppermint Shop              4206\n",
       "ðTrendy girlð                 99\n",
       "Name: item_count, Length: 391, dtype: int64"
      ]
     },
     "execution_count": 79,
     "metadata": {},
     "output_type": "execute_result"
    }
   ],
   "source": [
    "data.groupby('name')['item_count'].sum()"
   ]
  },
  {
   "cell_type": "markdown",
   "id": "e4d6e0e2-037b-4074-8809-03795bb07038",
   "metadata": {},
   "source": [
    "**Ví dụ 2: Lập bảng tính tổng số lượng đánh giá của shop**  \n",
    "<font color='red' size=\"5\" >**df.groupby(‘Thuộc tính cần phân nhóm’)[‘Thuộc tính cần tính giá trị’].phép toán()**</font> "
   ]
  },
  {
   "cell_type": "code",
   "execution_count": 80,
   "id": "e6cc3845-0334-4355-99db-b4f28d56c0f3",
   "metadata": {},
   "outputs": [
    {
     "name": "stderr",
     "output_type": "stream",
     "text": [
      "C:\\Users\\Hamilton\\AppData\\Local\\Temp\\ipykernel_10596\\4156264070.py:1: FutureWarning: Indexing with multiple keys (implicitly converted to a tuple of keys) will be deprecated, use a list instead.\n",
      "  data.groupby('name')['rating_bad','rating_good','rating_normal'].sum()\n"
     ]
    },
    {
     "data": {
      "text/html": [
       "<div>\n",
       "<style scoped>\n",
       "    .dataframe tbody tr th:only-of-type {\n",
       "        vertical-align: middle;\n",
       "    }\n",
       "\n",
       "    .dataframe tbody tr th {\n",
       "        vertical-align: top;\n",
       "    }\n",
       "\n",
       "    .dataframe thead th {\n",
       "        text-align: right;\n",
       "    }\n",
       "</style>\n",
       "<table border=\"1\" class=\"dataframe\">\n",
       "  <thead>\n",
       "    <tr style=\"text-align: right;\">\n",
       "      <th></th>\n",
       "      <th>rating_bad</th>\n",
       "      <th>rating_good</th>\n",
       "      <th>rating_normal</th>\n",
       "    </tr>\n",
       "    <tr>\n",
       "      <th>name</th>\n",
       "      <th></th>\n",
       "      <th></th>\n",
       "      <th></th>\n",
       "    </tr>\n",
       "  </thead>\n",
       "  <tbody>\n",
       "    <tr>\n",
       "      <th>Youku Shangyi fashion store</th>\n",
       "      <td>0</td>\n",
       "      <td>22</td>\n",
       "      <td>1</td>\n",
       "    </tr>\n",
       "    <tr>\n",
       "      <th>Zanzea Women's Apparel</th>\n",
       "      <td>14</td>\n",
       "      <td>505</td>\n",
       "      <td>15</td>\n",
       "    </tr>\n",
       "    <tr>\n",
       "      <th>(MEILUN)Men's Fashion</th>\n",
       "      <td>5</td>\n",
       "      <td>81</td>\n",
       "      <td>9</td>\n",
       "    </tr>\n",
       "    <tr>\n",
       "      <th>1989minishop</th>\n",
       "      <td>569</td>\n",
       "      <td>39376</td>\n",
       "      <td>1934</td>\n",
       "    </tr>\n",
       "    <tr>\n",
       "      <th>5ngyzt5ebj</th>\n",
       "      <td>264</td>\n",
       "      <td>10800</td>\n",
       "      <td>530</td>\n",
       "    </tr>\n",
       "    <tr>\n",
       "      <th>...</th>\n",
       "      <td>...</td>\n",
       "      <td>...</td>\n",
       "      <td>...</td>\n",
       "    </tr>\n",
       "    <tr>\n",
       "      <th>zhufeng2.ph</th>\n",
       "      <td>14</td>\n",
       "      <td>1375</td>\n",
       "      <td>67</td>\n",
       "    </tr>\n",
       "    <tr>\n",
       "      <th>â­ï¸Pink Star Korea Fashion</th>\n",
       "      <td>144</td>\n",
       "      <td>16561</td>\n",
       "      <td>457</td>\n",
       "    </tr>\n",
       "    <tr>\n",
       "      <th>å°é¾ä¸åââæ¥ç¨ç¾è´§</th>\n",
       "      <td>0</td>\n",
       "      <td>2</td>\n",
       "      <td>0</td>\n",
       "    </tr>\n",
       "    <tr>\n",
       "      <th>ð¿ Peppermint Shop</th>\n",
       "      <td>71</td>\n",
       "      <td>6026</td>\n",
       "      <td>185</td>\n",
       "    </tr>\n",
       "    <tr>\n",
       "      <th>ðTrendy girlð</th>\n",
       "      <td>0</td>\n",
       "      <td>96</td>\n",
       "      <td>0</td>\n",
       "    </tr>\n",
       "  </tbody>\n",
       "</table>\n",
       "<p>391 rows × 3 columns</p>\n",
       "</div>"
      ],
      "text/plain": [
       "                                rating_bad  rating_good  rating_normal\n",
       "name                                                                  \n",
       " Youku Shangyi fashion store             0           22              1\n",
       " Zanzea Women's Apparel                 14          505             15\n",
       "(MEILUN)Men's Fashion                    5           81              9\n",
       "1989minishop                           569        39376           1934\n",
       "5ngyzt5ebj                             264        10800            530\n",
       "...                                    ...          ...            ...\n",
       "zhufeng2.ph                             14         1375             67\n",
       "â­ï¸Pink Star Korea Fashion          144        16561            457\n",
       "å°é¾ä¸åââæ¥ç¨ç¾è´§           0            2              0\n",
       "ð¿ Peppermint Shop                    71         6026            185\n",
       "ðTrendy girlð                      0           96              0\n",
       "\n",
       "[391 rows x 3 columns]"
      ]
     },
     "execution_count": 80,
     "metadata": {},
     "output_type": "execute_result"
    }
   ],
   "source": [
    "data.groupby('name')['rating_bad','rating_good','rating_normal'].sum()"
   ]
  },
  {
   "cell_type": "markdown",
   "id": "24a31298-9343-48fe-8b81-3f8e4f507ff6",
   "metadata": {},
   "source": [
    "**Ví dụ 3: Xuất ra số lượng các shop thành lập theo năm**  \n",
    "<font color='red' size=\"5\" >**df.groupby(‘Thuộc tính cần phân nhóm’)[‘Thuộc tính cần tính giá trị’].phép toán()**</font> "
   ]
  },
  {
   "cell_type": "code",
   "execution_count": 81,
   "id": "b552cd20-07c5-412b-804c-9ddab45dded0",
   "metadata": {},
   "outputs": [
    {
     "data": {
      "text/plain": [
       "join_year\n",
       "2015      4\n",
       "2016     27\n",
       "2017    156\n",
       "2018     87\n",
       "2019    106\n",
       "2020    247\n",
       "2021    119\n",
       "Name: shopid, dtype: int64"
      ]
     },
     "execution_count": 81,
     "metadata": {},
     "output_type": "execute_result"
    }
   ],
   "source": [
    "data.groupby('join_year')['shopid'].count()"
   ]
  },
  {
   "cell_type": "code",
   "execution_count": 83,
   "id": "ae90984a-7256-4842-8528-211a4227fc9b",
   "metadata": {},
   "outputs": [
    {
     "data": {
      "text/plain": [
       "join_year\n",
       "2015      4\n",
       "2016     27\n",
       "2017    156\n",
       "2018     87\n",
       "2019    106\n",
       "2020    247\n",
       "2021    119\n",
       "Name: pk_shop, dtype: int64"
      ]
     },
     "execution_count": 83,
     "metadata": {},
     "output_type": "execute_result"
    }
   ],
   "source": [
    "data.groupby('join_year')['pk_shop'].count()"
   ]
  },
  {
   "cell_type": "markdown",
   "id": "4a92469d-005e-4dd3-8368-c0c192c330f1",
   "metadata": {
    "tags": []
   },
   "source": [
    "## 3. Sinh dữ liệu từ các cột đã có"
   ]
  }
 ],
 "metadata": {
  "kernelspec": {
   "display_name": "Python 3 (ipykernel)",
   "language": "python",
   "name": "python3"
  },
  "language_info": {
   "codemirror_mode": {
    "name": "ipython",
    "version": 3
   },
   "file_extension": ".py",
   "mimetype": "text/x-python",
   "name": "python",
   "nbconvert_exporter": "python",
   "pygments_lexer": "ipython3",
   "version": "3.9.12"
  }
 },
 "nbformat": 4,
 "nbformat_minor": 5
}
