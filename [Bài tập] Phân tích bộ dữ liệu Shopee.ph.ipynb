{
 "cells": [
  {
   "cell_type": "markdown",
   "id": "35edab44-6aaa-4738-95fd-37549bfb6d14",
   "metadata": {},
   "source": [
    "## [Bài tập] Phân tích bộ dữ liệu Shopee.ph"
   ]
  },
  {
   "cell_type": "markdown",
   "id": "851fb20c-fc90-4a2a-a743-a2f58be7663e",
   "metadata": {},
   "source": [
    "## Vẽ biểu đồ so sánh số lượng shop gia nhập theo các năm."
   ]
  },
  {
   "cell_type": "code",
   "execution_count": 2,
   "id": "a798365e-86d8-4de4-ba46-6f8cc0b9fee1",
   "metadata": {},
   "outputs": [
    {
     "name": "stdout",
     "output_type": "stream",
     "text": [
      "Khai báo thư viện thành công\n"
     ]
    }
   ],
   "source": [
    "import pandas as pd\n",
    "from matplotlib import pyplot as plt\n",
    "import numpy as np\n",
    "import ipywidgets as widgets\n",
    "print('Khai báo thư viện thành công')\n",
    "#Nhập dữ liệu\n",
    "data = pd.read_csv('shopeep_koreantop_clothing_shop_data.csv', header=0,encoding= 'ISO-8859-1')"
   ]
  },
  {
   "cell_type": "markdown",
   "id": "eca56012-7359-4fea-bb39-9409cb6bfa82",
   "metadata": {
    "tags": []
   },
   "source": [
    "## Vẽ biểu đồ so sánh số lượng shop gia nhập theo các năm."
   ]
  },
  {
   "cell_type": "code",
   "execution_count": 63,
   "id": "d8dcd6cd-2111-4539-b38e-2a966c24cd70",
   "metadata": {},
   "outputs": [
    {
     "data": {
      "text/plain": [
       "2020    247\n",
       "2017    156\n",
       "2021    119\n",
       "2019    106\n",
       "2018     87\n",
       "2016     27\n",
       "2015      4\n",
       "Name: join_year, dtype: int64"
      ]
     },
     "execution_count": 63,
     "metadata": {},
     "output_type": "execute_result"
    }
   ],
   "source": [
    "a =[2020,2017, 2021, 2019,2018,2016,2015]\n",
    "data1 = data.iloc[:,6].value_counts()\n",
    "data1"
   ]
  },
  {
   "cell_type": "code",
   "execution_count": 62,
   "id": "a9abc51e-5679-45f1-abdb-d579a881293e",
   "metadata": {},
   "outputs": [
    {
     "data": {
      "image/png": "[encoded data removed]",
      "text/plain": [
       "<Figure size 432x288 with 1 Axes>"
      ]
     },
     "metadata": {
      "needs_background": "light"
     },
     "output_type": "display_data"
    }
   ],
   "source": [
    "plt.bar(a, data1)\n",
    "plt.show()"
   ]
  },
  {
   "cell_type": "markdown",
   "id": "77708515-406b-410a-87df-7f53823d7663",
   "metadata": {},
   "source": [
    "## Vẽ biểu đồ thể hiện mối quan hệ giữa tỉ lệ phản hồi với số lượt khách hàng đánh giá tốt."
   ]
  },
  {
   "cell_type": "code",
   "execution_count": 65,
   "id": "0dee7cf2-88f4-4d02-b6bc-9aba3de2fef0",
   "metadata": {},
   "outputs": [
    {
     "data": {
      "text/html": [
       "<div>\n",
       "<style scoped>\n",
       "    .dataframe tbody tr th:only-of-type {\n",
       "        vertical-align: middle;\n",
       "    }\n",
       "\n",
       "    .dataframe tbody tr th {\n",
       "        vertical-align: top;\n",
       "    }\n",
       "\n",
       "    .dataframe thead th {\n",
       "        text-align: right;\n",
       "    }\n",
       "</style>\n",
       "<table border=\"1\" class=\"dataframe\">\n",
       "  <thead>\n",
       "    <tr style=\"text-align: right;\">\n",
       "      <th></th>\n",
       "      <th>response_rate</th>\n",
       "      <th>rating_good</th>\n",
       "      <th>shopid</th>\n",
       "    </tr>\n",
       "  </thead>\n",
       "  <tbody>\n",
       "    <tr>\n",
       "      <th>0</th>\n",
       "      <td>96</td>\n",
       "      <td>17510</td>\n",
       "      <td>254711738</td>\n",
       "    </tr>\n",
       "    <tr>\n",
       "      <th>1</th>\n",
       "      <td>73</td>\n",
       "      <td>2656</td>\n",
       "      <td>314198143</td>\n",
       "    </tr>\n",
       "    <tr>\n",
       "      <th>2</th>\n",
       "      <td>90</td>\n",
       "      <td>1071829</td>\n",
       "      <td>10377223</td>\n",
       "    </tr>\n",
       "    <tr>\n",
       "      <th>3</th>\n",
       "      <td>94</td>\n",
       "      <td>18959</td>\n",
       "      <td>21407329</td>\n",
       "    </tr>\n",
       "    <tr>\n",
       "      <th>4</th>\n",
       "      <td>89</td>\n",
       "      <td>39252</td>\n",
       "      <td>11187885</td>\n",
       "    </tr>\n",
       "    <tr>\n",
       "      <th>...</th>\n",
       "      <td>...</td>\n",
       "      <td>...</td>\n",
       "      <td>...</td>\n",
       "    </tr>\n",
       "    <tr>\n",
       "      <th>741</th>\n",
       "      <td>86</td>\n",
       "      <td>32</td>\n",
       "      <td>449182992</td>\n",
       "    </tr>\n",
       "    <tr>\n",
       "      <th>742</th>\n",
       "      <td>91</td>\n",
       "      <td>9</td>\n",
       "      <td>396605392</td>\n",
       "    </tr>\n",
       "    <tr>\n",
       "      <th>743</th>\n",
       "      <td>96</td>\n",
       "      <td>463</td>\n",
       "      <td>360379308</td>\n",
       "    </tr>\n",
       "    <tr>\n",
       "      <th>744</th>\n",
       "      <td>73</td>\n",
       "      <td>103289</td>\n",
       "      <td>29392066</td>\n",
       "    </tr>\n",
       "    <tr>\n",
       "      <th>745</th>\n",
       "      <td>36</td>\n",
       "      <td>708666</td>\n",
       "      <td>25811092</td>\n",
       "    </tr>\n",
       "  </tbody>\n",
       "</table>\n",
       "<p>746 rows × 3 columns</p>\n",
       "</div>"
      ],
      "text/plain": [
       "     response_rate  rating_good     shopid\n",
       "0               96        17510  254711738\n",
       "1               73         2656  314198143\n",
       "2               90      1071829   10377223\n",
       "3               94        18959   21407329\n",
       "4               89        39252   11187885\n",
       "..             ...          ...        ...\n",
       "741             86           32  449182992\n",
       "742             91            9  396605392\n",
       "743             96          463  360379308\n",
       "744             73       103289   29392066\n",
       "745             36       708666   25811092\n",
       "\n",
       "[746 rows x 3 columns]"
      ]
     },
     "execution_count": 65,
     "metadata": {},
     "output_type": "execute_result"
    }
   ],
   "source": [
    "data.loc[:,['response_rate','rating_good','shopid']]"
   ]
  },
  {
   "cell_type": "markdown",
   "id": "42249627-9082-4113-b90c-45b890bc8118",
   "metadata": {},
   "source": [
    "## Vẽ biểu đồ thể hiện mối quan hệ giữa thời gian phản hồi (đơn vị giây) với số lượt khách hàng đánh giá xấu."
   ]
  },
  {
   "cell_type": "markdown",
   "id": "7a1960a9-a661-4edf-8fdc-e9828789c2e3",
   "metadata": {},
   "source": [
    "## Vẽ biểu đồ thể hiện xu hướng của số lượng shop gia nhập theo thời gian."
   ]
  },
  {
   "cell_type": "markdown",
   "id": "0116872e-15d3-4bbf-963f-9f5960239f60",
   "metadata": {},
   "source": [
    "## Vẽ biểu đồ thể hiện phân bố của điểm đánh giá trung bình. "
   ]
  },
  {
   "cell_type": "code",
   "execution_count": null,
   "id": "ffc98a0c-efd0-477d-8d52-ca5483ccec27",
   "metadata": {},
   "outputs": [],
   "source": []
  }
 ],
 "metadata": {
  "kernelspec": {
   "display_name": "Python 3 (ipykernel)",
   "language": "python",
   "name": "python3"
  },
  "language_info": {
   "codemirror_mode": {
    "name": "ipython",
    "version": 3
   },
   "file_extension": ".py",
   "mimetype": "text/x-python",
   "name": "python",
   "nbconvert_exporter": "python",
   "pygments_lexer": "ipython3",
   "version": "3.9.12"
  }
 },
 "nbformat": 4,
 "nbformat_minor": 5
}
