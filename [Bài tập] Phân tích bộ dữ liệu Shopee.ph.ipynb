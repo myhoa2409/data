{
 "cells": [
  {
   "cell_type": "markdown",
   "id": "35edab44-6aaa-4738-95fd-37549bfb6d14",
   "metadata": {},
   "source": [
    "## [Bài tập] Phân tích bộ dữ liệu Shopee.ph"
   ]
  },
  {
   "cell_type": "markdown",
   "id": "851fb20c-fc90-4a2a-a743-a2f58be7663e",
   "metadata": {},
   "source": [
    "## Vẽ biểu đồ so sánh số lượng shop gia nhập theo các năm."
   ]
  },
  {
   "cell_type": "code",
   "execution_count": 33,
   "id": "a798365e-86d8-4de4-ba46-6f8cc0b9fee1",
   "metadata": {},
   "outputs": [
    {
     "name": "stdout",
     "output_type": "stream",
     "text": [
      "Khai báo thư viện thành công\n"
     ]
    }
   ],
   "source": [
    "import pandas as pd\n",
    "from matplotlib import pyplot as plt\n",
    "import numpy as np\n",
    "import ipywidgets as widgets\n",
    "print('Khai báo thư viện thành công')\n",
    "#Nhập dữ liệu\n",
    "data = pd.read_csv('shopeep_koreantop_clothing_shop_data.csv', header=0,encoding= 'ISO-8859-1')"
   ]
  },
  {
   "cell_type": "code",
   "execution_count": 40,
   "id": "d2170ede-93bc-49be-89c5-101d61643f4b",
   "metadata": {},
   "outputs": [
    {
     "ename": "SyntaxError",
     "evalue": "invalid syntax (2554887370.py, line 2)",
     "output_type": "error",
     "traceback": [
      "\u001b[1;36m  Input \u001b[1;32mIn [40]\u001b[1;36m\u001b[0m\n\u001b[1;33m    y = data.[:,(data.loc[:,'join_year']==2017).count()]\u001b[0m\n\u001b[1;37m             ^\u001b[0m\n\u001b[1;31mSyntaxError\u001b[0m\u001b[1;31m:\u001b[0m invalid syntax\n"
     ]
    }
   ],
   "source": [
    "a = data.loc[:,'join_year'].unique()\n",
    "y = (data.loc[:,'join_year']==2017).count()]\n",
    "y"
   ]
  },
  {
   "cell_type": "code",
   "execution_count": null,
   "id": "89a46b94-d4d4-497b-9067-76fe80f592d4",
   "metadata": {},
   "outputs": [],
   "source": [
    "data1 = pd.DataFrame({'year': a, 'join': d11['Price'])\n",
    "data1"
   ]
  }
 ],
 "metadata": {
  "kernelspec": {
   "display_name": "Python 3 (ipykernel)",
   "language": "python",
   "name": "python3"
  },
  "language_info": {
   "codemirror_mode": {
    "name": "ipython",
    "version": 3
   },
   "file_extension": ".py",
   "mimetype": "text/x-python",
   "name": "python",
   "nbconvert_exporter": "python",
   "pygments_lexer": "ipython3",
   "version": "3.9.12"
  }
 },
 "nbformat": 4,
 "nbformat_minor": 5
}
