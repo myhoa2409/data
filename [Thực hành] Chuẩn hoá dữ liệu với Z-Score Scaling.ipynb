{
 "cells": [
  {
   "cell_type": "code",
   "execution_count": 1,
   "id": "289b3243-700f-4139-a3b6-84c140edd113",
   "metadata": {},
   "outputs": [],
   "source": [
    "#khai báo thư viện\n",
    "import pandas as pd\n",
    "import numpy as np\n",
    "import matplotlib.pyplot as plt\n",
    "import seaborn as sns\n",
    "from sklearn.preprocessing import StandardScaler"
   ]
  },
  {
   "cell_type": "code",
   "execution_count": 3,
   "id": "d3ad6c2f-471d-4055-a3b9-6abf1fe4d339",
   "metadata": {},
   "outputs": [
    {
     "data": {
      "text/html": [
       "<div>\n",
       "<style scoped>\n",
       "    .dataframe tbody tr th:only-of-type {\n",
       "        vertical-align: middle;\n",
       "    }\n",
       "\n",
       "    .dataframe tbody tr th {\n",
       "        vertical-align: top;\n",
       "    }\n",
       "\n",
       "    .dataframe thead th {\n",
       "        text-align: right;\n",
       "    }\n",
       "</style>\n",
       "<table border=\"1\" class=\"dataframe\">\n",
       "  <thead>\n",
       "    <tr style=\"text-align: right;\">\n",
       "      <th></th>\n",
       "      <th>beta</th>\n",
       "      <th>exponential</th>\n",
       "      <th>normal_p</th>\n",
       "      <th>normal_l</th>\n",
       "    </tr>\n",
       "  </thead>\n",
       "  <tbody>\n",
       "    <tr>\n",
       "      <th>0</th>\n",
       "      <td>34.008319</td>\n",
       "      <td>11.607943</td>\n",
       "      <td>9.312596</td>\n",
       "      <td>2.452278</td>\n",
       "    </tr>\n",
       "    <tr>\n",
       "      <th>1</th>\n",
       "      <td>39.680335</td>\n",
       "      <td>3.414421</td>\n",
       "      <td>13.472720</td>\n",
       "      <td>19.455454</td>\n",
       "    </tr>\n",
       "    <tr>\n",
       "      <th>2</th>\n",
       "      <td>40.751499</td>\n",
       "      <td>2.913277</td>\n",
       "      <td>9.509745</td>\n",
       "      <td>-2.445863</td>\n",
       "    </tr>\n",
       "    <tr>\n",
       "      <th>3</th>\n",
       "      <td>59.509936</td>\n",
       "      <td>37.731433</td>\n",
       "      <td>7.273268</td>\n",
       "      <td>7.511788</td>\n",
       "    </tr>\n",
       "    <tr>\n",
       "      <th>4</th>\n",
       "      <td>53.157095</td>\n",
       "      <td>8.772961</td>\n",
       "      <td>13.156973</td>\n",
       "      <td>7.114968</td>\n",
       "    </tr>\n",
       "    <tr>\n",
       "      <th>...</th>\n",
       "      <td>...</td>\n",
       "      <td>...</td>\n",
       "      <td>...</td>\n",
       "      <td>...</td>\n",
       "    </tr>\n",
       "    <tr>\n",
       "      <th>995</th>\n",
       "      <td>58.011008</td>\n",
       "      <td>3.179617</td>\n",
       "      <td>11.016338</td>\n",
       "      <td>9.512077</td>\n",
       "    </tr>\n",
       "    <tr>\n",
       "      <th>996</th>\n",
       "      <td>33.020503</td>\n",
       "      <td>21.988040</td>\n",
       "      <td>8.186139</td>\n",
       "      <td>-7.646987</td>\n",
       "    </tr>\n",
       "    <tr>\n",
       "      <th>997</th>\n",
       "      <td>55.246473</td>\n",
       "      <td>3.409014</td>\n",
       "      <td>12.898883</td>\n",
       "      <td>6.987093</td>\n",
       "    </tr>\n",
       "    <tr>\n",
       "      <th>998</th>\n",
       "      <td>45.923585</td>\n",
       "      <td>61.752628</td>\n",
       "      <td>9.915872</td>\n",
       "      <td>2.048731</td>\n",
       "    </tr>\n",
       "    <tr>\n",
       "      <th>999</th>\n",
       "      <td>43.440997</td>\n",
       "      <td>3.011300</td>\n",
       "      <td>10.383862</td>\n",
       "      <td>10.012699</td>\n",
       "    </tr>\n",
       "  </tbody>\n",
       "</table>\n",
       "<p>1000 rows × 4 columns</p>\n",
       "</div>"
      ],
      "text/plain": [
       "          beta  exponential   normal_p   normal_l\n",
       "0    34.008319    11.607943   9.312596   2.452278\n",
       "1    39.680335     3.414421  13.472720  19.455454\n",
       "2    40.751499     2.913277   9.509745  -2.445863\n",
       "3    59.509936    37.731433   7.273268   7.511788\n",
       "4    53.157095     8.772961  13.156973   7.114968\n",
       "..         ...          ...        ...        ...\n",
       "995  58.011008     3.179617  11.016338   9.512077\n",
       "996  33.020503    21.988040   8.186139  -7.646987\n",
       "997  55.246473     3.409014  12.898883   6.987093\n",
       "998  45.923585    61.752628   9.915872   2.048731\n",
       "999  43.440997     3.011300  10.383862  10.012699\n",
       "\n",
       "[1000 rows x 4 columns]"
      ]
     },
     "execution_count": 3,
     "metadata": {},
     "output_type": "execute_result"
    }
   ],
   "source": [
    "#Khởi tạo dữ liệu\n",
    "# tạo các cột theo các phần phối khác nhau\n",
    "df = pd.DataFrame({ \n",
    "    'beta': np.random.beta(5, 1, 1000) * 60,        # beta\n",
    "    'exponential': np.random.exponential(10, 1000), # exponential\n",
    "    'normal_p': np.random.normal(10, 2, 1000),      # normal platykurtic\n",
    "    'normal_l': np.random.normal(10, 10, 1000),     # normal leptokurtic\n",
    "})\n",
    "df"
   ]
  },
  {
   "cell_type": "code",
   "execution_count": 4,
   "id": "1c36655b-b198-4d8e-99b4-8323831e7731",
   "metadata": {},
   "outputs": [],
   "source": [
    "# thêm dữ liệu được tạo theo phân phối nhị thức\n",
    "first_half = np.random.normal(20, 3, 500) \n",
    "second_half = np.random.normal(-20, 3, 500) \n",
    "bimodal = np.concatenate([first_half, second_half])\n",
    "\n",
    "df['bimodal'] = bimodal"
   ]
  },
  {
   "cell_type": "code",
   "execution_count": 5,
   "id": "96565a4d-d20f-4581-9a79-5cadfa968c7d",
   "metadata": {},
   "outputs": [
    {
     "data": {
      "text/html": [
       "<div>\n",
       "<style scoped>\n",
       "    .dataframe tbody tr th:only-of-type {\n",
       "        vertical-align: middle;\n",
       "    }\n",
       "\n",
       "    .dataframe tbody tr th {\n",
       "        vertical-align: top;\n",
       "    }\n",
       "\n",
       "    .dataframe thead th {\n",
       "        text-align: right;\n",
       "    }\n",
       "</style>\n",
       "<table border=\"1\" class=\"dataframe\">\n",
       "  <thead>\n",
       "    <tr style=\"text-align: right;\">\n",
       "      <th></th>\n",
       "      <th>beta</th>\n",
       "      <th>exponential</th>\n",
       "      <th>normal_p</th>\n",
       "      <th>normal_l</th>\n",
       "      <th>bimodal</th>\n",
       "    </tr>\n",
       "  </thead>\n",
       "  <tbody>\n",
       "    <tr>\n",
       "      <th>0</th>\n",
       "      <td>34.008319</td>\n",
       "      <td>11.607943</td>\n",
       "      <td>9.312596</td>\n",
       "      <td>2.452278</td>\n",
       "      <td>25.002588</td>\n",
       "    </tr>\n",
       "    <tr>\n",
       "      <th>1</th>\n",
       "      <td>39.680335</td>\n",
       "      <td>3.414421</td>\n",
       "      <td>13.472720</td>\n",
       "      <td>19.455454</td>\n",
       "      <td>16.866562</td>\n",
       "    </tr>\n",
       "    <tr>\n",
       "      <th>2</th>\n",
       "      <td>40.751499</td>\n",
       "      <td>2.913277</td>\n",
       "      <td>9.509745</td>\n",
       "      <td>-2.445863</td>\n",
       "      <td>14.673435</td>\n",
       "    </tr>\n",
       "    <tr>\n",
       "      <th>3</th>\n",
       "      <td>59.509936</td>\n",
       "      <td>37.731433</td>\n",
       "      <td>7.273268</td>\n",
       "      <td>7.511788</td>\n",
       "      <td>17.508238</td>\n",
       "    </tr>\n",
       "    <tr>\n",
       "      <th>4</th>\n",
       "      <td>53.157095</td>\n",
       "      <td>8.772961</td>\n",
       "      <td>13.156973</td>\n",
       "      <td>7.114968</td>\n",
       "      <td>19.337662</td>\n",
       "    </tr>\n",
       "  </tbody>\n",
       "</table>\n",
       "</div>"
      ],
      "text/plain": [
       "        beta  exponential   normal_p   normal_l    bimodal\n",
       "0  34.008319    11.607943   9.312596   2.452278  25.002588\n",
       "1  39.680335     3.414421  13.472720  19.455454  16.866562\n",
       "2  40.751499     2.913277   9.509745  -2.445863  14.673435\n",
       "3  59.509936    37.731433   7.273268   7.511788  17.508238\n",
       "4  53.157095     8.772961  13.156973   7.114968  19.337662"
      ]
     },
     "execution_count": 5,
     "metadata": {},
     "output_type": "execute_result"
    }
   ],
   "source": [
    "# hiển thị dữ liệu\n",
    "df.head()"
   ]
  },
  {
   "cell_type": "code",
   "execution_count": 6,
   "id": "7e956664-4cbc-4cef-85db-262d5000cbdd",
   "metadata": {},
   "outputs": [
    {
     "data": {
      "text/plain": [
       "<AxesSubplot:ylabel='Density'>"
      ]
     },
     "execution_count": 6,
     "metadata": {},
     "output_type": "execute_result"
    },
    {
     "data": {
      "image/png": "[encoded data removed]",
      "text/plain": [
       "<Figure size 432x288 with 1 Axes>"
      ]
     },
     "metadata": {
      "needs_background": "light"
     },
     "output_type": "display_data"
    }
   ],
   "source": [
    "#Trực quan hóa dữ liệu sinh ra\n",
    "sns.kdeplot(data=df)"
   ]
  },
  {
   "cell_type": "code",
   "execution_count": 7,
   "id": "79b330dc-a670-4b69-a1ae-978c4a342b2e",
   "metadata": {},
   "outputs": [
    {
     "data": {
      "text/html": [
       "<div>\n",
       "<style scoped>\n",
       "    .dataframe tbody tr th:only-of-type {\n",
       "        vertical-align: middle;\n",
       "    }\n",
       "\n",
       "    .dataframe tbody tr th {\n",
       "        vertical-align: top;\n",
       "    }\n",
       "\n",
       "    .dataframe thead th {\n",
       "        text-align: right;\n",
       "    }\n",
       "</style>\n",
       "<table border=\"1\" class=\"dataframe\">\n",
       "  <thead>\n",
       "    <tr style=\"text-align: right;\">\n",
       "      <th></th>\n",
       "      <th>beta</th>\n",
       "      <th>exponential</th>\n",
       "      <th>normal_p</th>\n",
       "      <th>normal_l</th>\n",
       "      <th>bimodal</th>\n",
       "    </tr>\n",
       "  </thead>\n",
       "  <tbody>\n",
       "    <tr>\n",
       "      <th>count</th>\n",
       "      <td>1000.000000</td>\n",
       "      <td>1000.000000</td>\n",
       "      <td>1000.000000</td>\n",
       "      <td>1000.000000</td>\n",
       "      <td>1000.000000</td>\n",
       "    </tr>\n",
       "    <tr>\n",
       "      <th>mean</th>\n",
       "      <td>50.150145</td>\n",
       "      <td>9.993734</td>\n",
       "      <td>9.966772</td>\n",
       "      <td>10.016096</td>\n",
       "      <td>-0.187405</td>\n",
       "    </tr>\n",
       "    <tr>\n",
       "      <th>std</th>\n",
       "      <td>8.225316</td>\n",
       "      <td>10.188036</td>\n",
       "      <td>1.953338</td>\n",
       "      <td>9.888011</td>\n",
       "      <td>20.105362</td>\n",
       "    </tr>\n",
       "    <tr>\n",
       "      <th>min</th>\n",
       "      <td>17.663565</td>\n",
       "      <td>0.009348</td>\n",
       "      <td>2.785715</td>\n",
       "      <td>-23.595167</td>\n",
       "      <td>-28.908013</td>\n",
       "    </tr>\n",
       "    <tr>\n",
       "      <th>25%</th>\n",
       "      <td>45.966950</td>\n",
       "      <td>2.909994</td>\n",
       "      <td>8.649861</td>\n",
       "      <td>2.836868</td>\n",
       "      <td>-19.955451</td>\n",
       "    </tr>\n",
       "    <tr>\n",
       "      <th>50%</th>\n",
       "      <td>52.529331</td>\n",
       "      <td>6.727853</td>\n",
       "      <td>10.009586</td>\n",
       "      <td>10.185329</td>\n",
       "      <td>-1.201542</td>\n",
       "    </tr>\n",
       "    <tr>\n",
       "      <th>75%</th>\n",
       "      <td>56.444922</td>\n",
       "      <td>14.070738</td>\n",
       "      <td>11.262268</td>\n",
       "      <td>16.798995</td>\n",
       "      <td>19.609753</td>\n",
       "    </tr>\n",
       "    <tr>\n",
       "      <th>max</th>\n",
       "      <td>59.980202</td>\n",
       "      <td>99.931581</td>\n",
       "      <td>16.246590</td>\n",
       "      <td>38.297499</td>\n",
       "      <td>29.314866</td>\n",
       "    </tr>\n",
       "  </tbody>\n",
       "</table>\n",
       "</div>"
      ],
      "text/plain": [
       "              beta  exponential     normal_p     normal_l      bimodal\n",
       "count  1000.000000  1000.000000  1000.000000  1000.000000  1000.000000\n",
       "mean     50.150145     9.993734     9.966772    10.016096    -0.187405\n",
       "std       8.225316    10.188036     1.953338     9.888011    20.105362\n",
       "min      17.663565     0.009348     2.785715   -23.595167   -28.908013\n",
       "25%      45.966950     2.909994     8.649861     2.836868   -19.955451\n",
       "50%      52.529331     6.727853    10.009586    10.185329    -1.201542\n",
       "75%      56.444922    14.070738    11.262268    16.798995    19.609753\n",
       "max      59.980202    99.931581    16.246590    38.297499    29.314866"
      ]
     },
     "execution_count": 7,
     "metadata": {},
     "output_type": "execute_result"
    }
   ],
   "source": [
    "df.describe()"
   ]
  },
  {
   "cell_type": "code",
   "execution_count": 9,
   "id": "36ee6de1-7a7d-4fab-a26f-e9752afffc7b",
   "metadata": {},
   "outputs": [
    {
     "data": {
      "text/plain": [
       "<AxesSubplot:ylabel='Density'>"
      ]
     },
     "execution_count": 9,
     "metadata": {},
     "output_type": "execute_result"
    },
    {
     "data": {
      "image/png": "[encoded data removed]",
      "text/plain": [
       "<Figure size 432x288 with 1 Axes>"
      ]
     },
     "metadata": {
      "needs_background": "light"
     },
     "output_type": "display_data"
    }
   ],
   "source": [
    "#Thêm một đặc trưng với giá trị lớn hơn nhiều\n",
    "#Khi thêm đặc trưng này, \n",
    "#do giá trị của chúng khác xa với khoảng giá trị ban đầu nên nếu ta biểu diễn bằng đồ thị thì các dữ liệu lúc trước sẽ co cụm lại 1 bênIn [ ]:\n",
    "\n",
    "normal_big = np.random.normal(1000000, 10000, (1000,1))  # normal distribution of large values\n",
    "df['normal_big'] = normal_big\n",
    "sns.kdeplot(data=df)"
   ]
  },
  {
   "cell_type": "code",
   "execution_count": 10,
   "id": "f4273ebf-6830-4eba-a6a1-58c846b5f7e0",
   "metadata": {},
   "outputs": [
    {
     "data": {
      "text/plain": [
       "<AxesSubplot:>"
      ]
     },
     "execution_count": 10,
     "metadata": {},
     "output_type": "execute_result"
    },
    {
     "data": {
      "image/png": "[encoded data removed]",
      "text/plain": [
       "<Figure size 432x288 with 1 Axes>"
      ]
     },
     "metadata": {
      "needs_background": "light"
     },
     "output_type": "display_data"
    }
   ],
   "source": [
    "# trực quan hóa bằng biểu đồ box plot\n",
    "df.boxplot()"
   ]
  },
  {
   "cell_type": "code",
   "execution_count": 13,
   "id": "7af2c2bf-3ffc-4bb7-9359-f1b7e9ad61e1",
   "metadata": {},
   "outputs": [],
   "source": [
    "# Khai báo đối tượng StandardScaler\n",
    "s_scaler = StandardScaler()\n",
    "\n",
    "# Chuẩn hóa dữ liệu trong df với StandardScaler\n",
    "df_s = s_scaler.fit_transform(df)\n",
    "\n",
    "# lấy danh sáchc cột\n",
    "col_names = list(df.columns)\n",
    "\n",
    "# chuyển về DataFrame, gán các cột của df cho dữ liệu đã được chuẩn hóa\n",
    "df_s = pd.DataFrame(df_s, columns=col_names)"
   ]
  },
  {
   "cell_type": "code",
   "execution_count": 14,
   "id": "a78939bd-e832-4db1-bbbd-c65e00812ffe",
   "metadata": {},
   "outputs": [
    {
     "data": {
      "text/html": [
       "<div>\n",
       "<style scoped>\n",
       "    .dataframe tbody tr th:only-of-type {\n",
       "        vertical-align: middle;\n",
       "    }\n",
       "\n",
       "    .dataframe tbody tr th {\n",
       "        vertical-align: top;\n",
       "    }\n",
       "\n",
       "    .dataframe thead th {\n",
       "        text-align: right;\n",
       "    }\n",
       "</style>\n",
       "<table border=\"1\" class=\"dataframe\">\n",
       "  <thead>\n",
       "    <tr style=\"text-align: right;\">\n",
       "      <th></th>\n",
       "      <th>beta</th>\n",
       "      <th>exponential</th>\n",
       "      <th>normal_p</th>\n",
       "      <th>normal_l</th>\n",
       "      <th>bimodal</th>\n",
       "      <th>normal_big</th>\n",
       "    </tr>\n",
       "  </thead>\n",
       "  <tbody>\n",
       "    <tr>\n",
       "      <th>0</th>\n",
       "      <td>-1.963439</td>\n",
       "      <td>0.158521</td>\n",
       "      <td>-0.335070</td>\n",
       "      <td>-0.765331</td>\n",
       "      <td>1.253526</td>\n",
       "      <td>-0.770262</td>\n",
       "    </tr>\n",
       "    <tr>\n",
       "      <th>1</th>\n",
       "      <td>-1.273513</td>\n",
       "      <td>-0.646111</td>\n",
       "      <td>1.795748</td>\n",
       "      <td>0.955104</td>\n",
       "      <td>0.848654</td>\n",
       "      <td>0.739570</td>\n",
       "    </tr>\n",
       "    <tr>\n",
       "      <th>2</th>\n",
       "      <td>-1.143220</td>\n",
       "      <td>-0.695325</td>\n",
       "      <td>-0.234090</td>\n",
       "      <td>-1.260941</td>\n",
       "      <td>0.739518</td>\n",
       "      <td>-0.077771</td>\n",
       "    </tr>\n",
       "    <tr>\n",
       "      <th>3</th>\n",
       "      <td>1.138494</td>\n",
       "      <td>2.723938</td>\n",
       "      <td>-1.379614</td>\n",
       "      <td>-0.253394</td>\n",
       "      <td>0.880586</td>\n",
       "      <td>1.147576</td>\n",
       "    </tr>\n",
       "    <tr>\n",
       "      <th>4</th>\n",
       "      <td>0.365756</td>\n",
       "      <td>-0.119884</td>\n",
       "      <td>1.634022</td>\n",
       "      <td>-0.293545</td>\n",
       "      <td>0.971623</td>\n",
       "      <td>1.684993</td>\n",
       "    </tr>\n",
       "  </tbody>\n",
       "</table>\n",
       "</div>"
      ],
      "text/plain": [
       "       beta  exponential  normal_p  normal_l   bimodal  normal_big\n",
       "0 -1.963439     0.158521 -0.335070 -0.765331  1.253526   -0.770262\n",
       "1 -1.273513    -0.646111  1.795748  0.955104  0.848654    0.739570\n",
       "2 -1.143220    -0.695325 -0.234090 -1.260941  0.739518   -0.077771\n",
       "3  1.138494     2.723938 -1.379614 -0.253394  0.880586    1.147576\n",
       "4  0.365756    -0.119884  1.634022 -0.293545  0.971623    1.684993"
      ]
     },
     "execution_count": 14,
     "metadata": {},
     "output_type": "execute_result"
    }
   ],
   "source": [
    "df_s.head()"
   ]
  },
  {
   "cell_type": "code",
   "execution_count": 15,
   "id": "677a33a5-189a-427a-bd63-df2cc37b52e1",
   "metadata": {},
   "outputs": [
    {
     "data": {
      "text/plain": [
       "<AxesSubplot:ylabel='Density'>"
      ]
     },
     "execution_count": 15,
     "metadata": {},
     "output_type": "execute_result"
    },
    {
     "data": {
      "image/png": "[encoded data removed]",
      "text/plain": [
       "<Figure size 432x288 with 1 Axes>"
      ]
     },
     "metadata": {
      "needs_background": "light"
     },
     "output_type": "display_data"
    }
   ],
   "source": [
    "# biểu diễn dữ liệu đã được chuẩn hóa\n",
    "sns.kdeplot(data=df_s)"
   ]
  },
  {
   "cell_type": "code",
   "execution_count": 16,
   "id": "361261c5-bc8c-4cda-889d-fb60629c9739",
   "metadata": {},
   "outputs": [
    {
     "data": {
      "text/html": [
       "<div>\n",
       "<style scoped>\n",
       "    .dataframe tbody tr th:only-of-type {\n",
       "        vertical-align: middle;\n",
       "    }\n",
       "\n",
       "    .dataframe tbody tr th {\n",
       "        vertical-align: top;\n",
       "    }\n",
       "\n",
       "    .dataframe thead th {\n",
       "        text-align: right;\n",
       "    }\n",
       "</style>\n",
       "<table border=\"1\" class=\"dataframe\">\n",
       "  <thead>\n",
       "    <tr style=\"text-align: right;\">\n",
       "      <th></th>\n",
       "      <th>beta</th>\n",
       "      <th>exponential</th>\n",
       "      <th>normal_p</th>\n",
       "      <th>normal_l</th>\n",
       "      <th>bimodal</th>\n",
       "      <th>normal_big</th>\n",
       "    </tr>\n",
       "  </thead>\n",
       "  <tbody>\n",
       "    <tr>\n",
       "      <th>count</th>\n",
       "      <td>1.000000e+03</td>\n",
       "      <td>1.000000e+03</td>\n",
       "      <td>1.000000e+03</td>\n",
       "      <td>1.000000e+03</td>\n",
       "      <td>1.000000e+03</td>\n",
       "      <td>1.000000e+03</td>\n",
       "    </tr>\n",
       "    <tr>\n",
       "      <th>mean</th>\n",
       "      <td>-2.413625e-16</td>\n",
       "      <td>9.370282e-17</td>\n",
       "      <td>7.808754e-16</td>\n",
       "      <td>-1.228455e-16</td>\n",
       "      <td>-2.936540e-16</td>\n",
       "      <td>9.191536e-15</td>\n",
       "    </tr>\n",
       "    <tr>\n",
       "      <th>std</th>\n",
       "      <td>1.000500e+00</td>\n",
       "      <td>1.000500e+00</td>\n",
       "      <td>1.000500e+00</td>\n",
       "      <td>1.000500e+00</td>\n",
       "      <td>1.000500e+00</td>\n",
       "      <td>1.000500e+00</td>\n",
       "    </tr>\n",
       "    <tr>\n",
       "      <th>min</th>\n",
       "      <td>-3.951561e+00</td>\n",
       "      <td>-9.805013e-01</td>\n",
       "      <td>-3.678141e+00</td>\n",
       "      <td>-3.400894e+00</td>\n",
       "      <td>-1.429220e+00</td>\n",
       "      <td>-3.806012e+00</td>\n",
       "    </tr>\n",
       "    <tr>\n",
       "      <th>25%</th>\n",
       "      <td>-5.088300e-01</td>\n",
       "      <td>-6.956478e-01</td>\n",
       "      <td>-6.745224e-01</td>\n",
       "      <td>-7.264170e-01</td>\n",
       "      <td>-9.837146e-01</td>\n",
       "      <td>-6.488910e-01</td>\n",
       "    </tr>\n",
       "    <tr>\n",
       "      <th>50%</th>\n",
       "      <td>2.893964e-01</td>\n",
       "      <td>-3.207208e-01</td>\n",
       "      <td>2.192902e-02</td>\n",
       "      <td>1.712355e-02</td>\n",
       "      <td>-5.046636e-02</td>\n",
       "      <td>5.779975e-02</td>\n",
       "    </tr>\n",
       "    <tr>\n",
       "      <th>75%</th>\n",
       "      <td>7.656760e-01</td>\n",
       "      <td>4.003759e-01</td>\n",
       "      <td>6.635534e-01</td>\n",
       "      <td>6.863153e-01</td>\n",
       "      <td>9.851632e-01</td>\n",
       "      <td>6.708076e-01</td>\n",
       "    </tr>\n",
       "    <tr>\n",
       "      <th>max</th>\n",
       "      <td>1.195696e+00</td>\n",
       "      <td>8.832208e+00</td>\n",
       "      <td>3.216525e+00</td>\n",
       "      <td>2.861602e+00</td>\n",
       "      <td>1.468117e+00</td>\n",
       "      <td>2.985190e+00</td>\n",
       "    </tr>\n",
       "  </tbody>\n",
       "</table>\n",
       "</div>"
      ],
      "text/plain": [
       "               beta   exponential      normal_p      normal_l       bimodal  \\\n",
       "count  1.000000e+03  1.000000e+03  1.000000e+03  1.000000e+03  1.000000e+03   \n",
       "mean  -2.413625e-16  9.370282e-17  7.808754e-16 -1.228455e-16 -2.936540e-16   \n",
       "std    1.000500e+00  1.000500e+00  1.000500e+00  1.000500e+00  1.000500e+00   \n",
       "min   -3.951561e+00 -9.805013e-01 -3.678141e+00 -3.400894e+00 -1.429220e+00   \n",
       "25%   -5.088300e-01 -6.956478e-01 -6.745224e-01 -7.264170e-01 -9.837146e-01   \n",
       "50%    2.893964e-01 -3.207208e-01  2.192902e-02  1.712355e-02 -5.046636e-02   \n",
       "75%    7.656760e-01  4.003759e-01  6.635534e-01  6.863153e-01  9.851632e-01   \n",
       "max    1.195696e+00  8.832208e+00  3.216525e+00  2.861602e+00  1.468117e+00   \n",
       "\n",
       "         normal_big  \n",
       "count  1.000000e+03  \n",
       "mean   9.191536e-15  \n",
       "std    1.000500e+00  \n",
       "min   -3.806012e+00  \n",
       "25%   -6.488910e-01  \n",
       "50%    5.779975e-02  \n",
       "75%    6.708076e-01  \n",
       "max    2.985190e+00  "
      ]
     },
     "execution_count": 16,
     "metadata": {},
     "output_type": "execute_result"
    }
   ],
   "source": [
    "# thống kê về dữ liệu được sinh ra\n",
    "df_s.describe()"
   ]
  },
  {
   "cell_type": "code",
   "execution_count": 17,
   "id": "aa351c90-b1b4-470e-9ddc-98c5cba57b29",
   "metadata": {},
   "outputs": [
    {
     "data": {
      "text/plain": [
       "<AxesSubplot:>"
      ]
     },
     "execution_count": 17,
     "metadata": {},
     "output_type": "execute_result"
    },
    {
     "data": {
      "image/png": "[encoded data removed]",
      "text/plain": [
       "<Figure size 432x288 with 1 Axes>"
      ]
     },
     "metadata": {
      "needs_background": "light"
     },
     "output_type": "display_data"
    }
   ],
   "source": [
    "# trực quan hóa bằng biểu đồ box plot\n",
    "df_s.boxplot()"
   ]
  },
  {
   "cell_type": "code",
   "execution_count": null,
   "id": "a4687b21-fa30-498b-931c-2e0c2a25033c",
   "metadata": {},
   "outputs": [],
   "source": []
  }
 ],
 "metadata": {
  "kernelspec": {
   "display_name": "Python 3 (ipykernel)",
   "language": "python",
   "name": "python3"
  },
  "language_info": {
   "codemirror_mode": {
    "name": "ipython",
    "version": 3
   },
   "file_extension": ".py",
   "mimetype": "text/x-python",
   "name": "python",
   "nbconvert_exporter": "python",
   "pygments_lexer": "ipython3",
   "version": "3.9.12"
  }
 },
 "nbformat": 4,
 "nbformat_minor": 5
}
