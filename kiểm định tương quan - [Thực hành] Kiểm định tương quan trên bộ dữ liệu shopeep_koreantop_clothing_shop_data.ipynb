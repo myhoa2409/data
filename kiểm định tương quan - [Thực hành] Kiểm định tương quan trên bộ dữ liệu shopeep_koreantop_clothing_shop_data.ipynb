{
 "cells": [
  {
   "cell_type": "markdown",
   "id": "15c35581-6609-44d0-b933-6d58c0a57352",
   "metadata": {},
   "source": [
    "## [Thực hành] Kiểm định tương quan trên bộ dữ liệu shopeep_koreantop_clothing_shop_data"
   ]
  },
  {
   "cell_type": "code",
   "execution_count": 1,
   "id": "6f0e159a-7d3c-407f-b6d0-c72399a74184",
   "metadata": {},
   "outputs": [],
   "source": [
    "import pandas as pd\n",
    "from scipy import  stats\n",
    "\n",
    "df = pd.read_csv(\"shopeep_koreantop_clothing_shop_data.csv\", encoding=\"UTF-8\")"
   ]
  },
  {
   "cell_type": "code",
   "execution_count": 2,
   "id": "378540b4-d869-4c40-b4ab-840be51e9f28",
   "metadata": {},
   "outputs": [
    {
     "name": "stdout",
     "output_type": "stream",
     "text": [
      "(0.027490059846301044, 0.4552522676325689)\n"
     ]
    }
   ],
   "source": [
    "df1 = df.filter([\"rating_star\", \"follower_count\"])\n",
    "df1 = df1.dropna()\n",
    "print(stats.pearsonr(df1.rating_star, df1.follower_count))"
   ]
  },
  {
   "cell_type": "code",
   "execution_count": 3,
   "id": "d3d30f13-a4f3-41d8-8acf-1da628f303ab",
   "metadata": {},
   "outputs": [
    {
     "name": "stdout",
     "output_type": "stream",
     "text": [
      "(-0.03732626070920733, 0.3105727616062792)\n"
     ]
    }
   ],
   "source": [
    "df1 = df.filter([\"rating_star\", \"item_count\"])\n",
    "df1 = df1.dropna()\n",
    "print(stats.pearsonr(df1.rating_star, df1.item_count))"
   ]
  },
  {
   "cell_type": "code",
   "execution_count": null,
   "id": "be652094-aab0-42a8-9718-a0c019f0d29f",
   "metadata": {},
   "outputs": [],
   "source": []
  }
 ],
 "metadata": {
  "kernelspec": {
   "display_name": "Python 3 (ipykernel)",
   "language": "python",
   "name": "python3"
  },
  "language_info": {
   "codemirror_mode": {
    "name": "ipython",
    "version": 3
   },
   "file_extension": ".py",
   "mimetype": "text/x-python",
   "name": "python",
   "nbconvert_exporter": "python",
   "pygments_lexer": "ipython3",
   "version": "3.9.12"
  }
 },
 "nbformat": 4,
 "nbformat_minor": 5
}
