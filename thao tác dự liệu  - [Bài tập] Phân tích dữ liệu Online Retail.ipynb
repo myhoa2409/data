{
 "cells": [
  {
   "cell_type": "markdown",
   "id": "a4fd1efc-4ff1-4870-95ee-adc0d9eb7041",
   "metadata": {},
   "source": [
    "## Đọc bộ dữ liệu, cho biết số dòng, số cột và kiểu dữ liệu của các thuộc tính."
   ]
  },
  {
   "cell_type": "markdown",
   "id": "7a00bcfb-d875-40fe-9c62-968ab7adf8d2",
   "metadata": {},
   "source": [
    "## Tạo cột mới có tên quý –  ‘Previous’ nhận giá trị 1 nếu ngày lập hóa đơn nằm trong các tháng 1,2,3; nhận giá trị 2 nếu ngày lập hóa đơn nằm trong các tháng 4,5,6; nhận giá trị 3 nếu ngày lập hóa đơn nằm trong các tháng 7,8,9;  nhận giá trị 4 nếu ngày lập hóa đơn nằm trong các tháng 10,11,12;"
   ]
  },
  {
   "cell_type": "markdown",
   "id": "c314a753-4d46-4d8a-845a-e03ffcae5411",
   "metadata": {},
   "source": [
    "## Tạo một cột mới có tên ‘Amount’ có giá trị bằng Quantity * UnitPrice"
   ]
  },
  {
   "cell_type": "code",
   "execution_count": null,
   "id": "4fed4503-e473-4bcc-83ee-3d3bb9b30dc2",
   "metadata": {},
   "outputs": [],
   "source": []
  }
 ],
 "metadata": {
  "kernelspec": {
   "display_name": "Python 3 (ipykernel)",
   "language": "python",
   "name": "python3"
  },
  "language_info": {
   "codemirror_mode": {
    "name": "ipython",
    "version": 3
   },
   "file_extension": ".py",
   "mimetype": "text/x-python",
   "name": "python",
   "nbconvert_exporter": "python",
   "pygments_lexer": "ipython3",
   "version": "3.9.12"
  }
 },
 "nbformat": 4,
 "nbformat_minor": 5
}
